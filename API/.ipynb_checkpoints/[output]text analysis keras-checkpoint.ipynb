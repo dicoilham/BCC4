{
 "cells": [
  {
   "cell_type": "code",
   "execution_count": 5,
   "metadata": {
    "colab": {
     "base_uri": "https://localhost:8080/"
    },
    "executionInfo": {
     "elapsed": 3777,
     "status": "ok",
     "timestamp": 1662032867663,
     "user": {
      "displayName": "Nilam mufidah",
      "userId": "02981889232249357983"
     },
     "user_tz": -420
    },
    "id": "AyqkLXChNx3S",
    "outputId": "ca2d1ac1-5832-48d3-e9ff-00423250f72d"
   },
   "outputs": [
    {
     "name": "stdout",
     "output_type": "stream",
     "text": [
      "Collecting seaborn\n",
      "  Downloading seaborn-0.12.1-py3-none-any.whl (288 kB)\n",
      "     ------------------------------------ 288.2/288.2 kB 808.1 kB/s eta 0:00:00\n",
      "Requirement already satisfied: numpy>=1.17 in c:\\users\\widya wicara\\miniconda3\\lib\\site-packages (from seaborn) (1.23.4)\n",
      "Requirement already satisfied: matplotlib!=3.6.1,>=3.1 in c:\\users\\widya wicara\\miniconda3\\lib\\site-packages (from seaborn) (3.6.2)\n",
      "Requirement already satisfied: pandas>=0.25 in c:\\users\\widya wicara\\miniconda3\\lib\\site-packages (from seaborn) (1.5.1)\n",
      "Requirement already satisfied: python-dateutil>=2.7 in c:\\users\\widya wicara\\miniconda3\\lib\\site-packages (from matplotlib!=3.6.1,>=3.1->seaborn) (2.8.2)\n",
      "Requirement already satisfied: pillow>=6.2.0 in c:\\users\\widya wicara\\miniconda3\\lib\\site-packages (from matplotlib!=3.6.1,>=3.1->seaborn) (9.3.0)\n",
      "Requirement already satisfied: pyparsing>=2.2.1 in c:\\users\\widya wicara\\miniconda3\\lib\\site-packages (from matplotlib!=3.6.1,>=3.1->seaborn) (3.0.9)\n",
      "Requirement already satisfied: fonttools>=4.22.0 in c:\\users\\widya wicara\\miniconda3\\lib\\site-packages (from matplotlib!=3.6.1,>=3.1->seaborn) (4.38.0)\n",
      "Requirement already satisfied: packaging>=20.0 in c:\\users\\widya wicara\\miniconda3\\lib\\site-packages (from matplotlib!=3.6.1,>=3.1->seaborn) (21.3)\n",
      "Requirement already satisfied: kiwisolver>=1.0.1 in c:\\users\\widya wicara\\miniconda3\\lib\\site-packages (from matplotlib!=3.6.1,>=3.1->seaborn) (1.4.4)\n",
      "Requirement already satisfied: contourpy>=1.0.1 in c:\\users\\widya wicara\\miniconda3\\lib\\site-packages (from matplotlib!=3.6.1,>=3.1->seaborn) (1.0.6)\n",
      "Requirement already satisfied: cycler>=0.10 in c:\\users\\widya wicara\\miniconda3\\lib\\site-packages (from matplotlib!=3.6.1,>=3.1->seaborn) (0.11.0)\n",
      "Requirement already satisfied: pytz>=2020.1 in c:\\users\\widya wicara\\miniconda3\\lib\\site-packages (from pandas>=0.25->seaborn) (2022.6)\n",
      "Requirement already satisfied: six>=1.5 in c:\\users\\widya wicara\\miniconda3\\lib\\site-packages (from python-dateutil>=2.7->matplotlib!=3.6.1,>=3.1->seaborn) (1.16.0)\n",
      "Installing collected packages: seaborn\n",
      "Successfully installed seaborn-0.12.1\n"
     ]
    },
    {
     "name": "stderr",
     "output_type": "stream",
     "text": [
      "\n",
      "[notice] A new release of pip available: 22.3 -> 22.3.1\n",
      "[notice] To update, run: python.exe -m pip install --upgrade pip\n"
     ]
    }
   ],
   "source": [
    "!pip install seaborn"
   ]
  },
  {
   "cell_type": "code",
   "execution_count": null,
   "metadata": {
    "colab": {
     "base_uri": "https://localhost:8080/"
    },
    "executionInfo": {
     "elapsed": 4805,
     "status": "ok",
     "timestamp": 1662032872459,
     "user": {
      "displayName": "Nilam mufidah",
      "userId": "02981889232249357983"
     },
     "user_tz": -420
    },
    "id": "wwAFpEkEcB9L",
    "outputId": "91d6810c-3882-46ae-a083-500809b5d07a"
   },
   "outputs": [
    {
     "name": "stderr",
     "output_type": "stream",
     "text": [
      "[nltk_data] Downloading package punkt to C:\\Users\\Widya\n",
      "[nltk_data]     Wicara\\AppData\\Roaming\\nltk_data...\n"
     ]
    }
   ],
   "source": [
    "# Import Library yang akan dibutuhkan dalam teks analitik\n",
    "import pandas as pd\n",
    "import nltk\n",
    "import re\n",
    "from nltk.tokenize import word_tokenize\n",
    "from nltk.stem import WordNetLemmatizer\n",
    "from nltk.stem import PorterStemmer\n",
    "from nltk.corpus import stopwords\n",
    "from datetime import datetime\n",
    "import matplotlib.pyplot as plt\n",
    "%matplotlib inline\n",
    "from PIL import Image\n",
    "import seaborn as sns\n",
    "from nltk.util import ngrams\n",
    "from collections import defaultdict\n",
    "\n",
    "from Sastrawi.StopWordRemover.StopWordRemoverFactory import StopWordRemoverFactory\n",
    "from Sastrawi.Stemmer.StemmerFactory import StemmerFactory\n",
    "nltk.download('punkt')\n",
    "nltk.download('wordnet')\n",
    "\n",
    "import numpy as np\n",
    "import os"
   ]
  },
  {
   "cell_type": "code",
   "execution_count": 3,
   "metadata": {
    "colab": {
     "base_uri": "https://localhost:8080/"
    },
    "executionInfo": {
     "elapsed": 16,
     "status": "ok",
     "timestamp": 1662032872460,
     "user": {
      "displayName": "Nilam mufidah",
      "userId": "02981889232249357983"
     },
     "user_tz": -420
    },
    "id": "bVinjg4LIpwl",
    "outputId": "46cefb76-e74b-4179-82e8-d8ed19082992"
   },
   "outputs": [
    {
     "name": "stderr",
     "output_type": "stream",
     "text": [
      "[nltk_data] Downloading package omw-1.4 to /root/nltk_data...\n",
      "[nltk_data]   Package omw-1.4 is already up-to-date!\n"
     ]
    },
    {
     "data": {
      "text/plain": [
       "True"
      ]
     },
     "execution_count": 3,
     "metadata": {},
     "output_type": "execute_result"
    }
   ],
   "source": [
    "nltk.download('omw-1.4')"
   ]
  },
  {
   "cell_type": "code",
   "execution_count": 4,
   "metadata": {
    "colab": {
     "base_uri": "https://localhost:8080/"
    },
    "executionInfo": {
     "elapsed": 3212,
     "status": "ok",
     "timestamp": 1662032875662,
     "user": {
      "displayName": "Nilam mufidah",
      "userId": "02981889232249357983"
     },
     "user_tz": -420
    },
    "id": "JSxMVDpQYZAG",
    "outputId": "c92a7e52-0fcc-4b13-b23a-0c88c4ce4e14"
   },
   "outputs": [
    {
     "name": "stdout",
     "output_type": "stream",
     "text": [
      "Drive already mounted at /content/gdrive; to attempt to forcibly remount, call drive.mount(\"/content/gdrive\", force_remount=True).\n"
     ]
    }
   ],
   "source": [
    "from google.colab import drive\n",
    "drive.mount('/content/gdrive')"
   ]
  },
  {
   "cell_type": "code",
   "execution_count": 5,
   "metadata": {
    "colab": {
     "base_uri": "https://localhost:8080/"
    },
    "executionInfo": {
     "elapsed": 31,
     "status": "ok",
     "timestamp": 1662032875663,
     "user": {
      "displayName": "Nilam mufidah",
      "userId": "02981889232249357983"
     },
     "user_tz": -420
    },
    "id": "zbHpIWplSIQS",
    "outputId": "5cf32b48-13f4-492c-a4b7-4429268d79e5"
   },
   "outputs": [
    {
     "name": "stdout",
     "output_type": "stream",
     "text": [
      "gdrive\tsample_data\n"
     ]
    }
   ],
   "source": [
    "!ls"
   ]
  },
  {
   "cell_type": "code",
   "execution_count": 6,
   "metadata": {
    "executionInfo": {
     "elapsed": 26,
     "status": "ok",
     "timestamp": 1662032875664,
     "user": {
      "displayName": "Nilam mufidah",
      "userId": "02981889232249357983"
     },
     "user_tz": -420
    },
    "id": "ERxw6LV2cLT7"
   },
   "outputs": [],
   "source": [
    "name_path = \"/content/gdrive/MyDrive/narasio/materi fix/deploymen pertemuan 1/main room/\"\n",
    "name_file =\"indo_data50.csv\""
   ]
  },
  {
   "cell_type": "code",
   "execution_count": 7,
   "metadata": {
    "colab": {
     "base_uri": "https://localhost:8080/",
     "height": 206
    },
    "executionInfo": {
     "elapsed": 22,
     "status": "ok",
     "timestamp": 1662032875664,
     "user": {
      "displayName": "Nilam mufidah",
      "userId": "02981889232249357983"
     },
     "user_tz": -420
    },
    "id": "YS4tvyl2XbGM",
    "outputId": "6c83a9f8-26d7-4002-cf78-0abd30d6b87d"
   },
   "outputs": [
    {
     "data": {
      "text/html": [
       "\n",
       "  <div id=\"df-5678da46-2e64-4b14-baa8-d557c0161c95\">\n",
       "    <div class=\"colab-df-container\">\n",
       "      <div>\n",
       "<style scoped>\n",
       "    .dataframe tbody tr th:only-of-type {\n",
       "        vertical-align: middle;\n",
       "    }\n",
       "\n",
       "    .dataframe tbody tr th {\n",
       "        vertical-align: top;\n",
       "    }\n",
       "\n",
       "    .dataframe thead th {\n",
       "        text-align: right;\n",
       "    }\n",
       "</style>\n",
       "<table border=\"1\" class=\"dataframe\">\n",
       "  <thead>\n",
       "    <tr style=\"text-align: right;\">\n",
       "      <th></th>\n",
       "      <th>label</th>\n",
       "      <th>tweet</th>\n",
       "    </tr>\n",
       "  </thead>\n",
       "  <tbody>\n",
       "    <tr>\n",
       "      <th>45</th>\n",
       "      <td>happy</td>\n",
       "      <td>Z suka twitter soalny perempuan ji semua teman...</td>\n",
       "    </tr>\n",
       "    <tr>\n",
       "      <th>46</th>\n",
       "      <td>anger</td>\n",
       "      <td>Nggak ngerti lagi sama ciwi-ciwi yang nyinyiri...</td>\n",
       "    </tr>\n",
       "    <tr>\n",
       "      <th>47</th>\n",
       "      <td>anger</td>\n",
       "      <td>hari ini libur, rencananya mau nonton Jurassic...</td>\n",
       "    </tr>\n",
       "    <tr>\n",
       "      <th>48</th>\n",
       "      <td>anger</td>\n",
       "      <td>Nah ini, yg nunggu anak anteng dengan kesabara...</td>\n",
       "    </tr>\n",
       "    <tr>\n",
       "      <th>49</th>\n",
       "      <td>love</td>\n",
       "      <td>Ku rindu bisik mu di telingaku Seraya kau berk...</td>\n",
       "    </tr>\n",
       "  </tbody>\n",
       "</table>\n",
       "</div>\n",
       "      <button class=\"colab-df-convert\" onclick=\"convertToInteractive('df-5678da46-2e64-4b14-baa8-d557c0161c95')\"\n",
       "              title=\"Convert this dataframe to an interactive table.\"\n",
       "              style=\"display:none;\">\n",
       "        \n",
       "  <svg xmlns=\"http://www.w3.org/2000/svg\" height=\"24px\"viewBox=\"0 0 24 24\"\n",
       "       width=\"24px\">\n",
       "    <path d=\"M0 0h24v24H0V0z\" fill=\"none\"/>\n",
       "    <path d=\"M18.56 5.44l.94 2.06.94-2.06 2.06-.94-2.06-.94-.94-2.06-.94 2.06-2.06.94zm-11 1L8.5 8.5l.94-2.06 2.06-.94-2.06-.94L8.5 2.5l-.94 2.06-2.06.94zm10 10l.94 2.06.94-2.06 2.06-.94-2.06-.94-.94-2.06-.94 2.06-2.06.94z\"/><path d=\"M17.41 7.96l-1.37-1.37c-.4-.4-.92-.59-1.43-.59-.52 0-1.04.2-1.43.59L10.3 9.45l-7.72 7.72c-.78.78-.78 2.05 0 2.83L4 21.41c.39.39.9.59 1.41.59.51 0 1.02-.2 1.41-.59l7.78-7.78 2.81-2.81c.8-.78.8-2.07 0-2.86zM5.41 20L4 18.59l7.72-7.72 1.47 1.35L5.41 20z\"/>\n",
       "  </svg>\n",
       "      </button>\n",
       "      \n",
       "  <style>\n",
       "    .colab-df-container {\n",
       "      display:flex;\n",
       "      flex-wrap:wrap;\n",
       "      gap: 12px;\n",
       "    }\n",
       "\n",
       "    .colab-df-convert {\n",
       "      background-color: #E8F0FE;\n",
       "      border: none;\n",
       "      border-radius: 50%;\n",
       "      cursor: pointer;\n",
       "      display: none;\n",
       "      fill: #1967D2;\n",
       "      height: 32px;\n",
       "      padding: 0 0 0 0;\n",
       "      width: 32px;\n",
       "    }\n",
       "\n",
       "    .colab-df-convert:hover {\n",
       "      background-color: #E2EBFA;\n",
       "      box-shadow: 0px 1px 2px rgba(60, 64, 67, 0.3), 0px 1px 3px 1px rgba(60, 64, 67, 0.15);\n",
       "      fill: #174EA6;\n",
       "    }\n",
       "\n",
       "    [theme=dark] .colab-df-convert {\n",
       "      background-color: #3B4455;\n",
       "      fill: #D2E3FC;\n",
       "    }\n",
       "\n",
       "    [theme=dark] .colab-df-convert:hover {\n",
       "      background-color: #434B5C;\n",
       "      box-shadow: 0px 1px 3px 1px rgba(0, 0, 0, 0.15);\n",
       "      filter: drop-shadow(0px 1px 2px rgba(0, 0, 0, 0.3));\n",
       "      fill: #FFFFFF;\n",
       "    }\n",
       "  </style>\n",
       "\n",
       "      <script>\n",
       "        const buttonEl =\n",
       "          document.querySelector('#df-5678da46-2e64-4b14-baa8-d557c0161c95 button.colab-df-convert');\n",
       "        buttonEl.style.display =\n",
       "          google.colab.kernel.accessAllowed ? 'block' : 'none';\n",
       "\n",
       "        async function convertToInteractive(key) {\n",
       "          const element = document.querySelector('#df-5678da46-2e64-4b14-baa8-d557c0161c95');\n",
       "          const dataTable =\n",
       "            await google.colab.kernel.invokeFunction('convertToInteractive',\n",
       "                                                     [key], {});\n",
       "          if (!dataTable) return;\n",
       "\n",
       "          const docLinkHtml = 'Like what you see? Visit the ' +\n",
       "            '<a target=\"_blank\" href=https://colab.research.google.com/notebooks/data_table.ipynb>data table notebook</a>'\n",
       "            + ' to learn more about interactive tables.';\n",
       "          element.innerHTML = '';\n",
       "          dataTable['output_type'] = 'display_data';\n",
       "          await google.colab.output.renderOutput(dataTable, element);\n",
       "          const docLink = document.createElement('div');\n",
       "          docLink.innerHTML = docLinkHtml;\n",
       "          element.appendChild(docLink);\n",
       "        }\n",
       "      </script>\n",
       "    </div>\n",
       "  </div>\n",
       "  "
      ],
      "text/plain": [
       "    label                                              tweet\n",
       "45  happy  Z suka twitter soalny perempuan ji semua teman...\n",
       "46  anger  Nggak ngerti lagi sama ciwi-ciwi yang nyinyiri...\n",
       "47  anger  hari ini libur, rencananya mau nonton Jurassic...\n",
       "48  anger  Nah ini, yg nunggu anak anteng dengan kesabara...\n",
       "49   love  Ku rindu bisik mu di telingaku Seraya kau berk..."
      ]
     },
     "execution_count": 7,
     "metadata": {},
     "output_type": "execute_result"
    }
   ],
   "source": [
    "data = pd.read_csv(name_path + name_file)\n",
    "data.tail()"
   ]
  },
  {
   "cell_type": "markdown",
   "metadata": {
    "id": "AByP3XzuzASe"
   },
   "source": [
    "**Preprocessing Data**"
   ]
  },
  {
   "cell_type": "code",
   "execution_count": 8,
   "metadata": {
    "executionInfo": {
     "elapsed": 20,
     "status": "ok",
     "timestamp": 1662032875665,
     "user": {
      "displayName": "Nilam mufidah",
      "userId": "02981889232249357983"
     },
     "user_tz": -420
    },
    "id": "hOWfW_QHYqEr"
   },
   "outputs": [],
   "source": [
    "def data_cleaning(text):\n",
    "  # menghilangkan html tag\n",
    "  # Format html\n",
    "  html_tag = re.compile(r'<.*?>')\n",
    "  text = re.sub(html_tag, r'', text)\n",
    "\n",
    "  # menghilangkan url\n",
    "  # Format URL\n",
    "  http_link = re.compile(r'https://\\S+')\n",
    "  www_link = re.compile(r'www\\.\\S+')\n",
    "  text = re.sub(http_link, r'', text)\n",
    "  text = re.sub(www_link, r'', text)\n",
    "\n",
    "  # menghilangkan tanda baca\n",
    "  # Tanda baca yang tidak diperlukan\n",
    "  punctuation = re.compile(r'[^\\w\\s]')\n",
    "  text = re.sub(punctuation, r'', text)\n",
    "  \n",
    "  return text"
   ]
  },
  {
   "cell_type": "code",
   "execution_count": 9,
   "metadata": {
    "executionInfo": {
     "elapsed": 21,
     "status": "ok",
     "timestamp": 1662032875666,
     "user": {
      "displayName": "Nilam mufidah",
      "userId": "02981889232249357983"
     },
     "user_tz": -420
    },
    "id": "qpaxXTmZc5Bo"
   },
   "outputs": [],
   "source": [
    "#mendefinisikan nama kolom yang akan dipakai\n",
    "name_column_dataset = \"tweet\""
   ]
  },
  {
   "cell_type": "code",
   "execution_count": 10,
   "metadata": {
    "executionInfo": {
     "elapsed": 21,
     "status": "ok",
     "timestamp": 1662032875667,
     "user": {
      "displayName": "Nilam mufidah",
      "userId": "02981889232249357983"
     },
     "user_tz": -420
    },
    "id": "cXDe1MmXUm6T"
   },
   "outputs": [],
   "source": [
    "#cleaning data\n",
    "data[name_column_dataset] = data[name_column_dataset].apply(lambda x: x.lower())\n",
    "data[\"remove_punc\"] = data[name_column_dataset].apply(lambda x: data_cleaning(x))\n",
    "data[\"clean\"] = data[\"remove_punc\"].apply(lambda x: word_tokenize(x))"
   ]
  },
  {
   "cell_type": "code",
   "execution_count": 11,
   "metadata": {
    "colab": {
     "base_uri": "https://localhost:8080/",
     "height": 206
    },
    "executionInfo": {
     "elapsed": 21,
     "status": "ok",
     "timestamp": 1662032875668,
     "user": {
      "displayName": "Nilam mufidah",
      "userId": "02981889232249357983"
     },
     "user_tz": -420
    },
    "id": "pndXJLHmUp07",
    "outputId": "87ee5cc5-e2c9-473c-e1e6-a5ffbcd92ee7"
   },
   "outputs": [
    {
     "data": {
      "text/html": [
       "\n",
       "  <div id=\"df-797cc033-9014-4637-853c-13f3508ce4df\">\n",
       "    <div class=\"colab-df-container\">\n",
       "      <div>\n",
       "<style scoped>\n",
       "    .dataframe tbody tr th:only-of-type {\n",
       "        vertical-align: middle;\n",
       "    }\n",
       "\n",
       "    .dataframe tbody tr th {\n",
       "        vertical-align: top;\n",
       "    }\n",
       "\n",
       "    .dataframe thead th {\n",
       "        text-align: right;\n",
       "    }\n",
       "</style>\n",
       "<table border=\"1\" class=\"dataframe\">\n",
       "  <thead>\n",
       "    <tr style=\"text-align: right;\">\n",
       "      <th></th>\n",
       "      <th>label</th>\n",
       "      <th>tweet</th>\n",
       "      <th>remove_punc</th>\n",
       "      <th>clean</th>\n",
       "    </tr>\n",
       "  </thead>\n",
       "  <tbody>\n",
       "    <tr>\n",
       "      <th>0</th>\n",
       "      <td>anger</td>\n",
       "      <td>soal jln jatibaru,polisi tdk bs gertak gubernu...</td>\n",
       "      <td>soal jln jatibarupolisi tdk bs gertak gubernur...</td>\n",
       "      <td>[soal, jln, jatibarupolisi, tdk, bs, gertak, g...</td>\n",
       "    </tr>\n",
       "    <tr>\n",
       "      <th>1</th>\n",
       "      <td>anger</td>\n",
       "      <td>sesama cewe lho (kayaknya), harusnya bisa lebi...</td>\n",
       "      <td>sesama cewe lho kayaknya harusnya bisa lebih r...</td>\n",
       "      <td>[sesama, cewe, lho, kayaknya, harusnya, bisa, ...</td>\n",
       "    </tr>\n",
       "    <tr>\n",
       "      <th>2</th>\n",
       "      <td>happy</td>\n",
       "      <td>kepingin gudeg mbarek bu hj. amad foto dari go...</td>\n",
       "      <td>kepingin gudeg mbarek bu hj amad foto dari goo...</td>\n",
       "      <td>[kepingin, gudeg, mbarek, bu, hj, amad, foto, ...</td>\n",
       "    </tr>\n",
       "    <tr>\n",
       "      <th>3</th>\n",
       "      <td>anger</td>\n",
       "      <td>jln jatibaru,bagian dari wilayah tn abang.peng...</td>\n",
       "      <td>jln jatibarubagian dari wilayah tn abangpengat...</td>\n",
       "      <td>[jln, jatibarubagian, dari, wilayah, tn, abang...</td>\n",
       "    </tr>\n",
       "    <tr>\n",
       "      <th>4</th>\n",
       "      <td>happy</td>\n",
       "      <td>sharing pengalaman aja, kemarin jam 18.00 bata...</td>\n",
       "      <td>sharing pengalaman aja kemarin jam 1800 batali...</td>\n",
       "      <td>[sharing, pengalaman, aja, kemarin, jam, 1800,...</td>\n",
       "    </tr>\n",
       "  </tbody>\n",
       "</table>\n",
       "</div>\n",
       "      <button class=\"colab-df-convert\" onclick=\"convertToInteractive('df-797cc033-9014-4637-853c-13f3508ce4df')\"\n",
       "              title=\"Convert this dataframe to an interactive table.\"\n",
       "              style=\"display:none;\">\n",
       "        \n",
       "  <svg xmlns=\"http://www.w3.org/2000/svg\" height=\"24px\"viewBox=\"0 0 24 24\"\n",
       "       width=\"24px\">\n",
       "    <path d=\"M0 0h24v24H0V0z\" fill=\"none\"/>\n",
       "    <path d=\"M18.56 5.44l.94 2.06.94-2.06 2.06-.94-2.06-.94-.94-2.06-.94 2.06-2.06.94zm-11 1L8.5 8.5l.94-2.06 2.06-.94-2.06-.94L8.5 2.5l-.94 2.06-2.06.94zm10 10l.94 2.06.94-2.06 2.06-.94-2.06-.94-.94-2.06-.94 2.06-2.06.94z\"/><path d=\"M17.41 7.96l-1.37-1.37c-.4-.4-.92-.59-1.43-.59-.52 0-1.04.2-1.43.59L10.3 9.45l-7.72 7.72c-.78.78-.78 2.05 0 2.83L4 21.41c.39.39.9.59 1.41.59.51 0 1.02-.2 1.41-.59l7.78-7.78 2.81-2.81c.8-.78.8-2.07 0-2.86zM5.41 20L4 18.59l7.72-7.72 1.47 1.35L5.41 20z\"/>\n",
       "  </svg>\n",
       "      </button>\n",
       "      \n",
       "  <style>\n",
       "    .colab-df-container {\n",
       "      display:flex;\n",
       "      flex-wrap:wrap;\n",
       "      gap: 12px;\n",
       "    }\n",
       "\n",
       "    .colab-df-convert {\n",
       "      background-color: #E8F0FE;\n",
       "      border: none;\n",
       "      border-radius: 50%;\n",
       "      cursor: pointer;\n",
       "      display: none;\n",
       "      fill: #1967D2;\n",
       "      height: 32px;\n",
       "      padding: 0 0 0 0;\n",
       "      width: 32px;\n",
       "    }\n",
       "\n",
       "    .colab-df-convert:hover {\n",
       "      background-color: #E2EBFA;\n",
       "      box-shadow: 0px 1px 2px rgba(60, 64, 67, 0.3), 0px 1px 3px 1px rgba(60, 64, 67, 0.15);\n",
       "      fill: #174EA6;\n",
       "    }\n",
       "\n",
       "    [theme=dark] .colab-df-convert {\n",
       "      background-color: #3B4455;\n",
       "      fill: #D2E3FC;\n",
       "    }\n",
       "\n",
       "    [theme=dark] .colab-df-convert:hover {\n",
       "      background-color: #434B5C;\n",
       "      box-shadow: 0px 1px 3px 1px rgba(0, 0, 0, 0.15);\n",
       "      filter: drop-shadow(0px 1px 2px rgba(0, 0, 0, 0.3));\n",
       "      fill: #FFFFFF;\n",
       "    }\n",
       "  </style>\n",
       "\n",
       "      <script>\n",
       "        const buttonEl =\n",
       "          document.querySelector('#df-797cc033-9014-4637-853c-13f3508ce4df button.colab-df-convert');\n",
       "        buttonEl.style.display =\n",
       "          google.colab.kernel.accessAllowed ? 'block' : 'none';\n",
       "\n",
       "        async function convertToInteractive(key) {\n",
       "          const element = document.querySelector('#df-797cc033-9014-4637-853c-13f3508ce4df');\n",
       "          const dataTable =\n",
       "            await google.colab.kernel.invokeFunction('convertToInteractive',\n",
       "                                                     [key], {});\n",
       "          if (!dataTable) return;\n",
       "\n",
       "          const docLinkHtml = 'Like what you see? Visit the ' +\n",
       "            '<a target=\"_blank\" href=https://colab.research.google.com/notebooks/data_table.ipynb>data table notebook</a>'\n",
       "            + ' to learn more about interactive tables.';\n",
       "          element.innerHTML = '';\n",
       "          dataTable['output_type'] = 'display_data';\n",
       "          await google.colab.output.renderOutput(dataTable, element);\n",
       "          const docLink = document.createElement('div');\n",
       "          docLink.innerHTML = docLinkHtml;\n",
       "          element.appendChild(docLink);\n",
       "        }\n",
       "      </script>\n",
       "    </div>\n",
       "  </div>\n",
       "  "
      ],
      "text/plain": [
       "   label                                              tweet  \\\n",
       "0  anger  soal jln jatibaru,polisi tdk bs gertak gubernu...   \n",
       "1  anger  sesama cewe lho (kayaknya), harusnya bisa lebi...   \n",
       "2  happy  kepingin gudeg mbarek bu hj. amad foto dari go...   \n",
       "3  anger  jln jatibaru,bagian dari wilayah tn abang.peng...   \n",
       "4  happy  sharing pengalaman aja, kemarin jam 18.00 bata...   \n",
       "\n",
       "                                         remove_punc  \\\n",
       "0  soal jln jatibarupolisi tdk bs gertak gubernur...   \n",
       "1  sesama cewe lho kayaknya harusnya bisa lebih r...   \n",
       "2  kepingin gudeg mbarek bu hj amad foto dari goo...   \n",
       "3  jln jatibarubagian dari wilayah tn abangpengat...   \n",
       "4  sharing pengalaman aja kemarin jam 1800 batali...   \n",
       "\n",
       "                                               clean  \n",
       "0  [soal, jln, jatibarupolisi, tdk, bs, gertak, g...  \n",
       "1  [sesama, cewe, lho, kayaknya, harusnya, bisa, ...  \n",
       "2  [kepingin, gudeg, mbarek, bu, hj, amad, foto, ...  \n",
       "3  [jln, jatibarubagian, dari, wilayah, tn, abang...  \n",
       "4  [sharing, pengalaman, aja, kemarin, jam, 1800,...  "
      ]
     },
     "execution_count": 11,
     "metadata": {},
     "output_type": "execute_result"
    }
   ],
   "source": [
    "data.head()"
   ]
  },
  {
   "cell_type": "code",
   "execution_count": 12,
   "metadata": {
    "colab": {
     "base_uri": "https://localhost:8080/"
    },
    "executionInfo": {
     "elapsed": 2146,
     "status": "ok",
     "timestamp": 1662032877794,
     "user": {
      "displayName": "Nilam mufidah",
      "userId": "02981889232249357983"
     },
     "user_tz": -420
    },
    "id": "u_seR32fUxCw",
    "outputId": "ac5ed773-585f-43ec-93bc-250258469041"
   },
   "outputs": [
    {
     "name": "stdout",
     "output_type": "stream",
     "text": [
      "lema done 0:00:02.207736\n"
     ]
    }
   ],
   "source": [
    "#lemmatizing\n",
    "start_time = datetime.now()\n",
    "lemmatizer = WordNetLemmatizer()\n",
    "data[\"clean\"] = data[\"clean\"].apply(lambda x: [lemmatizer.lemmatize(word) for word in x])\n",
    "end_lema = datetime.now()\n",
    "print (\"lema done\",(end_lema - start_time))"
   ]
  },
  {
   "cell_type": "code",
   "execution_count": 13,
   "metadata": {
    "colab": {
     "base_uri": "https://localhost:8080/"
    },
    "executionInfo": {
     "elapsed": 57763,
     "status": "ok",
     "timestamp": 1662032935554,
     "user": {
      "displayName": "Nilam mufidah",
      "userId": "02981889232249357983"
     },
     "user_tz": -420
    },
    "id": "Y7IOp1d6YwH9",
    "outputId": "f360bc54-3c69-4f14-d21b-4b31188f9122"
   },
   "outputs": [
    {
     "name": "stdout",
     "output_type": "stream",
     "text": [
      "stemmer done 0:00:57.443384\n"
     ]
    }
   ],
   "source": [
    "#steamming data\n",
    "factory = StemmerFactory()\n",
    "stemmer = factory.create_stemmer()\n",
    "data[\"clean\"] = data[\"clean\"].apply(lambda x: \" \".join(stemmer.stem(word) for word in x))\n",
    "end_stem = datetime.now()\n",
    "print (\"stemmer done\",(end_stem-end_lema))"
   ]
  },
  {
   "cell_type": "code",
   "execution_count": 14,
   "metadata": {
    "colab": {
     "base_uri": "https://localhost:8080/",
     "height": 206
    },
    "executionInfo": {
     "elapsed": 25,
     "status": "ok",
     "timestamp": 1662032935555,
     "user": {
      "displayName": "Nilam mufidah",
      "userId": "02981889232249357983"
     },
     "user_tz": -420
    },
    "id": "HXYfqCbvYU1c",
    "outputId": "714f940b-85bb-4fb4-85c4-fc2744d1bb93"
   },
   "outputs": [
    {
     "data": {
      "text/html": [
       "\n",
       "  <div id=\"df-4e3d7c24-b6b3-4e83-b20a-1ccd01fe441e\">\n",
       "    <div class=\"colab-df-container\">\n",
       "      <div>\n",
       "<style scoped>\n",
       "    .dataframe tbody tr th:only-of-type {\n",
       "        vertical-align: middle;\n",
       "    }\n",
       "\n",
       "    .dataframe tbody tr th {\n",
       "        vertical-align: top;\n",
       "    }\n",
       "\n",
       "    .dataframe thead th {\n",
       "        text-align: right;\n",
       "    }\n",
       "</style>\n",
       "<table border=\"1\" class=\"dataframe\">\n",
       "  <thead>\n",
       "    <tr style=\"text-align: right;\">\n",
       "      <th></th>\n",
       "      <th>label</th>\n",
       "      <th>tweet</th>\n",
       "      <th>remove_punc</th>\n",
       "      <th>clean</th>\n",
       "    </tr>\n",
       "  </thead>\n",
       "  <tbody>\n",
       "    <tr>\n",
       "      <th>0</th>\n",
       "      <td>anger</td>\n",
       "      <td>soal jln jatibaru,polisi tdk bs gertak gubernu...</td>\n",
       "      <td>soal jln jatibarupolisi tdk bs gertak gubernur...</td>\n",
       "      <td>soal jln jatibarupolisi tdk b gertak gubernur ...</td>\n",
       "    </tr>\n",
       "    <tr>\n",
       "      <th>1</th>\n",
       "      <td>anger</td>\n",
       "      <td>sesama cewe lho (kayaknya), harusnya bisa lebi...</td>\n",
       "      <td>sesama cewe lho kayaknya harusnya bisa lebih r...</td>\n",
       "      <td>sama cewe lho kayak harus bisa lebih rasain la...</td>\n",
       "    </tr>\n",
       "    <tr>\n",
       "      <th>2</th>\n",
       "      <td>happy</td>\n",
       "      <td>kepingin gudeg mbarek bu hj. amad foto dari go...</td>\n",
       "      <td>kepingin gudeg mbarek bu hj amad foto dari goo...</td>\n",
       "      <td>kepingin gudeg mbarek bu hj amad foto dari goo...</td>\n",
       "    </tr>\n",
       "    <tr>\n",
       "      <th>3</th>\n",
       "      <td>anger</td>\n",
       "      <td>jln jatibaru,bagian dari wilayah tn abang.peng...</td>\n",
       "      <td>jln jatibarubagian dari wilayah tn abangpengat...</td>\n",
       "      <td>jln jatibarubagian dari wilayah tn abangpengat...</td>\n",
       "    </tr>\n",
       "    <tr>\n",
       "      <th>4</th>\n",
       "      <td>happy</td>\n",
       "      <td>sharing pengalaman aja, kemarin jam 18.00 bata...</td>\n",
       "      <td>sharing pengalaman aja kemarin jam 1800 batali...</td>\n",
       "      <td>sharing alam aja kemarin jam 1800 batalin tike...</td>\n",
       "    </tr>\n",
       "  </tbody>\n",
       "</table>\n",
       "</div>\n",
       "      <button class=\"colab-df-convert\" onclick=\"convertToInteractive('df-4e3d7c24-b6b3-4e83-b20a-1ccd01fe441e')\"\n",
       "              title=\"Convert this dataframe to an interactive table.\"\n",
       "              style=\"display:none;\">\n",
       "        \n",
       "  <svg xmlns=\"http://www.w3.org/2000/svg\" height=\"24px\"viewBox=\"0 0 24 24\"\n",
       "       width=\"24px\">\n",
       "    <path d=\"M0 0h24v24H0V0z\" fill=\"none\"/>\n",
       "    <path d=\"M18.56 5.44l.94 2.06.94-2.06 2.06-.94-2.06-.94-.94-2.06-.94 2.06-2.06.94zm-11 1L8.5 8.5l.94-2.06 2.06-.94-2.06-.94L8.5 2.5l-.94 2.06-2.06.94zm10 10l.94 2.06.94-2.06 2.06-.94-2.06-.94-.94-2.06-.94 2.06-2.06.94z\"/><path d=\"M17.41 7.96l-1.37-1.37c-.4-.4-.92-.59-1.43-.59-.52 0-1.04.2-1.43.59L10.3 9.45l-7.72 7.72c-.78.78-.78 2.05 0 2.83L4 21.41c.39.39.9.59 1.41.59.51 0 1.02-.2 1.41-.59l7.78-7.78 2.81-2.81c.8-.78.8-2.07 0-2.86zM5.41 20L4 18.59l7.72-7.72 1.47 1.35L5.41 20z\"/>\n",
       "  </svg>\n",
       "      </button>\n",
       "      \n",
       "  <style>\n",
       "    .colab-df-container {\n",
       "      display:flex;\n",
       "      flex-wrap:wrap;\n",
       "      gap: 12px;\n",
       "    }\n",
       "\n",
       "    .colab-df-convert {\n",
       "      background-color: #E8F0FE;\n",
       "      border: none;\n",
       "      border-radius: 50%;\n",
       "      cursor: pointer;\n",
       "      display: none;\n",
       "      fill: #1967D2;\n",
       "      height: 32px;\n",
       "      padding: 0 0 0 0;\n",
       "      width: 32px;\n",
       "    }\n",
       "\n",
       "    .colab-df-convert:hover {\n",
       "      background-color: #E2EBFA;\n",
       "      box-shadow: 0px 1px 2px rgba(60, 64, 67, 0.3), 0px 1px 3px 1px rgba(60, 64, 67, 0.15);\n",
       "      fill: #174EA6;\n",
       "    }\n",
       "\n",
       "    [theme=dark] .colab-df-convert {\n",
       "      background-color: #3B4455;\n",
       "      fill: #D2E3FC;\n",
       "    }\n",
       "\n",
       "    [theme=dark] .colab-df-convert:hover {\n",
       "      background-color: #434B5C;\n",
       "      box-shadow: 0px 1px 3px 1px rgba(0, 0, 0, 0.15);\n",
       "      filter: drop-shadow(0px 1px 2px rgba(0, 0, 0, 0.3));\n",
       "      fill: #FFFFFF;\n",
       "    }\n",
       "  </style>\n",
       "\n",
       "      <script>\n",
       "        const buttonEl =\n",
       "          document.querySelector('#df-4e3d7c24-b6b3-4e83-b20a-1ccd01fe441e button.colab-df-convert');\n",
       "        buttonEl.style.display =\n",
       "          google.colab.kernel.accessAllowed ? 'block' : 'none';\n",
       "\n",
       "        async function convertToInteractive(key) {\n",
       "          const element = document.querySelector('#df-4e3d7c24-b6b3-4e83-b20a-1ccd01fe441e');\n",
       "          const dataTable =\n",
       "            await google.colab.kernel.invokeFunction('convertToInteractive',\n",
       "                                                     [key], {});\n",
       "          if (!dataTable) return;\n",
       "\n",
       "          const docLinkHtml = 'Like what you see? Visit the ' +\n",
       "            '<a target=\"_blank\" href=https://colab.research.google.com/notebooks/data_table.ipynb>data table notebook</a>'\n",
       "            + ' to learn more about interactive tables.';\n",
       "          element.innerHTML = '';\n",
       "          dataTable['output_type'] = 'display_data';\n",
       "          await google.colab.output.renderOutput(dataTable, element);\n",
       "          const docLink = document.createElement('div');\n",
       "          docLink.innerHTML = docLinkHtml;\n",
       "          element.appendChild(docLink);\n",
       "        }\n",
       "      </script>\n",
       "    </div>\n",
       "  </div>\n",
       "  "
      ],
      "text/plain": [
       "   label                                              tweet  \\\n",
       "0  anger  soal jln jatibaru,polisi tdk bs gertak gubernu...   \n",
       "1  anger  sesama cewe lho (kayaknya), harusnya bisa lebi...   \n",
       "2  happy  kepingin gudeg mbarek bu hj. amad foto dari go...   \n",
       "3  anger  jln jatibaru,bagian dari wilayah tn abang.peng...   \n",
       "4  happy  sharing pengalaman aja, kemarin jam 18.00 bata...   \n",
       "\n",
       "                                         remove_punc  \\\n",
       "0  soal jln jatibarupolisi tdk bs gertak gubernur...   \n",
       "1  sesama cewe lho kayaknya harusnya bisa lebih r...   \n",
       "2  kepingin gudeg mbarek bu hj amad foto dari goo...   \n",
       "3  jln jatibarubagian dari wilayah tn abangpengat...   \n",
       "4  sharing pengalaman aja kemarin jam 1800 batali...   \n",
       "\n",
       "                                               clean  \n",
       "0  soal jln jatibarupolisi tdk b gertak gubernur ...  \n",
       "1  sama cewe lho kayak harus bisa lebih rasain la...  \n",
       "2  kepingin gudeg mbarek bu hj amad foto dari goo...  \n",
       "3  jln jatibarubagian dari wilayah tn abangpengat...  \n",
       "4  sharing alam aja kemarin jam 1800 batalin tike...  "
      ]
     },
     "execution_count": 14,
     "metadata": {},
     "output_type": "execute_result"
    }
   ],
   "source": [
    "data.head()"
   ]
  },
  {
   "cell_type": "code",
   "execution_count": 15,
   "metadata": {
    "colab": {
     "base_uri": "https://localhost:8080/"
    },
    "executionInfo": {
     "elapsed": 25,
     "status": "ok",
     "timestamp": 1662032935556,
     "user": {
      "displayName": "Nilam mufidah",
      "userId": "02981889232249357983"
     },
     "user_tz": -420
    },
    "id": "1b7amY2nFAd-",
    "outputId": "2786ac3d-9656-4dac-e2ed-8fac30609127"
   },
   "outputs": [
    {
     "name": "stdout",
     "output_type": "stream",
     "text": [
      "stopword done 0:00:00.050719\n"
     ]
    }
   ],
   "source": [
    "#stopword\n",
    "factory = StopWordRemoverFactory()\n",
    "stopword = factory.create_stop_word_remover()\n",
    "data[\"clean\"] = data[\"clean\"].apply(lambda x: \" \".join(stopword.remove(x) for x in x.split()))\n",
    "end_stop = datetime.now()\n",
    "print (\"stopword done\", (end_stop - end_stem))"
   ]
  },
  {
   "cell_type": "code",
   "execution_count": 16,
   "metadata": {
    "colab": {
     "base_uri": "https://localhost:8080/",
     "height": 206
    },
    "executionInfo": {
     "elapsed": 21,
     "status": "ok",
     "timestamp": 1662032935556,
     "user": {
      "displayName": "Nilam mufidah",
      "userId": "02981889232249357983"
     },
     "user_tz": -420
    },
    "id": "SrVbx7kPcznm",
    "outputId": "264fddfc-3d2d-4619-da1a-7e11852e19b2"
   },
   "outputs": [
    {
     "data": {
      "text/html": [
       "\n",
       "  <div id=\"df-b32c3ac2-ca71-4e2f-b748-394aaf82a9f7\">\n",
       "    <div class=\"colab-df-container\">\n",
       "      <div>\n",
       "<style scoped>\n",
       "    .dataframe tbody tr th:only-of-type {\n",
       "        vertical-align: middle;\n",
       "    }\n",
       "\n",
       "    .dataframe tbody tr th {\n",
       "        vertical-align: top;\n",
       "    }\n",
       "\n",
       "    .dataframe thead th {\n",
       "        text-align: right;\n",
       "    }\n",
       "</style>\n",
       "<table border=\"1\" class=\"dataframe\">\n",
       "  <thead>\n",
       "    <tr style=\"text-align: right;\">\n",
       "      <th></th>\n",
       "      <th>label</th>\n",
       "      <th>tweet</th>\n",
       "      <th>remove_punc</th>\n",
       "      <th>clean</th>\n",
       "    </tr>\n",
       "  </thead>\n",
       "  <tbody>\n",
       "    <tr>\n",
       "      <th>0</th>\n",
       "      <td>anger</td>\n",
       "      <td>soal jln jatibaru,polisi tdk bs gertak gubernu...</td>\n",
       "      <td>soal jln jatibarupolisi tdk bs gertak gubernur...</td>\n",
       "      <td>soal jln jatibarupolisi tdk b gertak gubernur ...</td>\n",
       "    </tr>\n",
       "    <tr>\n",
       "      <th>1</th>\n",
       "      <td>anger</td>\n",
       "      <td>sesama cewe lho (kayaknya), harusnya bisa lebi...</td>\n",
       "      <td>sesama cewe lho kayaknya harusnya bisa lebih r...</td>\n",
       "      <td>sama cewe lho kayak   lebih rasain lah   sibuk...</td>\n",
       "    </tr>\n",
       "    <tr>\n",
       "      <th>2</th>\n",
       "      <td>happy</td>\n",
       "      <td>kepingin gudeg mbarek bu hj. amad foto dari go...</td>\n",
       "      <td>kepingin gudeg mbarek bu hj amad foto dari goo...</td>\n",
       "      <td>kepingin gudeg mbarek bu hj amad foto  google ...</td>\n",
       "    </tr>\n",
       "    <tr>\n",
       "      <th>3</th>\n",
       "      <td>anger</td>\n",
       "      <td>jln jatibaru,bagian dari wilayah tn abang.peng...</td>\n",
       "      <td>jln jatibarubagian dari wilayah tn abangpengat...</td>\n",
       "      <td>jln jatibarubagian  wilayah tn abangpengaturan...</td>\n",
       "    </tr>\n",
       "    <tr>\n",
       "      <th>4</th>\n",
       "      <td>happy</td>\n",
       "      <td>sharing pengalaman aja, kemarin jam 18.00 bata...</td>\n",
       "      <td>sharing pengalaman aja kemarin jam 1800 batali...</td>\n",
       "      <td>sharing alam aja kemarin jam 1800 batalin tike...</td>\n",
       "    </tr>\n",
       "  </tbody>\n",
       "</table>\n",
       "</div>\n",
       "      <button class=\"colab-df-convert\" onclick=\"convertToInteractive('df-b32c3ac2-ca71-4e2f-b748-394aaf82a9f7')\"\n",
       "              title=\"Convert this dataframe to an interactive table.\"\n",
       "              style=\"display:none;\">\n",
       "        \n",
       "  <svg xmlns=\"http://www.w3.org/2000/svg\" height=\"24px\"viewBox=\"0 0 24 24\"\n",
       "       width=\"24px\">\n",
       "    <path d=\"M0 0h24v24H0V0z\" fill=\"none\"/>\n",
       "    <path d=\"M18.56 5.44l.94 2.06.94-2.06 2.06-.94-2.06-.94-.94-2.06-.94 2.06-2.06.94zm-11 1L8.5 8.5l.94-2.06 2.06-.94-2.06-.94L8.5 2.5l-.94 2.06-2.06.94zm10 10l.94 2.06.94-2.06 2.06-.94-2.06-.94-.94-2.06-.94 2.06-2.06.94z\"/><path d=\"M17.41 7.96l-1.37-1.37c-.4-.4-.92-.59-1.43-.59-.52 0-1.04.2-1.43.59L10.3 9.45l-7.72 7.72c-.78.78-.78 2.05 0 2.83L4 21.41c.39.39.9.59 1.41.59.51 0 1.02-.2 1.41-.59l7.78-7.78 2.81-2.81c.8-.78.8-2.07 0-2.86zM5.41 20L4 18.59l7.72-7.72 1.47 1.35L5.41 20z\"/>\n",
       "  </svg>\n",
       "      </button>\n",
       "      \n",
       "  <style>\n",
       "    .colab-df-container {\n",
       "      display:flex;\n",
       "      flex-wrap:wrap;\n",
       "      gap: 12px;\n",
       "    }\n",
       "\n",
       "    .colab-df-convert {\n",
       "      background-color: #E8F0FE;\n",
       "      border: none;\n",
       "      border-radius: 50%;\n",
       "      cursor: pointer;\n",
       "      display: none;\n",
       "      fill: #1967D2;\n",
       "      height: 32px;\n",
       "      padding: 0 0 0 0;\n",
       "      width: 32px;\n",
       "    }\n",
       "\n",
       "    .colab-df-convert:hover {\n",
       "      background-color: #E2EBFA;\n",
       "      box-shadow: 0px 1px 2px rgba(60, 64, 67, 0.3), 0px 1px 3px 1px rgba(60, 64, 67, 0.15);\n",
       "      fill: #174EA6;\n",
       "    }\n",
       "\n",
       "    [theme=dark] .colab-df-convert {\n",
       "      background-color: #3B4455;\n",
       "      fill: #D2E3FC;\n",
       "    }\n",
       "\n",
       "    [theme=dark] .colab-df-convert:hover {\n",
       "      background-color: #434B5C;\n",
       "      box-shadow: 0px 1px 3px 1px rgba(0, 0, 0, 0.15);\n",
       "      filter: drop-shadow(0px 1px 2px rgba(0, 0, 0, 0.3));\n",
       "      fill: #FFFFFF;\n",
       "    }\n",
       "  </style>\n",
       "\n",
       "      <script>\n",
       "        const buttonEl =\n",
       "          document.querySelector('#df-b32c3ac2-ca71-4e2f-b748-394aaf82a9f7 button.colab-df-convert');\n",
       "        buttonEl.style.display =\n",
       "          google.colab.kernel.accessAllowed ? 'block' : 'none';\n",
       "\n",
       "        async function convertToInteractive(key) {\n",
       "          const element = document.querySelector('#df-b32c3ac2-ca71-4e2f-b748-394aaf82a9f7');\n",
       "          const dataTable =\n",
       "            await google.colab.kernel.invokeFunction('convertToInteractive',\n",
       "                                                     [key], {});\n",
       "          if (!dataTable) return;\n",
       "\n",
       "          const docLinkHtml = 'Like what you see? Visit the ' +\n",
       "            '<a target=\"_blank\" href=https://colab.research.google.com/notebooks/data_table.ipynb>data table notebook</a>'\n",
       "            + ' to learn more about interactive tables.';\n",
       "          element.innerHTML = '';\n",
       "          dataTable['output_type'] = 'display_data';\n",
       "          await google.colab.output.renderOutput(dataTable, element);\n",
       "          const docLink = document.createElement('div');\n",
       "          docLink.innerHTML = docLinkHtml;\n",
       "          element.appendChild(docLink);\n",
       "        }\n",
       "      </script>\n",
       "    </div>\n",
       "  </div>\n",
       "  "
      ],
      "text/plain": [
       "   label                                              tweet  \\\n",
       "0  anger  soal jln jatibaru,polisi tdk bs gertak gubernu...   \n",
       "1  anger  sesama cewe lho (kayaknya), harusnya bisa lebi...   \n",
       "2  happy  kepingin gudeg mbarek bu hj. amad foto dari go...   \n",
       "3  anger  jln jatibaru,bagian dari wilayah tn abang.peng...   \n",
       "4  happy  sharing pengalaman aja, kemarin jam 18.00 bata...   \n",
       "\n",
       "                                         remove_punc  \\\n",
       "0  soal jln jatibarupolisi tdk bs gertak gubernur...   \n",
       "1  sesama cewe lho kayaknya harusnya bisa lebih r...   \n",
       "2  kepingin gudeg mbarek bu hj amad foto dari goo...   \n",
       "3  jln jatibarubagian dari wilayah tn abangpengat...   \n",
       "4  sharing pengalaman aja kemarin jam 1800 batali...   \n",
       "\n",
       "                                               clean  \n",
       "0  soal jln jatibarupolisi tdk b gertak gubernur ...  \n",
       "1  sama cewe lho kayak   lebih rasain lah   sibuk...  \n",
       "2  kepingin gudeg mbarek bu hj amad foto  google ...  \n",
       "3  jln jatibarubagian  wilayah tn abangpengaturan...  \n",
       "4  sharing alam aja kemarin jam 1800 batalin tike...  "
      ]
     },
     "execution_count": 16,
     "metadata": {},
     "output_type": "execute_result"
    }
   ],
   "source": [
    "data.head()"
   ]
  },
  {
   "cell_type": "markdown",
   "metadata": {
    "id": "cj8vETrvdaoR"
   },
   "source": [
    "menjadikan proses preprocessing data menjadi satu fungsi"
   ]
  },
  {
   "cell_type": "code",
   "execution_count": 17,
   "metadata": {
    "executionInfo": {
     "elapsed": 21,
     "status": "ok",
     "timestamp": 1662032935557,
     "user": {
      "displayName": "Nilam mufidah",
      "userId": "02981889232249357983"
     },
     "user_tz": -420
    },
    "id": "ud9gkZFyCHB6"
   },
   "outputs": [],
   "source": [
    "#fungsi preprocessing\n",
    "def prepros (data, name_column_dataset):\n",
    "  data[name_column_dataset] = data[name_column_dataset].apply(lambda x: x.lower())\n",
    "  data[\"remove_punc\"] = data[name_column_dataset].apply(lambda x: data_cleaning(x))\n",
    "  data[\"clean\"] = data[\"remove_punc\"].apply(lambda x: word_tokenize(x))\n",
    "\n",
    "  start_time = datetime.now()\n",
    "  lemmatizer = WordNetLemmatizer()\n",
    "  data[\"clean\"] = data[\"clean\"].apply(lambda x: [lemmatizer.lemmatize(word) for word in x])\n",
    "  end_lema = datetime.now()\n",
    "  print (\"lema done\",(end_lema - start_time))\n",
    "\n",
    "  factory = StemmerFactory()\n",
    "  stemmer = factory.create_stemmer()\n",
    "  data[\"clean\"] = data[\"clean\"].apply(lambda x: \" \".join(stemmer.stem(word) for word in x))\n",
    "  end_stem = datetime.now()\n",
    "  print (\"stemmer done\",(end_stem-end_lema))\n",
    "\n",
    "  factory = StopWordRemoverFactory()\n",
    "  stopword = factory.create_stop_word_remover()\n",
    "  data[\"clean\"] = data[\"clean\"].apply(lambda x: \" \".join(stopword.remove(x) for x in x.split()))\n",
    "  end_stop = datetime.now()\n",
    "  print (\"stopword done\", (end_stop - end_stem))\n",
    "  data[\"clean\"] = data[\"clean\"].apply(lambda x:re.sub(' +', ' ',x))\n",
    "\n",
    "  return(data)"
   ]
  },
  {
   "cell_type": "code",
   "execution_count": 18,
   "metadata": {
    "colab": {
     "base_uri": "https://localhost:8080/"
    },
    "executionInfo": {
     "elapsed": 42908,
     "status": "ok",
     "timestamp": 1662032978445,
     "user": {
      "displayName": "Nilam mufidah",
      "userId": "02981889232249357983"
     },
     "user_tz": -420
    },
    "id": "G9FCps-c148V",
    "outputId": "dea9eb63-7de1-4dcc-e2e8-c03ea0befbb8"
   },
   "outputs": [
    {
     "name": "stdout",
     "output_type": "stream",
     "text": [
      "lema done 0:00:00.006101\n",
      "stemmer done 0:00:42.846002\n",
      "stopword done 0:00:00.006399\n"
     ]
    }
   ],
   "source": [
    "name_path = \"/content/gdrive/MyDrive/narasio/materi fix/deploymen pertemuan 1/main room/\"\n",
    "name_file =\"indo_data50.csv\"\n",
    "data = pd.read_csv(name_path + name_file)\n",
    "\n",
    "name_column_dataset = \"tweet\"\n",
    "\n",
    "df_pre = prepros (data, name_column_dataset)"
   ]
  },
  {
   "cell_type": "code",
   "execution_count": 19,
   "metadata": {
    "colab": {
     "base_uri": "https://localhost:8080/",
     "height": 206
    },
    "executionInfo": {
     "elapsed": 24,
     "status": "ok",
     "timestamp": 1662032978446,
     "user": {
      "displayName": "Nilam mufidah",
      "userId": "02981889232249357983"
     },
     "user_tz": -420
    },
    "id": "zSJavkr22skC",
    "outputId": "9489f1df-aad6-4809-895a-d2133d56d392"
   },
   "outputs": [
    {
     "data": {
      "text/html": [
       "\n",
       "  <div id=\"df-ac3b1d20-bb3b-4048-85b2-ae99834d1a54\">\n",
       "    <div class=\"colab-df-container\">\n",
       "      <div>\n",
       "<style scoped>\n",
       "    .dataframe tbody tr th:only-of-type {\n",
       "        vertical-align: middle;\n",
       "    }\n",
       "\n",
       "    .dataframe tbody tr th {\n",
       "        vertical-align: top;\n",
       "    }\n",
       "\n",
       "    .dataframe thead th {\n",
       "        text-align: right;\n",
       "    }\n",
       "</style>\n",
       "<table border=\"1\" class=\"dataframe\">\n",
       "  <thead>\n",
       "    <tr style=\"text-align: right;\">\n",
       "      <th></th>\n",
       "      <th>label</th>\n",
       "      <th>tweet</th>\n",
       "      <th>remove_punc</th>\n",
       "      <th>clean</th>\n",
       "    </tr>\n",
       "  </thead>\n",
       "  <tbody>\n",
       "    <tr>\n",
       "      <th>0</th>\n",
       "      <td>anger</td>\n",
       "      <td>soal jln jatibaru,polisi tdk bs gertak gubernu...</td>\n",
       "      <td>soal jln jatibarupolisi tdk bs gertak gubernur...</td>\n",
       "      <td>soal jln jatibarupolisi tdk b gertak gubernur ...</td>\n",
       "    </tr>\n",
       "    <tr>\n",
       "      <th>1</th>\n",
       "      <td>anger</td>\n",
       "      <td>sesama cewe lho (kayaknya), harusnya bisa lebi...</td>\n",
       "      <td>sesama cewe lho kayaknya harusnya bisa lebih r...</td>\n",
       "      <td>sama cewe lho kayak lebih rasain lah sibuk jag...</td>\n",
       "    </tr>\n",
       "    <tr>\n",
       "      <th>2</th>\n",
       "      <td>happy</td>\n",
       "      <td>kepingin gudeg mbarek bu hj. amad foto dari go...</td>\n",
       "      <td>kepingin gudeg mbarek bu hj amad foto dari goo...</td>\n",
       "      <td>kepingin gudeg mbarek bu hj amad foto google s...</td>\n",
       "    </tr>\n",
       "    <tr>\n",
       "      <th>3</th>\n",
       "      <td>anger</td>\n",
       "      <td>jln jatibaru,bagian dari wilayah tn abang.peng...</td>\n",
       "      <td>jln jatibarubagian dari wilayah tn abangpengat...</td>\n",
       "      <td>jln jatibarubagian wilayah tn abangpengaturan ...</td>\n",
       "    </tr>\n",
       "    <tr>\n",
       "      <th>4</th>\n",
       "      <td>happy</td>\n",
       "      <td>sharing pengalaman aja, kemarin jam 18.00 bata...</td>\n",
       "      <td>sharing pengalaman aja kemarin jam 1800 batali...</td>\n",
       "      <td>sharing alam aja kemarin jam 1800 batalin tike...</td>\n",
       "    </tr>\n",
       "  </tbody>\n",
       "</table>\n",
       "</div>\n",
       "      <button class=\"colab-df-convert\" onclick=\"convertToInteractive('df-ac3b1d20-bb3b-4048-85b2-ae99834d1a54')\"\n",
       "              title=\"Convert this dataframe to an interactive table.\"\n",
       "              style=\"display:none;\">\n",
       "        \n",
       "  <svg xmlns=\"http://www.w3.org/2000/svg\" height=\"24px\"viewBox=\"0 0 24 24\"\n",
       "       width=\"24px\">\n",
       "    <path d=\"M0 0h24v24H0V0z\" fill=\"none\"/>\n",
       "    <path d=\"M18.56 5.44l.94 2.06.94-2.06 2.06-.94-2.06-.94-.94-2.06-.94 2.06-2.06.94zm-11 1L8.5 8.5l.94-2.06 2.06-.94-2.06-.94L8.5 2.5l-.94 2.06-2.06.94zm10 10l.94 2.06.94-2.06 2.06-.94-2.06-.94-.94-2.06-.94 2.06-2.06.94z\"/><path d=\"M17.41 7.96l-1.37-1.37c-.4-.4-.92-.59-1.43-.59-.52 0-1.04.2-1.43.59L10.3 9.45l-7.72 7.72c-.78.78-.78 2.05 0 2.83L4 21.41c.39.39.9.59 1.41.59.51 0 1.02-.2 1.41-.59l7.78-7.78 2.81-2.81c.8-.78.8-2.07 0-2.86zM5.41 20L4 18.59l7.72-7.72 1.47 1.35L5.41 20z\"/>\n",
       "  </svg>\n",
       "      </button>\n",
       "      \n",
       "  <style>\n",
       "    .colab-df-container {\n",
       "      display:flex;\n",
       "      flex-wrap:wrap;\n",
       "      gap: 12px;\n",
       "    }\n",
       "\n",
       "    .colab-df-convert {\n",
       "      background-color: #E8F0FE;\n",
       "      border: none;\n",
       "      border-radius: 50%;\n",
       "      cursor: pointer;\n",
       "      display: none;\n",
       "      fill: #1967D2;\n",
       "      height: 32px;\n",
       "      padding: 0 0 0 0;\n",
       "      width: 32px;\n",
       "    }\n",
       "\n",
       "    .colab-df-convert:hover {\n",
       "      background-color: #E2EBFA;\n",
       "      box-shadow: 0px 1px 2px rgba(60, 64, 67, 0.3), 0px 1px 3px 1px rgba(60, 64, 67, 0.15);\n",
       "      fill: #174EA6;\n",
       "    }\n",
       "\n",
       "    [theme=dark] .colab-df-convert {\n",
       "      background-color: #3B4455;\n",
       "      fill: #D2E3FC;\n",
       "    }\n",
       "\n",
       "    [theme=dark] .colab-df-convert:hover {\n",
       "      background-color: #434B5C;\n",
       "      box-shadow: 0px 1px 3px 1px rgba(0, 0, 0, 0.15);\n",
       "      filter: drop-shadow(0px 1px 2px rgba(0, 0, 0, 0.3));\n",
       "      fill: #FFFFFF;\n",
       "    }\n",
       "  </style>\n",
       "\n",
       "      <script>\n",
       "        const buttonEl =\n",
       "          document.querySelector('#df-ac3b1d20-bb3b-4048-85b2-ae99834d1a54 button.colab-df-convert');\n",
       "        buttonEl.style.display =\n",
       "          google.colab.kernel.accessAllowed ? 'block' : 'none';\n",
       "\n",
       "        async function convertToInteractive(key) {\n",
       "          const element = document.querySelector('#df-ac3b1d20-bb3b-4048-85b2-ae99834d1a54');\n",
       "          const dataTable =\n",
       "            await google.colab.kernel.invokeFunction('convertToInteractive',\n",
       "                                                     [key], {});\n",
       "          if (!dataTable) return;\n",
       "\n",
       "          const docLinkHtml = 'Like what you see? Visit the ' +\n",
       "            '<a target=\"_blank\" href=https://colab.research.google.com/notebooks/data_table.ipynb>data table notebook</a>'\n",
       "            + ' to learn more about interactive tables.';\n",
       "          element.innerHTML = '';\n",
       "          dataTable['output_type'] = 'display_data';\n",
       "          await google.colab.output.renderOutput(dataTable, element);\n",
       "          const docLink = document.createElement('div');\n",
       "          docLink.innerHTML = docLinkHtml;\n",
       "          element.appendChild(docLink);\n",
       "        }\n",
       "      </script>\n",
       "    </div>\n",
       "  </div>\n",
       "  "
      ],
      "text/plain": [
       "   label                                              tweet  \\\n",
       "0  anger  soal jln jatibaru,polisi tdk bs gertak gubernu...   \n",
       "1  anger  sesama cewe lho (kayaknya), harusnya bisa lebi...   \n",
       "2  happy  kepingin gudeg mbarek bu hj. amad foto dari go...   \n",
       "3  anger  jln jatibaru,bagian dari wilayah tn abang.peng...   \n",
       "4  happy  sharing pengalaman aja, kemarin jam 18.00 bata...   \n",
       "\n",
       "                                         remove_punc  \\\n",
       "0  soal jln jatibarupolisi tdk bs gertak gubernur...   \n",
       "1  sesama cewe lho kayaknya harusnya bisa lebih r...   \n",
       "2  kepingin gudeg mbarek bu hj amad foto dari goo...   \n",
       "3  jln jatibarubagian dari wilayah tn abangpengat...   \n",
       "4  sharing pengalaman aja kemarin jam 1800 batali...   \n",
       "\n",
       "                                               clean  \n",
       "0  soal jln jatibarupolisi tdk b gertak gubernur ...  \n",
       "1  sama cewe lho kayak lebih rasain lah sibuk jag...  \n",
       "2  kepingin gudeg mbarek bu hj amad foto google s...  \n",
       "3  jln jatibarubagian wilayah tn abangpengaturan ...  \n",
       "4  sharing alam aja kemarin jam 1800 batalin tike...  "
      ]
     },
     "execution_count": 19,
     "metadata": {},
     "output_type": "execute_result"
    }
   ],
   "source": [
    "df_pre.head()"
   ]
  },
  {
   "cell_type": "markdown",
   "metadata": {
    "id": "VBniI-Nty7-C"
   },
   "source": [
    "**train data**"
   ]
  },
  {
   "cell_type": "code",
   "execution_count": 20,
   "metadata": {
    "executionInfo": {
     "elapsed": 23,
     "status": "ok",
     "timestamp": 1662032978446,
     "user": {
      "displayName": "Nilam mufidah",
      "userId": "02981889232249357983"
     },
     "user_tz": -420
    },
    "id": "oFoB07L_xuRa"
   },
   "outputs": [],
   "source": [
    "def get_model(X, Y):\n",
    "    model = Sequential()\n",
    "    model.add(Embedding(input_dim = vocab, output_dim = 128, input_length = max_sentence_length, embeddings_initializer = initializer))\n",
    "    model.add(Conv1D(128, 7, activation='relu',padding='same'))\n",
    "    model.add(MaxPooling1D())\n",
    "    model.add(Conv1D(256, 5, activation='relu',padding='same'))\n",
    "    model.add(MaxPooling1D())\n",
    "    model.add(Conv1D(512, 3, activation='relu',padding='same'))\n",
    "    model.add(MaxPooling1D())\n",
    "    model.add(Flatten())\n",
    "    model.add(Dense(128, activation='relu'))\n",
    "    model.add(Dropout(0.5))\n",
    "    model.add(Dense(leng, activation='softmax'))\n",
    "    model.compile(optimizer='adam',\n",
    "                  loss='categorical_crossentropy',\n",
    "                  metrics=['accuracy'])\n",
    "    model.summary()\n",
    "    \n",
    "    return model\n",
    "\n",
    "def evaluation(model, X, Y):\n",
    "    Y_pred = model.predict(X)\n",
    "    Y_pred_class = np.argmax(Y_pred, axis=1)\n",
    "    Y_act = Y\n",
    "    \n",
    "    acc = accuracy_score(Y_act, Y_pred_class)\n",
    "    \n",
    "    return acc"
   ]
  },
  {
   "cell_type": "code",
   "execution_count": 21,
   "metadata": {
    "executionInfo": {
     "elapsed": 22,
     "status": "ok",
     "timestamp": 1662032978446,
     "user": {
      "displayName": "Nilam mufidah",
      "userId": "02981889232249357983"
     },
     "user_tz": -420
    },
    "id": "8EYw4amKiwYL"
   },
   "outputs": [],
   "source": [
    "#mengencoder label\n",
    "data.sort_values(by=['label'], inplace=True)\n",
    "data['label_id'] = data['label'].factorize()[0]\n",
    "kategori_id_data = data[['label', 'label_id']].drop_duplicates().sort_values('label_id')\n",
    "kategori_to_id = dict(kategori_id_data.values)\n",
    "id_to_kategori = dict(kategori_id_data[['label_id', 'label']].values)\n",
    "\n",
    "leng = kategori_id_data.label_id.values\n",
    "leng = len (leng)"
   ]
  },
  {
   "cell_type": "code",
   "execution_count": 22,
   "metadata": {
    "executionInfo": {
     "elapsed": 23,
     "status": "ok",
     "timestamp": 1662032978447,
     "user": {
      "displayName": "Nilam mufidah",
      "userId": "02981889232249357983"
     },
     "user_tz": -420
    },
    "id": "XUIh2IsJkM7_"
   },
   "outputs": [],
   "source": [
    "#split data\n",
    "train, test = train_test_split(data, test_size=0.2)"
   ]
  },
  {
   "cell_type": "code",
   "execution_count": 23,
   "metadata": {
    "colab": {
     "base_uri": "https://localhost:8080/",
     "height": 206
    },
    "executionInfo": {
     "elapsed": 23,
     "status": "ok",
     "timestamp": 1662032978447,
     "user": {
      "displayName": "Nilam mufidah",
      "userId": "02981889232249357983"
     },
     "user_tz": -420
    },
    "id": "OyZut0HOvnCu",
    "outputId": "d9d3d739-95cf-47ba-8ada-3cc88283e5c6"
   },
   "outputs": [
    {
     "data": {
      "text/html": [
       "\n",
       "  <div id=\"df-c296cd32-717c-45e8-b799-8fccdbd11095\">\n",
       "    <div class=\"colab-df-container\">\n",
       "      <div>\n",
       "<style scoped>\n",
       "    .dataframe tbody tr th:only-of-type {\n",
       "        vertical-align: middle;\n",
       "    }\n",
       "\n",
       "    .dataframe tbody tr th {\n",
       "        vertical-align: top;\n",
       "    }\n",
       "\n",
       "    .dataframe thead th {\n",
       "        text-align: right;\n",
       "    }\n",
       "</style>\n",
       "<table border=\"1\" class=\"dataframe\">\n",
       "  <thead>\n",
       "    <tr style=\"text-align: right;\">\n",
       "      <th></th>\n",
       "      <th>label</th>\n",
       "      <th>tweet</th>\n",
       "      <th>remove_punc</th>\n",
       "      <th>clean</th>\n",
       "      <th>label_id</th>\n",
       "    </tr>\n",
       "  </thead>\n",
       "  <tbody>\n",
       "    <tr>\n",
       "      <th>29</th>\n",
       "      <td>fear</td>\n",
       "      <td>hari ini jadwal presentasi proker di lppm karn...</td>\n",
       "      <td>hari ini jadwal presentasi proker di lppm karn...</td>\n",
       "      <td>hari jadwal presentasi proker lppm karna prakt...</td>\n",
       "      <td>1</td>\n",
       "    </tr>\n",
       "    <tr>\n",
       "      <th>22</th>\n",
       "      <td>happy</td>\n",
       "      <td>ketika aku tersenyum bukan berarti hidupku sem...</td>\n",
       "      <td>ketika aku tersenyum bukan berarti hidupku sem...</td>\n",
       "      <td>aku senyum bukan arti hidup sempurna aku syuk...</td>\n",
       "      <td>2</td>\n",
       "    </tr>\n",
       "    <tr>\n",
       "      <th>35</th>\n",
       "      <td>love</td>\n",
       "      <td>kenapa pasangan seringkali diibaratkan sebagai...</td>\n",
       "      <td>kenapa pasangan seringkali diibaratkan sebagai...</td>\n",
       "      <td>pasang seringkali ibarat bagai rumah rasa nya...</td>\n",
       "      <td>3</td>\n",
       "    </tr>\n",
       "    <tr>\n",
       "      <th>32</th>\n",
       "      <td>sadness</td>\n",
       "      <td>sungguh mencintaimu berat sekali. berpisah den...</td>\n",
       "      <td>sungguh mencintaimu berat sekali berpisah deng...</td>\n",
       "      <td>sungguh cinta berat sekali pisah hadiahperasaa...</td>\n",
       "      <td>4</td>\n",
       "    </tr>\n",
       "    <tr>\n",
       "      <th>30</th>\n",
       "      <td>anger</td>\n",
       "      <td>foto saya di instagram masih ada cuma lupa pas...</td>\n",
       "      <td>foto saya di instagram masih ada cuma lupa pas...</td>\n",
       "      <td>foto instagram cuma lupa password instanya jad...</td>\n",
       "      <td>0</td>\n",
       "    </tr>\n",
       "  </tbody>\n",
       "</table>\n",
       "</div>\n",
       "      <button class=\"colab-df-convert\" onclick=\"convertToInteractive('df-c296cd32-717c-45e8-b799-8fccdbd11095')\"\n",
       "              title=\"Convert this dataframe to an interactive table.\"\n",
       "              style=\"display:none;\">\n",
       "        \n",
       "  <svg xmlns=\"http://www.w3.org/2000/svg\" height=\"24px\"viewBox=\"0 0 24 24\"\n",
       "       width=\"24px\">\n",
       "    <path d=\"M0 0h24v24H0V0z\" fill=\"none\"/>\n",
       "    <path d=\"M18.56 5.44l.94 2.06.94-2.06 2.06-.94-2.06-.94-.94-2.06-.94 2.06-2.06.94zm-11 1L8.5 8.5l.94-2.06 2.06-.94-2.06-.94L8.5 2.5l-.94 2.06-2.06.94zm10 10l.94 2.06.94-2.06 2.06-.94-2.06-.94-.94-2.06-.94 2.06-2.06.94z\"/><path d=\"M17.41 7.96l-1.37-1.37c-.4-.4-.92-.59-1.43-.59-.52 0-1.04.2-1.43.59L10.3 9.45l-7.72 7.72c-.78.78-.78 2.05 0 2.83L4 21.41c.39.39.9.59 1.41.59.51 0 1.02-.2 1.41-.59l7.78-7.78 2.81-2.81c.8-.78.8-2.07 0-2.86zM5.41 20L4 18.59l7.72-7.72 1.47 1.35L5.41 20z\"/>\n",
       "  </svg>\n",
       "      </button>\n",
       "      \n",
       "  <style>\n",
       "    .colab-df-container {\n",
       "      display:flex;\n",
       "      flex-wrap:wrap;\n",
       "      gap: 12px;\n",
       "    }\n",
       "\n",
       "    .colab-df-convert {\n",
       "      background-color: #E8F0FE;\n",
       "      border: none;\n",
       "      border-radius: 50%;\n",
       "      cursor: pointer;\n",
       "      display: none;\n",
       "      fill: #1967D2;\n",
       "      height: 32px;\n",
       "      padding: 0 0 0 0;\n",
       "      width: 32px;\n",
       "    }\n",
       "\n",
       "    .colab-df-convert:hover {\n",
       "      background-color: #E2EBFA;\n",
       "      box-shadow: 0px 1px 2px rgba(60, 64, 67, 0.3), 0px 1px 3px 1px rgba(60, 64, 67, 0.15);\n",
       "      fill: #174EA6;\n",
       "    }\n",
       "\n",
       "    [theme=dark] .colab-df-convert {\n",
       "      background-color: #3B4455;\n",
       "      fill: #D2E3FC;\n",
       "    }\n",
       "\n",
       "    [theme=dark] .colab-df-convert:hover {\n",
       "      background-color: #434B5C;\n",
       "      box-shadow: 0px 1px 3px 1px rgba(0, 0, 0, 0.15);\n",
       "      filter: drop-shadow(0px 1px 2px rgba(0, 0, 0, 0.3));\n",
       "      fill: #FFFFFF;\n",
       "    }\n",
       "  </style>\n",
       "\n",
       "      <script>\n",
       "        const buttonEl =\n",
       "          document.querySelector('#df-c296cd32-717c-45e8-b799-8fccdbd11095 button.colab-df-convert');\n",
       "        buttonEl.style.display =\n",
       "          google.colab.kernel.accessAllowed ? 'block' : 'none';\n",
       "\n",
       "        async function convertToInteractive(key) {\n",
       "          const element = document.querySelector('#df-c296cd32-717c-45e8-b799-8fccdbd11095');\n",
       "          const dataTable =\n",
       "            await google.colab.kernel.invokeFunction('convertToInteractive',\n",
       "                                                     [key], {});\n",
       "          if (!dataTable) return;\n",
       "\n",
       "          const docLinkHtml = 'Like what you see? Visit the ' +\n",
       "            '<a target=\"_blank\" href=https://colab.research.google.com/notebooks/data_table.ipynb>data table notebook</a>'\n",
       "            + ' to learn more about interactive tables.';\n",
       "          element.innerHTML = '';\n",
       "          dataTable['output_type'] = 'display_data';\n",
       "          await google.colab.output.renderOutput(dataTable, element);\n",
       "          const docLink = document.createElement('div');\n",
       "          docLink.innerHTML = docLinkHtml;\n",
       "          element.appendChild(docLink);\n",
       "        }\n",
       "      </script>\n",
       "    </div>\n",
       "  </div>\n",
       "  "
      ],
      "text/plain": [
       "      label                                              tweet  \\\n",
       "29     fear  hari ini jadwal presentasi proker di lppm karn...   \n",
       "22    happy  ketika aku tersenyum bukan berarti hidupku sem...   \n",
       "35     love  kenapa pasangan seringkali diibaratkan sebagai...   \n",
       "32  sadness  sungguh mencintaimu berat sekali. berpisah den...   \n",
       "30    anger  foto saya di instagram masih ada cuma lupa pas...   \n",
       "\n",
       "                                          remove_punc  \\\n",
       "29  hari ini jadwal presentasi proker di lppm karn...   \n",
       "22  ketika aku tersenyum bukan berarti hidupku sem...   \n",
       "35  kenapa pasangan seringkali diibaratkan sebagai...   \n",
       "32  sungguh mencintaimu berat sekali berpisah deng...   \n",
       "30  foto saya di instagram masih ada cuma lupa pas...   \n",
       "\n",
       "                                                clean  label_id  \n",
       "29  hari jadwal presentasi proker lppm karna prakt...         1  \n",
       "22   aku senyum bukan arti hidup sempurna aku syuk...         2  \n",
       "35   pasang seringkali ibarat bagai rumah rasa nya...         3  \n",
       "32  sungguh cinta berat sekali pisah hadiahperasaa...         4  \n",
       "30  foto instagram cuma lupa password instanya jad...         0  "
      ]
     },
     "execution_count": 23,
     "metadata": {},
     "output_type": "execute_result"
    }
   ],
   "source": [
    "train.head()"
   ]
  },
  {
   "cell_type": "code",
   "execution_count": 24,
   "metadata": {
    "colab": {
     "base_uri": "https://localhost:8080/"
    },
    "executionInfo": {
     "elapsed": 23,
     "status": "ok",
     "timestamp": 1662032978448,
     "user": {
      "displayName": "Nilam mufidah",
      "userId": "02981889232249357983"
     },
     "user_tz": -420
    },
    "id": "wNiKa8Pav_2u",
    "outputId": "d14c242d-c03c-4a31-e18f-b57115e5957d"
   },
   "outputs": [
    {
     "name": "stdout",
     "output_type": "stream",
     "text": [
      "<class 'pandas.core.frame.DataFrame'>\n",
      "Int64Index: 40 entries, 29 to 49\n",
      "Data columns (total 5 columns):\n",
      " #   Column       Non-Null Count  Dtype \n",
      "---  ------       --------------  ----- \n",
      " 0   label        40 non-null     object\n",
      " 1   tweet        40 non-null     object\n",
      " 2   remove_punc  40 non-null     object\n",
      " 3   clean        40 non-null     object\n",
      " 4   label_id     40 non-null     int64 \n",
      "dtypes: int64(1), object(4)\n",
      "memory usage: 1.9+ KB\n"
     ]
    }
   ],
   "source": [
    "train.info()"
   ]
  },
  {
   "cell_type": "code",
   "execution_count": 25,
   "metadata": {
    "colab": {
     "base_uri": "https://localhost:8080/"
    },
    "executionInfo": {
     "elapsed": 20,
     "status": "ok",
     "timestamp": 1662032978448,
     "user": {
      "displayName": "Nilam mufidah",
      "userId": "02981889232249357983"
     },
     "user_tz": -420
    },
    "id": "5ptjcwXRwkLU",
    "outputId": "afef254a-1f96-4832-c4f2-18d58bac6e75"
   },
   "outputs": [
    {
     "name": "stdout",
     "output_type": "stream",
     "text": [
      "(40, 5)\n"
     ]
    }
   ],
   "source": [
    "print(train.shape)"
   ]
  },
  {
   "cell_type": "code",
   "execution_count": 26,
   "metadata": {
    "executionInfo": {
     "elapsed": 19,
     "status": "ok",
     "timestamp": 1662032978448,
     "user": {
      "displayName": "Nilam mufidah",
      "userId": "02981889232249357983"
     },
     "user_tz": -420
    },
    "id": "IJ5lZY69xvm2"
   },
   "outputs": [],
   "source": [
    "text1 = train['clean'].values\n",
    "label = train['label_id'].values"
   ]
  },
  {
   "cell_type": "code",
   "execution_count": 27,
   "metadata": {
    "colab": {
     "base_uri": "https://localhost:8080/"
    },
    "executionInfo": {
     "elapsed": 20,
     "status": "ok",
     "timestamp": 1662032978449,
     "user": {
      "displayName": "Nilam mufidah",
      "userId": "02981889232249357983"
     },
     "user_tz": -420
    },
    "id": "o0wjgSz7woUO",
    "outputId": "ec0995b8-feb2-44ad-c1c1-637dde88dbac"
   },
   "outputs": [
    {
     "name": "stdout",
     "output_type": "stream",
     "text": [
      "(40,)\n"
     ]
    }
   ],
   "source": [
    "print(label.shape)"
   ]
  },
  {
   "cell_type": "code",
   "execution_count": 28,
   "metadata": {
    "executionInfo": {
     "elapsed": 19,
     "status": "ok",
     "timestamp": 1662032978449,
     "user": {
      "displayName": "Nilam mufidah",
      "userId": "02981889232249357983"
     },
     "user_tz": -420
    },
    "id": "xEVSlsUmx-e_"
   },
   "outputs": [],
   "source": [
    "#mendefinisikan parameter\n",
    "tokenizer = Tokenizer()\n",
    "tokenizer.fit_on_texts(text1)\n",
    "\n",
    "vocab = max([len(tokenizer.word_index)]) + 1 # kamus kata \n",
    "max_sentence_length = 100 # panjang kalimat\n",
    "batch_size = 32 # penentuan jumlah sampel yang ditraining pada tiap epoch\n",
    "num_epochs = 30 # banyak iterasi pada saat training model \n",
    "initializer = initializers.RandomUniform(minval=-0.05, maxval=0.05, seed=2) # mengatur angka random weigth\n",
    "embedding_dim = 300"
   ]
  },
  {
   "cell_type": "code",
   "execution_count": 29,
   "metadata": {
    "executionInfo": {
     "elapsed": 19,
     "status": "ok",
     "timestamp": 1662032978450,
     "user": {
      "displayName": "Nilam mufidah",
      "userId": "02981889232249357983"
     },
     "user_tz": -420
    },
    "id": "i0Zv1V6ayDkP"
   },
   "outputs": [],
   "source": [
    "#Data Train\n",
    "X = tokenizer.texts_to_sequences(text1)\n",
    "X = pad_sequences(X, maxlen=max_sentence_length)\n",
    "Y = to_categorical(label, num_classes = leng)"
   ]
  },
  {
   "cell_type": "code",
   "execution_count": 30,
   "metadata": {
    "colab": {
     "base_uri": "https://localhost:8080/"
    },
    "executionInfo": {
     "elapsed": 512,
     "status": "ok",
     "timestamp": 1662032978943,
     "user": {
      "displayName": "Nilam mufidah",
      "userId": "02981889232249357983"
     },
     "user_tz": -420
    },
    "id": "mJDOAy9SwuW4",
    "outputId": "b6d840e1-fc97-418e-c4bd-8e021f9a5283"
   },
   "outputs": [
    {
     "name": "stdout",
     "output_type": "stream",
     "text": [
      "(40, 5)\n"
     ]
    }
   ],
   "source": [
    "print(Y.shape)"
   ]
  },
  {
   "cell_type": "code",
   "execution_count": 31,
   "metadata": {
    "executionInfo": {
     "elapsed": 16,
     "status": "ok",
     "timestamp": 1662032978944,
     "user": {
      "displayName": "Nilam mufidah",
      "userId": "02981889232249357983"
     },
     "user_tz": -420
    },
    "id": "yLD6vmJMk9Jv"
   },
   "outputs": [],
   "source": [
    "#Data test\n",
    "x_test = tokenizer.texts_to_sequences(test['clean'].values)\n",
    "x_test = pad_sequences(x_test, maxlen=max_sentence_length)\n",
    "\n",
    "Y_test = to_categorical(test['label_id'], num_classes = leng)"
   ]
  },
  {
   "cell_type": "code",
   "execution_count": 32,
   "metadata": {
    "colab": {
     "base_uri": "https://localhost:8080/"
    },
    "executionInfo": {
     "elapsed": 15,
     "status": "ok",
     "timestamp": 1662032978944,
     "user": {
      "displayName": "Nilam mufidah",
      "userId": "02981889232249357983"
     },
     "user_tz": -420
    },
    "id": "p2CUFzPsyKNq",
    "outputId": "f01c2a6e-d334-496d-b049-bb0bb42d12fa"
   },
   "outputs": [
    {
     "name": "stdout",
     "output_type": "stream",
     "text": [
      "Model: \"sequential\"\n",
      "_________________________________________________________________\n",
      " Layer (type)                Output Shape              Param #   \n",
      "=================================================================\n",
      " embedding (Embedding)       (None, 100, 128)          77184     \n",
      "                                                                 \n",
      " conv1d (Conv1D)             (None, 100, 128)          114816    \n",
      "                                                                 \n",
      " max_pooling1d (MaxPooling1D  (None, 50, 128)          0         \n",
      " )                                                               \n",
      "                                                                 \n",
      " conv1d_1 (Conv1D)           (None, 50, 256)           164096    \n",
      "                                                                 \n",
      " max_pooling1d_1 (MaxPooling  (None, 25, 256)          0         \n",
      " 1D)                                                             \n",
      "                                                                 \n",
      " conv1d_2 (Conv1D)           (None, 25, 512)           393728    \n",
      "                                                                 \n",
      " max_pooling1d_2 (MaxPooling  (None, 12, 512)          0         \n",
      " 1D)                                                             \n",
      "                                                                 \n",
      " flatten (Flatten)           (None, 6144)              0         \n",
      "                                                                 \n",
      " dense (Dense)               (None, 128)               786560    \n",
      "                                                                 \n",
      " dropout (Dropout)           (None, 128)               0         \n",
      "                                                                 \n",
      " dense_1 (Dense)             (None, 5)                 645       \n",
      "                                                                 \n",
      "=================================================================\n",
      "Total params: 1,537,029\n",
      "Trainable params: 1,537,029\n",
      "Non-trainable params: 0\n",
      "_________________________________________________________________\n"
     ]
    }
   ],
   "source": [
    "model = get_model(X, Y)"
   ]
  },
  {
   "cell_type": "code",
   "execution_count": 33,
   "metadata": {
    "colab": {
     "base_uri": "https://localhost:8080/"
    },
    "executionInfo": {
     "elapsed": 21511,
     "status": "ok",
     "timestamp": 1662033000450,
     "user": {
      "displayName": "Nilam mufidah",
      "userId": "02981889232249357983"
     },
     "user_tz": -420
    },
    "id": "Ly1AZ5aOyMZv",
    "outputId": "1f6cc33f-14b3-42f1-99e1-1d573a204e36"
   },
   "outputs": [
    {
     "name": "stdout",
     "output_type": "stream",
     "text": [
      "Epoch 1/30\n",
      "2/2 [==============================] - 1s 69ms/step - loss: 1.6090 - accuracy: 0.2000\n",
      "Epoch 2/30\n",
      "2/2 [==============================] - 0s 67ms/step - loss: 1.5355 - accuracy: 0.3750\n",
      "Epoch 3/30\n",
      "2/2 [==============================] - 0s 77ms/step - loss: 1.5230 - accuracy: 0.3250\n",
      "Epoch 4/30\n",
      "2/2 [==============================] - 0s 68ms/step - loss: 1.4906 - accuracy: 0.4250\n",
      "Epoch 5/30\n",
      "2/2 [==============================] - 0s 67ms/step - loss: 1.4744 - accuracy: 0.3750\n",
      "Epoch 6/30\n",
      "2/2 [==============================] - 0s 79ms/step - loss: 1.4860 - accuracy: 0.4000\n",
      "Epoch 7/30\n",
      "2/2 [==============================] - 0s 72ms/step - loss: 1.4936 - accuracy: 0.2750\n",
      "Epoch 8/30\n",
      "2/2 [==============================] - 0s 66ms/step - loss: 1.4130 - accuracy: 0.3750\n",
      "Epoch 9/30\n",
      "2/2 [==============================] - 0s 70ms/step - loss: 1.3947 - accuracy: 0.3250\n",
      "Epoch 10/30\n",
      "2/2 [==============================] - 0s 71ms/step - loss: 1.3292 - accuracy: 0.3500\n",
      "Epoch 11/30\n",
      "2/2 [==============================] - 0s 73ms/step - loss: 1.2478 - accuracy: 0.3250\n",
      "Epoch 12/30\n",
      "2/2 [==============================] - 0s 69ms/step - loss: 1.0591 - accuracy: 0.4500\n",
      "Epoch 13/30\n",
      "2/2 [==============================] - 0s 66ms/step - loss: 1.0115 - accuracy: 0.4750\n",
      "Epoch 14/30\n",
      "2/2 [==============================] - 0s 67ms/step - loss: 1.0409 - accuracy: 0.4000\n",
      "Epoch 15/30\n",
      "2/2 [==============================] - 0s 73ms/step - loss: 0.9965 - accuracy: 0.4500\n",
      "Epoch 16/30\n",
      "2/2 [==============================] - 0s 66ms/step - loss: 0.8350 - accuracy: 0.4500\n",
      "Epoch 17/30\n",
      "2/2 [==============================] - 0s 78ms/step - loss: 0.7498 - accuracy: 0.6250\n",
      "Epoch 18/30\n",
      "2/2 [==============================] - 1s 160ms/step - loss: 0.7778 - accuracy: 0.6750\n",
      "Epoch 19/30\n",
      "2/2 [==============================] - 1s 111ms/step - loss: 0.7619 - accuracy: 0.7000\n",
      "Epoch 20/30\n",
      "2/2 [==============================] - 0s 63ms/step - loss: 0.6245 - accuracy: 0.7000\n",
      "Epoch 21/30\n",
      "2/2 [==============================] - 1s 178ms/step - loss: 0.6010 - accuracy: 0.6750\n",
      "Epoch 22/30\n",
      "2/2 [==============================] - 1s 128ms/step - loss: 0.5270 - accuracy: 0.6500\n",
      "Epoch 23/30\n",
      "2/2 [==============================] - 0s 70ms/step - loss: 0.5136 - accuracy: 0.7250\n",
      "Epoch 24/30\n",
      "2/2 [==============================] - 0s 134ms/step - loss: 0.4189 - accuracy: 0.9000\n",
      "Epoch 25/30\n",
      "2/2 [==============================] - 1s 161ms/step - loss: 0.3536 - accuracy: 0.9500\n",
      "Epoch 26/30\n",
      "2/2 [==============================] - 0s 67ms/step - loss: 0.3029 - accuracy: 0.9250\n",
      "Epoch 27/30\n",
      "2/2 [==============================] - 0s 65ms/step - loss: 0.2191 - accuracy: 0.9500\n",
      "Epoch 28/30\n",
      "2/2 [==============================] - 0s 82ms/step - loss: 0.1437 - accuracy: 0.9500\n",
      "Epoch 29/30\n",
      "2/2 [==============================] - 0s 69ms/step - loss: 0.1129 - accuracy: 0.9750\n",
      "Epoch 30/30\n",
      "2/2 [==============================] - 0s 69ms/step - loss: 0.1485 - accuracy: 0.9500\n"
     ]
    },
    {
     "data": {
      "text/plain": [
       "<keras.callbacks.History at 0x7f0958283390>"
      ]
     },
     "execution_count": 33,
     "metadata": {},
     "output_type": "execute_result"
    }
   ],
   "source": [
    "# training model\n",
    "model.fit(X, Y, batch_size=batch_size, epochs=num_epochs, verbose=1)"
   ]
  },
  {
   "cell_type": "code",
   "execution_count": 34,
   "metadata": {
    "colab": {
     "base_uri": "https://localhost:8080/"
    },
    "executionInfo": {
     "elapsed": 14,
     "status": "ok",
     "timestamp": 1662033000451,
     "user": {
      "displayName": "Nilam mufidah",
      "userId": "02981889232249357983"
     },
     "user_tz": -420
    },
    "id": "jgI2etbwyPwE",
    "outputId": "4c12f3bf-6d9c-4128-d8b6-76f5a64663aa"
   },
   "outputs": [
    {
     "name": "stdout",
     "output_type": "stream",
     "text": [
      "Accuracy: 40.00 %\n"
     ]
    }
   ],
   "source": [
    "acc = evaluation(model, x_test, test['label_id'].values)\n",
    "print(\"Accuracy: %.2f\" % (acc*100), \"%\")"
   ]
  },
  {
   "cell_type": "code",
   "execution_count": 35,
   "metadata": {
    "colab": {
     "base_uri": "https://localhost:8080/",
     "height": 206
    },
    "executionInfo": {
     "elapsed": 11,
     "status": "ok",
     "timestamp": 1662033000451,
     "user": {
      "displayName": "Nilam mufidah",
      "userId": "02981889232249357983"
     },
     "user_tz": -420
    },
    "id": "q7NEMIj53LHN",
    "outputId": "b9dc82ed-d35b-459a-fa71-d6c7344bbe82"
   },
   "outputs": [
    {
     "data": {
      "text/html": [
       "\n",
       "  <div id=\"df-8089da78-46c9-4a34-8e42-19f112c07ff2\">\n",
       "    <div class=\"colab-df-container\">\n",
       "      <div>\n",
       "<style scoped>\n",
       "    .dataframe tbody tr th:only-of-type {\n",
       "        vertical-align: middle;\n",
       "    }\n",
       "\n",
       "    .dataframe tbody tr th {\n",
       "        vertical-align: top;\n",
       "    }\n",
       "\n",
       "    .dataframe thead th {\n",
       "        text-align: right;\n",
       "    }\n",
       "</style>\n",
       "<table border=\"1\" class=\"dataframe\">\n",
       "  <thead>\n",
       "    <tr style=\"text-align: right;\">\n",
       "      <th></th>\n",
       "      <th>label</th>\n",
       "      <th>tweet</th>\n",
       "      <th>remove_punc</th>\n",
       "      <th>clean</th>\n",
       "      <th>label_id</th>\n",
       "    </tr>\n",
       "  </thead>\n",
       "  <tbody>\n",
       "    <tr>\n",
       "      <th>29</th>\n",
       "      <td>fear</td>\n",
       "      <td>hari ini jadwal presentasi proker di lppm karn...</td>\n",
       "      <td>hari ini jadwal presentasi proker di lppm karn...</td>\n",
       "      <td>hari jadwal presentasi proker lppm karna prakt...</td>\n",
       "      <td>1</td>\n",
       "    </tr>\n",
       "    <tr>\n",
       "      <th>22</th>\n",
       "      <td>happy</td>\n",
       "      <td>ketika aku tersenyum bukan berarti hidupku sem...</td>\n",
       "      <td>ketika aku tersenyum bukan berarti hidupku sem...</td>\n",
       "      <td>aku senyum bukan arti hidup sempurna aku syuk...</td>\n",
       "      <td>2</td>\n",
       "    </tr>\n",
       "    <tr>\n",
       "      <th>35</th>\n",
       "      <td>love</td>\n",
       "      <td>kenapa pasangan seringkali diibaratkan sebagai...</td>\n",
       "      <td>kenapa pasangan seringkali diibaratkan sebagai...</td>\n",
       "      <td>pasang seringkali ibarat bagai rumah rasa nya...</td>\n",
       "      <td>3</td>\n",
       "    </tr>\n",
       "    <tr>\n",
       "      <th>32</th>\n",
       "      <td>sadness</td>\n",
       "      <td>sungguh mencintaimu berat sekali. berpisah den...</td>\n",
       "      <td>sungguh mencintaimu berat sekali berpisah deng...</td>\n",
       "      <td>sungguh cinta berat sekali pisah hadiahperasaa...</td>\n",
       "      <td>4</td>\n",
       "    </tr>\n",
       "    <tr>\n",
       "      <th>30</th>\n",
       "      <td>anger</td>\n",
       "      <td>foto saya di instagram masih ada cuma lupa pas...</td>\n",
       "      <td>foto saya di instagram masih ada cuma lupa pas...</td>\n",
       "      <td>foto instagram cuma lupa password instanya jad...</td>\n",
       "      <td>0</td>\n",
       "    </tr>\n",
       "  </tbody>\n",
       "</table>\n",
       "</div>\n",
       "      <button class=\"colab-df-convert\" onclick=\"convertToInteractive('df-8089da78-46c9-4a34-8e42-19f112c07ff2')\"\n",
       "              title=\"Convert this dataframe to an interactive table.\"\n",
       "              style=\"display:none;\">\n",
       "        \n",
       "  <svg xmlns=\"http://www.w3.org/2000/svg\" height=\"24px\"viewBox=\"0 0 24 24\"\n",
       "       width=\"24px\">\n",
       "    <path d=\"M0 0h24v24H0V0z\" fill=\"none\"/>\n",
       "    <path d=\"M18.56 5.44l.94 2.06.94-2.06 2.06-.94-2.06-.94-.94-2.06-.94 2.06-2.06.94zm-11 1L8.5 8.5l.94-2.06 2.06-.94-2.06-.94L8.5 2.5l-.94 2.06-2.06.94zm10 10l.94 2.06.94-2.06 2.06-.94-2.06-.94-.94-2.06-.94 2.06-2.06.94z\"/><path d=\"M17.41 7.96l-1.37-1.37c-.4-.4-.92-.59-1.43-.59-.52 0-1.04.2-1.43.59L10.3 9.45l-7.72 7.72c-.78.78-.78 2.05 0 2.83L4 21.41c.39.39.9.59 1.41.59.51 0 1.02-.2 1.41-.59l7.78-7.78 2.81-2.81c.8-.78.8-2.07 0-2.86zM5.41 20L4 18.59l7.72-7.72 1.47 1.35L5.41 20z\"/>\n",
       "  </svg>\n",
       "      </button>\n",
       "      \n",
       "  <style>\n",
       "    .colab-df-container {\n",
       "      display:flex;\n",
       "      flex-wrap:wrap;\n",
       "      gap: 12px;\n",
       "    }\n",
       "\n",
       "    .colab-df-convert {\n",
       "      background-color: #E8F0FE;\n",
       "      border: none;\n",
       "      border-radius: 50%;\n",
       "      cursor: pointer;\n",
       "      display: none;\n",
       "      fill: #1967D2;\n",
       "      height: 32px;\n",
       "      padding: 0 0 0 0;\n",
       "      width: 32px;\n",
       "    }\n",
       "\n",
       "    .colab-df-convert:hover {\n",
       "      background-color: #E2EBFA;\n",
       "      box-shadow: 0px 1px 2px rgba(60, 64, 67, 0.3), 0px 1px 3px 1px rgba(60, 64, 67, 0.15);\n",
       "      fill: #174EA6;\n",
       "    }\n",
       "\n",
       "    [theme=dark] .colab-df-convert {\n",
       "      background-color: #3B4455;\n",
       "      fill: #D2E3FC;\n",
       "    }\n",
       "\n",
       "    [theme=dark] .colab-df-convert:hover {\n",
       "      background-color: #434B5C;\n",
       "      box-shadow: 0px 1px 3px 1px rgba(0, 0, 0, 0.15);\n",
       "      filter: drop-shadow(0px 1px 2px rgba(0, 0, 0, 0.3));\n",
       "      fill: #FFFFFF;\n",
       "    }\n",
       "  </style>\n",
       "\n",
       "      <script>\n",
       "        const buttonEl =\n",
       "          document.querySelector('#df-8089da78-46c9-4a34-8e42-19f112c07ff2 button.colab-df-convert');\n",
       "        buttonEl.style.display =\n",
       "          google.colab.kernel.accessAllowed ? 'block' : 'none';\n",
       "\n",
       "        async function convertToInteractive(key) {\n",
       "          const element = document.querySelector('#df-8089da78-46c9-4a34-8e42-19f112c07ff2');\n",
       "          const dataTable =\n",
       "            await google.colab.kernel.invokeFunction('convertToInteractive',\n",
       "                                                     [key], {});\n",
       "          if (!dataTable) return;\n",
       "\n",
       "          const docLinkHtml = 'Like what you see? Visit the ' +\n",
       "            '<a target=\"_blank\" href=https://colab.research.google.com/notebooks/data_table.ipynb>data table notebook</a>'\n",
       "            + ' to learn more about interactive tables.';\n",
       "          element.innerHTML = '';\n",
       "          dataTable['output_type'] = 'display_data';\n",
       "          await google.colab.output.renderOutput(dataTable, element);\n",
       "          const docLink = document.createElement('div');\n",
       "          docLink.innerHTML = docLinkHtml;\n",
       "          element.appendChild(docLink);\n",
       "        }\n",
       "      </script>\n",
       "    </div>\n",
       "  </div>\n",
       "  "
      ],
      "text/plain": [
       "      label                                              tweet  \\\n",
       "29     fear  hari ini jadwal presentasi proker di lppm karn...   \n",
       "22    happy  ketika aku tersenyum bukan berarti hidupku sem...   \n",
       "35     love  kenapa pasangan seringkali diibaratkan sebagai...   \n",
       "32  sadness  sungguh mencintaimu berat sekali. berpisah den...   \n",
       "30    anger  foto saya di instagram masih ada cuma lupa pas...   \n",
       "\n",
       "                                          remove_punc  \\\n",
       "29  hari ini jadwal presentasi proker di lppm karn...   \n",
       "22  ketika aku tersenyum bukan berarti hidupku sem...   \n",
       "35  kenapa pasangan seringkali diibaratkan sebagai...   \n",
       "32  sungguh mencintaimu berat sekali berpisah deng...   \n",
       "30  foto saya di instagram masih ada cuma lupa pas...   \n",
       "\n",
       "                                                clean  label_id  \n",
       "29  hari jadwal presentasi proker lppm karna prakt...         1  \n",
       "22   aku senyum bukan arti hidup sempurna aku syuk...         2  \n",
       "35   pasang seringkali ibarat bagai rumah rasa nya...         3  \n",
       "32  sungguh cinta berat sekali pisah hadiahperasaa...         4  \n",
       "30  foto instagram cuma lupa password instanya jad...         0  "
      ]
     },
     "execution_count": 35,
     "metadata": {},
     "output_type": "execute_result"
    }
   ],
   "source": [
    "train.head()"
   ]
  },
  {
   "cell_type": "code",
   "execution_count": 36,
   "metadata": {
    "colab": {
     "base_uri": "https://localhost:8080/",
     "height": 1000
    },
    "executionInfo": {
     "elapsed": 550,
     "status": "ok",
     "timestamp": 1662033000991,
     "user": {
      "displayName": "Nilam mufidah",
      "userId": "02981889232249357983"
     },
     "user_tz": -420
    },
    "id": "5xRD504H2dez",
    "outputId": "81077d49-a30c-44fb-c249-a0ec330e540d"
   },
   "outputs": [
    {
     "data": {
      "text/html": [
       "\n",
       "  <div id=\"df-866b66b7-c493-4f33-bde5-a2eb2ed405b9\">\n",
       "    <div class=\"colab-df-container\">\n",
       "      <div>\n",
       "<style scoped>\n",
       "    .dataframe tbody tr th:only-of-type {\n",
       "        vertical-align: middle;\n",
       "    }\n",
       "\n",
       "    .dataframe tbody tr th {\n",
       "        vertical-align: top;\n",
       "    }\n",
       "\n",
       "    .dataframe thead th {\n",
       "        text-align: right;\n",
       "    }\n",
       "</style>\n",
       "<table border=\"1\" class=\"dataframe\">\n",
       "  <thead>\n",
       "    <tr style=\"text-align: right;\">\n",
       "      <th></th>\n",
       "      <th>label</th>\n",
       "      <th>clean</th>\n",
       "      <th>label_id</th>\n",
       "    </tr>\n",
       "  </thead>\n",
       "  <tbody>\n",
       "    <tr>\n",
       "      <th>29</th>\n",
       "      <td>fear</td>\n",
       "      <td>hari jadwal presentasi proker lppm karna prakt...</td>\n",
       "      <td>1</td>\n",
       "    </tr>\n",
       "    <tr>\n",
       "      <th>22</th>\n",
       "      <td>happy</td>\n",
       "      <td>aku senyum bukan arti hidup sempurna aku syuk...</td>\n",
       "      <td>2</td>\n",
       "    </tr>\n",
       "    <tr>\n",
       "      <th>35</th>\n",
       "      <td>love</td>\n",
       "      <td>pasang seringkali ibarat bagai rumah rasa nya...</td>\n",
       "      <td>3</td>\n",
       "    </tr>\n",
       "    <tr>\n",
       "      <th>32</th>\n",
       "      <td>sadness</td>\n",
       "      <td>sungguh cinta berat sekali pisah hadiahperasaa...</td>\n",
       "      <td>4</td>\n",
       "    </tr>\n",
       "    <tr>\n",
       "      <th>30</th>\n",
       "      <td>anger</td>\n",
       "      <td>foto instagram cuma lupa password instanya jad...</td>\n",
       "      <td>0</td>\n",
       "    </tr>\n",
       "    <tr>\n",
       "      <th>26</th>\n",
       "      <td>happy</td>\n",
       "      <td>sukses n keren banget dgn no1 kualitasbhn krja...</td>\n",
       "      <td>2</td>\n",
       "    </tr>\n",
       "    <tr>\n",
       "      <th>17</th>\n",
       "      <td>anger</td>\n",
       "      <td>sedap kali kau bobok kasur ku aku tidur kau ik...</td>\n",
       "      <td>0</td>\n",
       "    </tr>\n",
       "    <tr>\n",
       "      <th>46</th>\n",
       "      <td>anger</td>\n",
       "      <td>ngerti sama ciwiciwi nyinyirin via vallen kor...</td>\n",
       "      <td>0</td>\n",
       "    </tr>\n",
       "    <tr>\n",
       "      <th>14</th>\n",
       "      <td>anger</td>\n",
       "      <td>samanye udeh maling semua gak si jancok gak si...</td>\n",
       "      <td>0</td>\n",
       "    </tr>\n",
       "    <tr>\n",
       "      <th>21</th>\n",
       "      <td>sadness</td>\n",
       "      <td>paruh hati iri lihat orang anak yg duduk jalan...</td>\n",
       "      <td>4</td>\n",
       "    </tr>\n",
       "    <tr>\n",
       "      <th>24</th>\n",
       "      <td>love</td>\n",
       "      <td>kan peluk engkau erat2 hingga tak orang rebut ...</td>\n",
       "      <td>3</td>\n",
       "    </tr>\n",
       "    <tr>\n",
       "      <th>39</th>\n",
       "      <td>sadness</td>\n",
       "      <td>bukan dukung doa cuma sikap apa sudah2 pilih u...</td>\n",
       "      <td>4</td>\n",
       "    </tr>\n",
       "    <tr>\n",
       "      <th>11</th>\n",
       "      <td>anger</td>\n",
       "      <td>kalaupun fansite ngejual hasil jepret uang nya...</td>\n",
       "      <td>0</td>\n",
       "    </tr>\n",
       "    <tr>\n",
       "      <th>44</th>\n",
       "      <td>sadness</td>\n",
       "      <td>iya ibu nya ngelahirin anak 3 cewek tpi gak t...</td>\n",
       "      <td>4</td>\n",
       "    </tr>\n",
       "    <tr>\n",
       "      <th>38</th>\n",
       "      <td>happy</td>\n",
       "      <td>bberapa tahun kemudian sejahtera keluarga makm...</td>\n",
       "      <td>2</td>\n",
       "    </tr>\n",
       "    <tr>\n",
       "      <th>31</th>\n",
       "      <td>fear</td>\n",
       "      <td>drama kmarin sore hari puasa trus pa lg mandi ...</td>\n",
       "      <td>1</td>\n",
       "    </tr>\n",
       "    <tr>\n",
       "      <th>41</th>\n",
       "      <td>anger</td>\n",
       "      <td>gemes bgt sama orang yg anggap wajar leceh sex...</td>\n",
       "      <td>0</td>\n",
       "    </tr>\n",
       "    <tr>\n",
       "      <th>9</th>\n",
       "      <td>sadness</td>\n",
       "      <td>pulang udah h4 lebaran dilema sekali laku apa2...</td>\n",
       "      <td>4</td>\n",
       "    </tr>\n",
       "    <tr>\n",
       "      <th>37</th>\n",
       "      <td>happy</td>\n",
       "      <td>ponakan kls 4 sd lg demen nonton video tutoria...</td>\n",
       "      <td>2</td>\n",
       "    </tr>\n",
       "    <tr>\n",
       "      <th>5</th>\n",
       "      <td>anger</td>\n",
       "      <td>sekian banyak thread aku baca thread paling a...</td>\n",
       "      <td>0</td>\n",
       "    </tr>\n",
       "    <tr>\n",
       "      <th>6</th>\n",
       "      <td>happy</td>\n",
       "      <td>sharing sama temen tuh emg bgt lu ngerasa masa...</td>\n",
       "      <td>2</td>\n",
       "    </tr>\n",
       "    <tr>\n",
       "      <th>1</th>\n",
       "      <td>anger</td>\n",
       "      <td>sama cewe lho kayak lebih rasain lah sibuk jag...</td>\n",
       "      <td>0</td>\n",
       "    </tr>\n",
       "    <tr>\n",
       "      <th>40</th>\n",
       "      <td>happy</td>\n",
       "      <td>jnejnt lama pake entah kirim paketbeli olshop ...</td>\n",
       "      <td>2</td>\n",
       "    </tr>\n",
       "    <tr>\n",
       "      <th>34</th>\n",
       "      <td>happy</td>\n",
       "      <td>akhir lewat semua semua dulu bayang betapa su...</td>\n",
       "      <td>2</td>\n",
       "    </tr>\n",
       "    <tr>\n",
       "      <th>2</th>\n",
       "      <td>happy</td>\n",
       "      <td>kepingin gudeg mbarek bu hj amad foto google s...</td>\n",
       "      <td>2</td>\n",
       "    </tr>\n",
       "    <tr>\n",
       "      <th>47</th>\n",
       "      <td>anger</td>\n",
       "      <td>hari libur rencana mau nonton jurassic world k...</td>\n",
       "      <td>0</td>\n",
       "    </tr>\n",
       "    <tr>\n",
       "      <th>48</th>\n",
       "      <td>anger</td>\n",
       "      <td>nah yg nunggu anak anteng sabar luas samudra t...</td>\n",
       "      <td>0</td>\n",
       "    </tr>\n",
       "    <tr>\n",
       "      <th>42</th>\n",
       "      <td>fear</td>\n",
       "      <td>apa hukum main musik stad jelas haroooom hukum...</td>\n",
       "      <td>1</td>\n",
       "    </tr>\n",
       "    <tr>\n",
       "      <th>28</th>\n",
       "      <td>anger</td>\n",
       "      <td>gimana orang ga nilai dr jilbabsyaringgak nya ...</td>\n",
       "      <td>0</td>\n",
       "    </tr>\n",
       "    <tr>\n",
       "      <th>43</th>\n",
       "      <td>anger</td>\n",
       "      <td>apa hebat mardani turut sy oeang cuma besar mu...</td>\n",
       "      <td>0</td>\n",
       "    </tr>\n",
       "    <tr>\n",
       "      <th>12</th>\n",
       "      <td>happy</td>\n",
       "      <td>sangat syukur doa kakek bung karno sama anakan...</td>\n",
       "      <td>2</td>\n",
       "    </tr>\n",
       "    <tr>\n",
       "      <th>36</th>\n",
       "      <td>fear</td>\n",
       "      <td>tau kalo rasa sakit hati memamg sulit kala ny...</td>\n",
       "      <td>1</td>\n",
       "    </tr>\n",
       "    <tr>\n",
       "      <th>10</th>\n",
       "      <td>anger</td>\n",
       "      <td>betul min rakyat indonesia sekarang harap nya ...</td>\n",
       "      <td>0</td>\n",
       "    </tr>\n",
       "    <tr>\n",
       "      <th>7</th>\n",
       "      <td>sadness</td>\n",
       "      <td>orang kalau pake ponco buat jas hujan nah pake...</td>\n",
       "      <td>4</td>\n",
       "    </tr>\n",
       "    <tr>\n",
       "      <th>45</th>\n",
       "      <td>happy</td>\n",
       "      <td>z suka twitter soalny perempuan ji semua teman...</td>\n",
       "      <td>2</td>\n",
       "    </tr>\n",
       "    <tr>\n",
       "      <th>18</th>\n",
       "      <td>happy</td>\n",
       "      <td>h9 mau bank rame bgt ampe antri tempat duduk l...</td>\n",
       "      <td>2</td>\n",
       "    </tr>\n",
       "    <tr>\n",
       "      <th>13</th>\n",
       "      <td>sadness</td>\n",
       "      <td>sulit terima nyata memang anggap interaksi sat...</td>\n",
       "      <td>4</td>\n",
       "    </tr>\n",
       "    <tr>\n",
       "      <th>0</th>\n",
       "      <td>anger</td>\n",
       "      <td>soal jln jatibarupolisi tdk b gertak gubernur ...</td>\n",
       "      <td>0</td>\n",
       "    </tr>\n",
       "    <tr>\n",
       "      <th>23</th>\n",
       "      <td>sadness</td>\n",
       "      <td>mau tdr tidur sampe bgn tdr kok yaa kayak nge...</td>\n",
       "      <td>4</td>\n",
       "    </tr>\n",
       "    <tr>\n",
       "      <th>49</th>\n",
       "      <td>love</td>\n",
       "      <td>ku rindu bisik mu telinga kau kata moga kelak ...</td>\n",
       "      <td>3</td>\n",
       "    </tr>\n",
       "  </tbody>\n",
       "</table>\n",
       "</div>\n",
       "      <button class=\"colab-df-convert\" onclick=\"convertToInteractive('df-866b66b7-c493-4f33-bde5-a2eb2ed405b9')\"\n",
       "              title=\"Convert this dataframe to an interactive table.\"\n",
       "              style=\"display:none;\">\n",
       "        \n",
       "  <svg xmlns=\"http://www.w3.org/2000/svg\" height=\"24px\"viewBox=\"0 0 24 24\"\n",
       "       width=\"24px\">\n",
       "    <path d=\"M0 0h24v24H0V0z\" fill=\"none\"/>\n",
       "    <path d=\"M18.56 5.44l.94 2.06.94-2.06 2.06-.94-2.06-.94-.94-2.06-.94 2.06-2.06.94zm-11 1L8.5 8.5l.94-2.06 2.06-.94-2.06-.94L8.5 2.5l-.94 2.06-2.06.94zm10 10l.94 2.06.94-2.06 2.06-.94-2.06-.94-.94-2.06-.94 2.06-2.06.94z\"/><path d=\"M17.41 7.96l-1.37-1.37c-.4-.4-.92-.59-1.43-.59-.52 0-1.04.2-1.43.59L10.3 9.45l-7.72 7.72c-.78.78-.78 2.05 0 2.83L4 21.41c.39.39.9.59 1.41.59.51 0 1.02-.2 1.41-.59l7.78-7.78 2.81-2.81c.8-.78.8-2.07 0-2.86zM5.41 20L4 18.59l7.72-7.72 1.47 1.35L5.41 20z\"/>\n",
       "  </svg>\n",
       "      </button>\n",
       "      \n",
       "  <style>\n",
       "    .colab-df-container {\n",
       "      display:flex;\n",
       "      flex-wrap:wrap;\n",
       "      gap: 12px;\n",
       "    }\n",
       "\n",
       "    .colab-df-convert {\n",
       "      background-color: #E8F0FE;\n",
       "      border: none;\n",
       "      border-radius: 50%;\n",
       "      cursor: pointer;\n",
       "      display: none;\n",
       "      fill: #1967D2;\n",
       "      height: 32px;\n",
       "      padding: 0 0 0 0;\n",
       "      width: 32px;\n",
       "    }\n",
       "\n",
       "    .colab-df-convert:hover {\n",
       "      background-color: #E2EBFA;\n",
       "      box-shadow: 0px 1px 2px rgba(60, 64, 67, 0.3), 0px 1px 3px 1px rgba(60, 64, 67, 0.15);\n",
       "      fill: #174EA6;\n",
       "    }\n",
       "\n",
       "    [theme=dark] .colab-df-convert {\n",
       "      background-color: #3B4455;\n",
       "      fill: #D2E3FC;\n",
       "    }\n",
       "\n",
       "    [theme=dark] .colab-df-convert:hover {\n",
       "      background-color: #434B5C;\n",
       "      box-shadow: 0px 1px 3px 1px rgba(0, 0, 0, 0.15);\n",
       "      filter: drop-shadow(0px 1px 2px rgba(0, 0, 0, 0.3));\n",
       "      fill: #FFFFFF;\n",
       "    }\n",
       "  </style>\n",
       "\n",
       "      <script>\n",
       "        const buttonEl =\n",
       "          document.querySelector('#df-866b66b7-c493-4f33-bde5-a2eb2ed405b9 button.colab-df-convert');\n",
       "        buttonEl.style.display =\n",
       "          google.colab.kernel.accessAllowed ? 'block' : 'none';\n",
       "\n",
       "        async function convertToInteractive(key) {\n",
       "          const element = document.querySelector('#df-866b66b7-c493-4f33-bde5-a2eb2ed405b9');\n",
       "          const dataTable =\n",
       "            await google.colab.kernel.invokeFunction('convertToInteractive',\n",
       "                                                     [key], {});\n",
       "          if (!dataTable) return;\n",
       "\n",
       "          const docLinkHtml = 'Like what you see? Visit the ' +\n",
       "            '<a target=\"_blank\" href=https://colab.research.google.com/notebooks/data_table.ipynb>data table notebook</a>'\n",
       "            + ' to learn more about interactive tables.';\n",
       "          element.innerHTML = '';\n",
       "          dataTable['output_type'] = 'display_data';\n",
       "          await google.colab.output.renderOutput(dataTable, element);\n",
       "          const docLink = document.createElement('div');\n",
       "          docLink.innerHTML = docLinkHtml;\n",
       "          element.appendChild(docLink);\n",
       "        }\n",
       "      </script>\n",
       "    </div>\n",
       "  </div>\n",
       "  "
      ],
      "text/plain": [
       "      label                                              clean  label_id\n",
       "29     fear  hari jadwal presentasi proker lppm karna prakt...         1\n",
       "22    happy   aku senyum bukan arti hidup sempurna aku syuk...         2\n",
       "35     love   pasang seringkali ibarat bagai rumah rasa nya...         3\n",
       "32  sadness  sungguh cinta berat sekali pisah hadiahperasaa...         4\n",
       "30    anger  foto instagram cuma lupa password instanya jad...         0\n",
       "26    happy  sukses n keren banget dgn no1 kualitasbhn krja...         2\n",
       "17    anger  sedap kali kau bobok kasur ku aku tidur kau ik...         0\n",
       "46    anger   ngerti sama ciwiciwi nyinyirin via vallen kor...         0\n",
       "14    anger  samanye udeh maling semua gak si jancok gak si...         0\n",
       "21  sadness  paruh hati iri lihat orang anak yg duduk jalan...         4\n",
       "24     love  kan peluk engkau erat2 hingga tak orang rebut ...         3\n",
       "39  sadness  bukan dukung doa cuma sikap apa sudah2 pilih u...         4\n",
       "11    anger  kalaupun fansite ngejual hasil jepret uang nya...         0\n",
       "44  sadness   iya ibu nya ngelahirin anak 3 cewek tpi gak t...         4\n",
       "38    happy  bberapa tahun kemudian sejahtera keluarga makm...         2\n",
       "31     fear  drama kmarin sore hari puasa trus pa lg mandi ...         1\n",
       "41    anger  gemes bgt sama orang yg anggap wajar leceh sex...         0\n",
       "9   sadness  pulang udah h4 lebaran dilema sekali laku apa2...         4\n",
       "37    happy  ponakan kls 4 sd lg demen nonton video tutoria...         2\n",
       "5     anger   sekian banyak thread aku baca thread paling a...         0\n",
       "6     happy  sharing sama temen tuh emg bgt lu ngerasa masa...         2\n",
       "1     anger  sama cewe lho kayak lebih rasain lah sibuk jag...         0\n",
       "40    happy  jnejnt lama pake entah kirim paketbeli olshop ...         2\n",
       "34    happy   akhir lewat semua semua dulu bayang betapa su...         2\n",
       "2     happy  kepingin gudeg mbarek bu hj amad foto google s...         2\n",
       "47    anger  hari libur rencana mau nonton jurassic world k...         0\n",
       "48    anger  nah yg nunggu anak anteng sabar luas samudra t...         0\n",
       "42     fear  apa hukum main musik stad jelas haroooom hukum...         1\n",
       "28    anger  gimana orang ga nilai dr jilbabsyaringgak nya ...         0\n",
       "43    anger  apa hebat mardani turut sy oeang cuma besar mu...         0\n",
       "12    happy  sangat syukur doa kakek bung karno sama anakan...         2\n",
       "36     fear   tau kalo rasa sakit hati memamg sulit kala ny...         1\n",
       "10    anger  betul min rakyat indonesia sekarang harap nya ...         0\n",
       "7   sadness  orang kalau pake ponco buat jas hujan nah pake...         4\n",
       "45    happy  z suka twitter soalny perempuan ji semua teman...         2\n",
       "18    happy  h9 mau bank rame bgt ampe antri tempat duduk l...         2\n",
       "13  sadness  sulit terima nyata memang anggap interaksi sat...         4\n",
       "0     anger  soal jln jatibarupolisi tdk b gertak gubernur ...         0\n",
       "23  sadness   mau tdr tidur sampe bgn tdr kok yaa kayak nge...         4\n",
       "49     love  ku rindu bisik mu telinga kau kata moga kelak ...         3"
      ]
     },
     "execution_count": 36,
     "metadata": {},
     "output_type": "execute_result"
    }
   ],
   "source": [
    "data_output = train[[\"label\",\"clean\",\"label_id\"]]\n",
    "data_output"
   ]
  },
  {
   "cell_type": "code",
   "execution_count": 37,
   "metadata": {
    "executionInfo": {
     "elapsed": 463,
     "status": "ok",
     "timestamp": 1662033001450,
     "user": {
      "displayName": "Nilam mufidah",
      "userId": "02981889232249357983"
     },
     "user_tz": -420
    },
    "id": "5T8XSvoTy1Vm"
   },
   "outputs": [],
   "source": [
    "#menyimpan model dan cache data untuk digunakan ketika prediction \n",
    "# model.save('./model/model.h5')\n",
    "model.save('/content/gdrive/MyDrive/narasio/materi fix/deploymen pertemuan 1/main room/model/model.h5')\n",
    "\n",
    "# os.remove('./model/data_after.csv')\n",
    "# export = data_output.to_csv (r'./model/data_after.csv', index = None, header=True,sep =',', encoding = 'iso-8859-1')\n",
    "export = data_output.to_csv (r'/content/gdrive/MyDrive/narasio/materi fix/deploymen pertemuan 1/main room/model/data_after.csv', index = None, header=True,sep =',', encoding = 'iso-8859-1')"
   ]
  },
  {
   "cell_type": "markdown",
   "metadata": {
    "id": "4TB1tH4peLKz"
   },
   "source": [
    "menjadikan proses train menjadi satu function"
   ]
  },
  {
   "cell_type": "code",
   "execution_count": 38,
   "metadata": {
    "executionInfo": {
     "elapsed": 9,
     "status": "ok",
     "timestamp": 1662033001450,
     "user": {
      "displayName": "Nilam mufidah",
      "userId": "02981889232249357983"
     },
     "user_tz": -420
    },
    "id": "Pr3jKTPsDKWp"
   },
   "outputs": [],
   "source": [
    "#function train\n",
    "def get_model(X, Y, vocab, max_sentence_length, initializer, leng):\n",
    "    model = Sequential()\n",
    "    model.add(Embedding(input_dim = vocab, output_dim = 128, input_length = max_sentence_length, embeddings_initializer = initializer))\n",
    "    model.add(Conv1D(128, 7, activation='relu',padding='same'))\n",
    "    model.add(MaxPooling1D())\n",
    "    model.add(Conv1D(256, 5, activation='relu',padding='same'))\n",
    "    model.add(MaxPooling1D())\n",
    "    model.add(Conv1D(512, 3, activation='relu',padding='same'))\n",
    "    model.add(MaxPooling1D())\n",
    "    model.add(Flatten())\n",
    "    model.add(Dense(128, activation='relu'))\n",
    "    model.add(Dropout(0.5))\n",
    "    model.add(Dense(leng, activation='softmax'))\n",
    "    model.compile(optimizer='adam',\n",
    "                  loss='categorical_crossentropy',\n",
    "                  metrics=['accuracy'])\n",
    "    model.summary()\n",
    "    \n",
    "    return model\n",
    "\n",
    "def evaluation(model, X, Y):\n",
    "    Y_pred = model.predict(X)\n",
    "    Y_pred_class = np.argmax(Y_pred, axis=1)\n",
    "    Y_act = Y\n",
    "    \n",
    "    acc = accuracy_score(Y_act, Y_pred_class)\n",
    "    \n",
    "    return acc\n",
    "\n",
    "def train (data, nama_kolom_text, nama_kolom_label):\n",
    "  data.sort_values(by=[nama_kolom_label], inplace=True)\n",
    "  data['label_id'] = data[nama_kolom_label].factorize()[0]\n",
    "  kategori_id_data = data[[nama_kolom_label, 'label_id']].drop_duplicates().sort_values('label_id')\n",
    "  kategori_to_id = dict(kategori_id_data.values)\n",
    "  id_to_kategori = dict(kategori_id_data[['label_id', nama_kolom_label]].values)\n",
    "  \n",
    "  leng = kategori_id_data.label_id.values\n",
    "  leng = len (leng)\n",
    "\n",
    "  train, test = train_test_split(data, test_size=0.2)\n",
    "\n",
    "  text1 = train[nama_kolom_text].values\n",
    "  label = train['label_id'].values\n",
    "\n",
    "  #text1 = str(text1)\n",
    "  tokenizer = Tokenizer()\n",
    "  tokenizer.fit_on_texts(text1)\n",
    "  \n",
    "  vocab = max([len(tokenizer.word_index)]) + 1 # kamus kata \n",
    "  max_sentence_length = 100 # panjang kalimat\n",
    "  batch_size = 32 # penentuan jumlah sampel yang ditraining pada tiap epoch\n",
    "  num_epochs = 10 # banyak iterasi pada saat training model \n",
    "  initializer = initializers.RandomUniform(minval=-0.05, maxval=0.05, seed=2) # mengatur angka random weigth\n",
    "  embedding_dim = 300\n",
    "\n",
    "  #Data Train\n",
    "  X = tokenizer.texts_to_sequences(text1)\n",
    "  X = pad_sequences(X, maxlen=max_sentence_length)\n",
    "  Y = to_categorical(label, num_classes = leng)\n",
    "\n",
    "  #Data test\n",
    "  x_test = tokenizer.texts_to_sequences(test[nama_kolom_text].values)\n",
    "  x_test = pad_sequences(x_test, maxlen=max_sentence_length)\n",
    "  Y_test = to_categorical(test['label_id'], num_classes = leng)\n",
    "\n",
    "  model = get_model(X, Y, vocab, max_sentence_length, initializer, leng)\n",
    "\n",
    "  # training model\n",
    "  model.fit(X, Y, batch_size=batch_size, epochs=num_epochs, verbose=1)\n",
    "\n",
    "  acc = evaluation(model, x_test, test['label_id'].values)\n",
    "  print(\"Accuracy: %.2f\" % (acc*100), \"%\")\n",
    "\n",
    "  data_output = train[[nama_kolom_label,nama_kolom_text,\"label_id\"]]\n",
    "\n",
    "  # os.remove('./model')\n",
    "  # model.save('./model/model.h5')\n",
    "  # export = data_output.to_csv (r'./model/data_after.csv', index = None, header=True,sep =',', encoding = 'iso-8859-1')\n",
    "\n",
    "  model.save('/content/gdrive/MyDrive/narasio/materi fix/deploymen pertemuan 1/main room/model/model.h5')\n",
    "  export = data_output.to_csv (r'/content/gdrive/MyDrive/narasio/materi fix/deploymen pertemuan 1/main room/model/data_after.csv', index = None, header=True,sep =',', encoding = 'iso-8859-1')\n",
    "\n",
    "  return (\"Accuracy: %.2f\" % (acc*100))"
   ]
  },
  {
   "cell_type": "code",
   "execution_count": 39,
   "metadata": {
    "colab": {
     "base_uri": "https://localhost:8080/",
     "height": 990
    },
    "executionInfo": {
     "elapsed": 4145,
     "status": "ok",
     "timestamp": 1662033005587,
     "user": {
      "displayName": "Nilam mufidah",
      "userId": "02981889232249357983"
     },
     "user_tz": -420
    },
    "id": "E2XA0nWDKHxq",
    "outputId": "95ec404a-26dc-49f2-a0c7-cd8bfb580b3e"
   },
   "outputs": [
    {
     "name": "stdout",
     "output_type": "stream",
     "text": [
      "Model: \"sequential_1\"\n",
      "_________________________________________________________________\n",
      " Layer (type)                Output Shape              Param #   \n",
      "=================================================================\n",
      " embedding_1 (Embedding)     (None, 100, 128)          76672     \n",
      "                                                                 \n",
      " conv1d_3 (Conv1D)           (None, 100, 128)          114816    \n",
      "                                                                 \n",
      " max_pooling1d_3 (MaxPooling  (None, 50, 128)          0         \n",
      " 1D)                                                             \n",
      "                                                                 \n",
      " conv1d_4 (Conv1D)           (None, 50, 256)           164096    \n",
      "                                                                 \n",
      " max_pooling1d_4 (MaxPooling  (None, 25, 256)          0         \n",
      " 1D)                                                             \n",
      "                                                                 \n",
      " conv1d_5 (Conv1D)           (None, 25, 512)           393728    \n",
      "                                                                 \n",
      " max_pooling1d_5 (MaxPooling  (None, 12, 512)          0         \n",
      " 1D)                                                             \n",
      "                                                                 \n",
      " flatten_1 (Flatten)         (None, 6144)              0         \n",
      "                                                                 \n",
      " dense_2 (Dense)             (None, 128)               786560    \n",
      "                                                                 \n",
      " dropout_1 (Dropout)         (None, 128)               0         \n",
      "                                                                 \n",
      " dense_3 (Dense)             (None, 5)                 645       \n",
      "                                                                 \n",
      "=================================================================\n",
      "Total params: 1,536,517\n",
      "Trainable params: 1,536,517\n",
      "Non-trainable params: 0\n",
      "_________________________________________________________________\n",
      "Epoch 1/10\n",
      "2/2 [==============================] - 1s 73ms/step - loss: 1.6094 - accuracy: 0.1000\n",
      "Epoch 2/10\n",
      "2/2 [==============================] - 0s 78ms/step - loss: 1.4758 - accuracy: 0.3750\n",
      "Epoch 3/10\n",
      "2/2 [==============================] - 0s 67ms/step - loss: 1.4343 - accuracy: 0.4250\n",
      "Epoch 4/10\n",
      "2/2 [==============================] - 0s 66ms/step - loss: 1.3418 - accuracy: 0.3500\n",
      "Epoch 5/10\n",
      "2/2 [==============================] - 0s 75ms/step - loss: 1.4077 - accuracy: 0.3750\n",
      "Epoch 6/10\n",
      "2/2 [==============================] - 0s 73ms/step - loss: 1.3081 - accuracy: 0.4500\n",
      "Epoch 7/10\n",
      "2/2 [==============================] - 0s 75ms/step - loss: 1.2195 - accuracy: 0.5000\n",
      "Epoch 8/10\n",
      "2/2 [==============================] - 0s 74ms/step - loss: 1.1681 - accuracy: 0.4750\n",
      "Epoch 9/10\n",
      "2/2 [==============================] - 0s 79ms/step - loss: 1.1099 - accuracy: 0.5250\n",
      "Epoch 10/10\n",
      "2/2 [==============================] - 0s 68ms/step - loss: 1.0327 - accuracy: 0.4500\n",
      "Accuracy: 50.00 %\n"
     ]
    },
    {
     "data": {
      "application/vnd.google.colaboratory.intrinsic+json": {
       "type": "string"
      },
      "text/plain": [
       "'Accuracy: 50.00'"
      ]
     },
     "execution_count": 39,
     "metadata": {},
     "output_type": "execute_result"
    }
   ],
   "source": [
    "train(df_pre,'clean','label')"
   ]
  },
  {
   "cell_type": "markdown",
   "metadata": {
    "id": "UqVJdgygedx_"
   },
   "source": [
    "pindahkan seluruh skript yang sudah menjadi fungsi dan package ke dalam file py"
   ]
  },
  {
   "cell_type": "markdown",
   "metadata": {
    "id": "qLGUO09cWhk7"
   },
   "source": [
    "memanggil file py"
   ]
  },
  {
   "cell_type": "code",
   "execution_count": 40,
   "metadata": {
    "colab": {
     "base_uri": "https://localhost:8080/"
    },
    "executionInfo": {
     "elapsed": 513,
     "status": "ok",
     "timestamp": 1662033006089,
     "user": {
      "displayName": "Nilam mufidah",
      "userId": "02981889232249357983"
     },
     "user_tz": -420
    },
    "id": "j8j64hgAgLBe",
    "outputId": "ed0fda55-3cd5-44e7-f872-863a890a02bd"
   },
   "outputs": [
    {
     "name": "stdout",
     "output_type": "stream",
     "text": [
      "gdrive\tsample_data\n"
     ]
    }
   ],
   "source": [
    "!ls"
   ]
  },
  {
   "cell_type": "code",
   "execution_count": 41,
   "metadata": {
    "colab": {
     "base_uri": "https://localhost:8080/"
    },
    "executionInfo": {
     "elapsed": 6,
     "status": "ok",
     "timestamp": 1662033006090,
     "user": {
      "displayName": "Nilam mufidah",
      "userId": "02981889232249357983"
     },
     "user_tz": -420
    },
    "id": "3Oux8s8uvu_t",
    "outputId": "dab65575-385c-4a58-88e6-1a9e10e6ec2e"
   },
   "outputs": [
    {
     "name": "stdout",
     "output_type": "stream",
     "text": [
      "/content/gdrive/MyDrive/narasio/materi fix/deploymen pertemuan 1/main room\n"
     ]
    }
   ],
   "source": [
    "%cd /content/gdrive/MyDrive/narasio/\"materi fix\"/\"deploymen pertemuan 1\"/\"main room\""
   ]
  },
  {
   "cell_type": "code",
   "execution_count": 42,
   "metadata": {
    "colab": {
     "base_uri": "https://localhost:8080/"
    },
    "executionInfo": {
     "elapsed": 5,
     "status": "ok",
     "timestamp": 1662033006090,
     "user": {
      "displayName": "Nilam mufidah",
      "userId": "02981889232249357983"
     },
     "user_tz": -420
    },
    "id": "jRPvwxdsvyU8",
    "outputId": "964f7f0a-b2c4-45be-d52c-70a7699579d6"
   },
   "outputs": [
    {
     "name": "stdout",
     "output_type": "stream",
     "text": [
      " indo_data50.csv    model\t\t\t\t text_analyst.py\n",
      " indo_dataset.csv  '[output]text analysis keras.ipynb'\n",
      " kode_train.py\t    __pycache__\n"
     ]
    }
   ],
   "source": [
    "!ls"
   ]
  },
  {
   "cell_type": "code",
   "execution_count": 43,
   "metadata": {
    "colab": {
     "base_uri": "https://localhost:8080/"
    },
    "executionInfo": {
     "elapsed": 6549,
     "status": "ok",
     "timestamp": 1662033012637,
     "user": {
      "displayName": "Nilam mufidah",
      "userId": "02981889232249357983"
     },
     "user_tz": -420
    },
    "id": "jh_GtSXSWjyP",
    "outputId": "f8be798c-edeb-4a11-95b7-325a9f77b4e1"
   },
   "outputs": [
    {
     "name": "stdout",
     "output_type": "stream",
     "text": [
      "[nltk_data] Downloading package punkt to /root/nltk_data...\n",
      "[nltk_data]   Package punkt is already up-to-date!\n",
      "[nltk_data] Downloading package wordnet to /root/nltk_data...\n",
      "[nltk_data]   Package wordnet is already up-to-date!\n"
     ]
    }
   ],
   "source": [
    "!python text_analyst.py"
   ]
  },
  {
   "cell_type": "markdown",
   "metadata": {
    "id": "Xv4VNeOWSIQt"
   },
   "source": [
    "memanggil menggunakan **import**"
   ]
  },
  {
   "cell_type": "code",
   "execution_count": 44,
   "metadata": {
    "colab": {
     "base_uri": "https://localhost:8080/",
     "height": 206
    },
    "executionInfo": {
     "elapsed": 15,
     "status": "ok",
     "timestamp": 1662033012638,
     "user": {
      "displayName": "Nilam mufidah",
      "userId": "02981889232249357983"
     },
     "user_tz": -420
    },
    "id": "jJX5-Bh2SIQt",
    "outputId": "a2c6034a-bb7b-4608-a14c-4dadb1d04fb9"
   },
   "outputs": [
    {
     "data": {
      "text/html": [
       "\n",
       "  <div id=\"df-f33d6e88-7375-4304-a5b0-e588c8e497d9\">\n",
       "    <div class=\"colab-df-container\">\n",
       "      <div>\n",
       "<style scoped>\n",
       "    .dataframe tbody tr th:only-of-type {\n",
       "        vertical-align: middle;\n",
       "    }\n",
       "\n",
       "    .dataframe tbody tr th {\n",
       "        vertical-align: top;\n",
       "    }\n",
       "\n",
       "    .dataframe thead th {\n",
       "        text-align: right;\n",
       "    }\n",
       "</style>\n",
       "<table border=\"1\" class=\"dataframe\">\n",
       "  <thead>\n",
       "    <tr style=\"text-align: right;\">\n",
       "      <th></th>\n",
       "      <th>label</th>\n",
       "      <th>tweet</th>\n",
       "    </tr>\n",
       "  </thead>\n",
       "  <tbody>\n",
       "    <tr>\n",
       "      <th>0</th>\n",
       "      <td>anger</td>\n",
       "      <td>Soal jln Jatibaru,polisi tdk bs GERTAK gubernu...</td>\n",
       "    </tr>\n",
       "    <tr>\n",
       "      <th>1</th>\n",
       "      <td>anger</td>\n",
       "      <td>Sesama cewe lho (kayaknya), harusnya bisa lebi...</td>\n",
       "    </tr>\n",
       "    <tr>\n",
       "      <th>2</th>\n",
       "      <td>happy</td>\n",
       "      <td>Kepingin gudeg mbarek Bu hj. Amad Foto dari go...</td>\n",
       "    </tr>\n",
       "    <tr>\n",
       "      <th>3</th>\n",
       "      <td>anger</td>\n",
       "      <td>Jln Jatibaru,bagian dari wilayah Tn Abang.Peng...</td>\n",
       "    </tr>\n",
       "    <tr>\n",
       "      <th>4</th>\n",
       "      <td>happy</td>\n",
       "      <td>Sharing pengalaman aja, kemarin jam 18.00 bata...</td>\n",
       "    </tr>\n",
       "  </tbody>\n",
       "</table>\n",
       "</div>\n",
       "      <button class=\"colab-df-convert\" onclick=\"convertToInteractive('df-f33d6e88-7375-4304-a5b0-e588c8e497d9')\"\n",
       "              title=\"Convert this dataframe to an interactive table.\"\n",
       "              style=\"display:none;\">\n",
       "        \n",
       "  <svg xmlns=\"http://www.w3.org/2000/svg\" height=\"24px\"viewBox=\"0 0 24 24\"\n",
       "       width=\"24px\">\n",
       "    <path d=\"M0 0h24v24H0V0z\" fill=\"none\"/>\n",
       "    <path d=\"M18.56 5.44l.94 2.06.94-2.06 2.06-.94-2.06-.94-.94-2.06-.94 2.06-2.06.94zm-11 1L8.5 8.5l.94-2.06 2.06-.94-2.06-.94L8.5 2.5l-.94 2.06-2.06.94zm10 10l.94 2.06.94-2.06 2.06-.94-2.06-.94-.94-2.06-.94 2.06-2.06.94z\"/><path d=\"M17.41 7.96l-1.37-1.37c-.4-.4-.92-.59-1.43-.59-.52 0-1.04.2-1.43.59L10.3 9.45l-7.72 7.72c-.78.78-.78 2.05 0 2.83L4 21.41c.39.39.9.59 1.41.59.51 0 1.02-.2 1.41-.59l7.78-7.78 2.81-2.81c.8-.78.8-2.07 0-2.86zM5.41 20L4 18.59l7.72-7.72 1.47 1.35L5.41 20z\"/>\n",
       "  </svg>\n",
       "      </button>\n",
       "      \n",
       "  <style>\n",
       "    .colab-df-container {\n",
       "      display:flex;\n",
       "      flex-wrap:wrap;\n",
       "      gap: 12px;\n",
       "    }\n",
       "\n",
       "    .colab-df-convert {\n",
       "      background-color: #E8F0FE;\n",
       "      border: none;\n",
       "      border-radius: 50%;\n",
       "      cursor: pointer;\n",
       "      display: none;\n",
       "      fill: #1967D2;\n",
       "      height: 32px;\n",
       "      padding: 0 0 0 0;\n",
       "      width: 32px;\n",
       "    }\n",
       "\n",
       "    .colab-df-convert:hover {\n",
       "      background-color: #E2EBFA;\n",
       "      box-shadow: 0px 1px 2px rgba(60, 64, 67, 0.3), 0px 1px 3px 1px rgba(60, 64, 67, 0.15);\n",
       "      fill: #174EA6;\n",
       "    }\n",
       "\n",
       "    [theme=dark] .colab-df-convert {\n",
       "      background-color: #3B4455;\n",
       "      fill: #D2E3FC;\n",
       "    }\n",
       "\n",
       "    [theme=dark] .colab-df-convert:hover {\n",
       "      background-color: #434B5C;\n",
       "      box-shadow: 0px 1px 3px 1px rgba(0, 0, 0, 0.15);\n",
       "      filter: drop-shadow(0px 1px 2px rgba(0, 0, 0, 0.3));\n",
       "      fill: #FFFFFF;\n",
       "    }\n",
       "  </style>\n",
       "\n",
       "      <script>\n",
       "        const buttonEl =\n",
       "          document.querySelector('#df-f33d6e88-7375-4304-a5b0-e588c8e497d9 button.colab-df-convert');\n",
       "        buttonEl.style.display =\n",
       "          google.colab.kernel.accessAllowed ? 'block' : 'none';\n",
       "\n",
       "        async function convertToInteractive(key) {\n",
       "          const element = document.querySelector('#df-f33d6e88-7375-4304-a5b0-e588c8e497d9');\n",
       "          const dataTable =\n",
       "            await google.colab.kernel.invokeFunction('convertToInteractive',\n",
       "                                                     [key], {});\n",
       "          if (!dataTable) return;\n",
       "\n",
       "          const docLinkHtml = 'Like what you see? Visit the ' +\n",
       "            '<a target=\"_blank\" href=https://colab.research.google.com/notebooks/data_table.ipynb>data table notebook</a>'\n",
       "            + ' to learn more about interactive tables.';\n",
       "          element.innerHTML = '';\n",
       "          dataTable['output_type'] = 'display_data';\n",
       "          await google.colab.output.renderOutput(dataTable, element);\n",
       "          const docLink = document.createElement('div');\n",
       "          docLink.innerHTML = docLinkHtml;\n",
       "          element.appendChild(docLink);\n",
       "        }\n",
       "      </script>\n",
       "    </div>\n",
       "  </div>\n",
       "  "
      ],
      "text/plain": [
       "   label                                              tweet\n",
       "0  anger  Soal jln Jatibaru,polisi tdk bs GERTAK gubernu...\n",
       "1  anger  Sesama cewe lho (kayaknya), harusnya bisa lebi...\n",
       "2  happy  Kepingin gudeg mbarek Bu hj. Amad Foto dari go...\n",
       "3  anger  Jln Jatibaru,bagian dari wilayah Tn Abang.Peng...\n",
       "4  happy  Sharing pengalaman aja, kemarin jam 18.00 bata..."
      ]
     },
     "execution_count": 44,
     "metadata": {},
     "output_type": "execute_result"
    }
   ],
   "source": [
    "name_file =\"indo_data50.csv\"\n",
    "data = pd.read_csv(name_file)\n",
    "data.head()"
   ]
  },
  {
   "cell_type": "code",
   "execution_count": 50,
   "metadata": {
    "colab": {
     "base_uri": "https://localhost:8080/"
    },
    "executionInfo": {
     "elapsed": 499,
     "status": "ok",
     "timestamp": 1662033115405,
     "user": {
      "displayName": "Nilam mufidah",
      "userId": "02981889232249357983"
     },
     "user_tz": -420
    },
    "id": "33314R_ehL1O",
    "outputId": "d44e94e9-edaf-4aef-abf3-5ec8776e2839"
   },
   "outputs": [
    {
     "name": "stderr",
     "output_type": "stream",
     "text": [
      "[nltk_data] Downloading package punkt to /root/nltk_data...\n",
      "[nltk_data]   Package punkt is already up-to-date!\n",
      "[nltk_data] Downloading package wordnet to /root/nltk_data...\n",
      "[nltk_data]   Package wordnet is already up-to-date!\n"
     ]
    }
   ],
   "source": [
    "import kode_train"
   ]
  },
  {
   "cell_type": "code",
   "execution_count": 51,
   "metadata": {
    "colab": {
     "base_uri": "https://localhost:8080/"
    },
    "executionInfo": {
     "elapsed": 49081,
     "status": "ok",
     "timestamp": 1662033180416,
     "user": {
      "displayName": "Nilam mufidah",
      "userId": "02981889232249357983"
     },
     "user_tz": -420
    },
    "id": "3GxSDfqhKUpX",
    "outputId": "c8c7d8bc-2130-48f6-fbef-8d8beace2077"
   },
   "outputs": [
    {
     "name": "stdout",
     "output_type": "stream",
     "text": [
      "lema done 0:00:00.017375\n",
      "stemmer done 0:00:48.487263\n",
      "stopword done 0:00:00.004919\n"
     ]
    }
   ],
   "source": [
    "name_column_dataset = 'tweet'\n",
    "df_pre = kode_train.prepros (data, name_column_dataset)"
   ]
  },
  {
   "cell_type": "code",
   "execution_count": 52,
   "metadata": {
    "colab": {
     "base_uri": "https://localhost:8080/",
     "height": 206
    },
    "executionInfo": {
     "elapsed": 338,
     "status": "ok",
     "timestamp": 1662033184435,
     "user": {
      "displayName": "Nilam mufidah",
      "userId": "02981889232249357983"
     },
     "user_tz": -420
    },
    "id": "3J3qdCCqKjza",
    "outputId": "7877e725-8132-4078-b3d9-61703025241f"
   },
   "outputs": [
    {
     "data": {
      "text/html": [
       "\n",
       "  <div id=\"df-6e32fda6-5f6a-4b3d-9734-8f2f0c43f0ed\">\n",
       "    <div class=\"colab-df-container\">\n",
       "      <div>\n",
       "<style scoped>\n",
       "    .dataframe tbody tr th:only-of-type {\n",
       "        vertical-align: middle;\n",
       "    }\n",
       "\n",
       "    .dataframe tbody tr th {\n",
       "        vertical-align: top;\n",
       "    }\n",
       "\n",
       "    .dataframe thead th {\n",
       "        text-align: right;\n",
       "    }\n",
       "</style>\n",
       "<table border=\"1\" class=\"dataframe\">\n",
       "  <thead>\n",
       "    <tr style=\"text-align: right;\">\n",
       "      <th></th>\n",
       "      <th>label</th>\n",
       "      <th>tweet</th>\n",
       "      <th>remove_punc</th>\n",
       "      <th>clean</th>\n",
       "      <th>label_id</th>\n",
       "    </tr>\n",
       "  </thead>\n",
       "  <tbody>\n",
       "    <tr>\n",
       "      <th>0</th>\n",
       "      <td>anger</td>\n",
       "      <td>soal jln jatibaru,polisi tdk bs gertak gubernu...</td>\n",
       "      <td>soal jln jatibarupolisi tdk bs gertak gubernur...</td>\n",
       "      <td>soal jln jatibarupolisi tdk b gertak gubernur ...</td>\n",
       "      <td>0</td>\n",
       "    </tr>\n",
       "    <tr>\n",
       "      <th>25</th>\n",
       "      <td>anger</td>\n",
       "      <td>kalo mau ganti presiden itu harus jelas siapa ...</td>\n",
       "      <td>kalo mau ganti presiden itu harus jelas siapa ...</td>\n",
       "      <td>kalo mau ganti presiden   jelas siapa calon te...</td>\n",
       "      <td>0</td>\n",
       "    </tr>\n",
       "    <tr>\n",
       "      <th>48</th>\n",
       "      <td>anger</td>\n",
       "      <td>nah ini, yg nunggu anak anteng dengan kesabara...</td>\n",
       "      <td>nah ini yg nunggu anak anteng dengan kesabaran...</td>\n",
       "      <td>nah  yg nunggu anak anteng  sabar luas samudra...</td>\n",
       "      <td>0</td>\n",
       "    </tr>\n",
       "    <tr>\n",
       "      <th>41</th>\n",
       "      <td>anger</td>\n",
       "      <td>gemes bgt sama orang yg masih menganggap wajar...</td>\n",
       "      <td>gemes bgt sama orang yg masih menganggap wajar...</td>\n",
       "      <td>gemes bgt sama orang yg  anggap wajar leceh se...</td>\n",
       "      <td>0</td>\n",
       "    </tr>\n",
       "    <tr>\n",
       "      <th>30</th>\n",
       "      <td>anger</td>\n",
       "      <td>foto saya di instagram masih ada cuma lupa pas...</td>\n",
       "      <td>foto saya di instagram masih ada cuma lupa pas...</td>\n",
       "      <td>foto   instagram   cuma lupa password instanya...</td>\n",
       "      <td>0</td>\n",
       "    </tr>\n",
       "  </tbody>\n",
       "</table>\n",
       "</div>\n",
       "      <button class=\"colab-df-convert\" onclick=\"convertToInteractive('df-6e32fda6-5f6a-4b3d-9734-8f2f0c43f0ed')\"\n",
       "              title=\"Convert this dataframe to an interactive table.\"\n",
       "              style=\"display:none;\">\n",
       "        \n",
       "  <svg xmlns=\"http://www.w3.org/2000/svg\" height=\"24px\"viewBox=\"0 0 24 24\"\n",
       "       width=\"24px\">\n",
       "    <path d=\"M0 0h24v24H0V0z\" fill=\"none\"/>\n",
       "    <path d=\"M18.56 5.44l.94 2.06.94-2.06 2.06-.94-2.06-.94-.94-2.06-.94 2.06-2.06.94zm-11 1L8.5 8.5l.94-2.06 2.06-.94-2.06-.94L8.5 2.5l-.94 2.06-2.06.94zm10 10l.94 2.06.94-2.06 2.06-.94-2.06-.94-.94-2.06-.94 2.06-2.06.94z\"/><path d=\"M17.41 7.96l-1.37-1.37c-.4-.4-.92-.59-1.43-.59-.52 0-1.04.2-1.43.59L10.3 9.45l-7.72 7.72c-.78.78-.78 2.05 0 2.83L4 21.41c.39.39.9.59 1.41.59.51 0 1.02-.2 1.41-.59l7.78-7.78 2.81-2.81c.8-.78.8-2.07 0-2.86zM5.41 20L4 18.59l7.72-7.72 1.47 1.35L5.41 20z\"/>\n",
       "  </svg>\n",
       "      </button>\n",
       "      \n",
       "  <style>\n",
       "    .colab-df-container {\n",
       "      display:flex;\n",
       "      flex-wrap:wrap;\n",
       "      gap: 12px;\n",
       "    }\n",
       "\n",
       "    .colab-df-convert {\n",
       "      background-color: #E8F0FE;\n",
       "      border: none;\n",
       "      border-radius: 50%;\n",
       "      cursor: pointer;\n",
       "      display: none;\n",
       "      fill: #1967D2;\n",
       "      height: 32px;\n",
       "      padding: 0 0 0 0;\n",
       "      width: 32px;\n",
       "    }\n",
       "\n",
       "    .colab-df-convert:hover {\n",
       "      background-color: #E2EBFA;\n",
       "      box-shadow: 0px 1px 2px rgba(60, 64, 67, 0.3), 0px 1px 3px 1px rgba(60, 64, 67, 0.15);\n",
       "      fill: #174EA6;\n",
       "    }\n",
       "\n",
       "    [theme=dark] .colab-df-convert {\n",
       "      background-color: #3B4455;\n",
       "      fill: #D2E3FC;\n",
       "    }\n",
       "\n",
       "    [theme=dark] .colab-df-convert:hover {\n",
       "      background-color: #434B5C;\n",
       "      box-shadow: 0px 1px 3px 1px rgba(0, 0, 0, 0.15);\n",
       "      filter: drop-shadow(0px 1px 2px rgba(0, 0, 0, 0.3));\n",
       "      fill: #FFFFFF;\n",
       "    }\n",
       "  </style>\n",
       "\n",
       "      <script>\n",
       "        const buttonEl =\n",
       "          document.querySelector('#df-6e32fda6-5f6a-4b3d-9734-8f2f0c43f0ed button.colab-df-convert');\n",
       "        buttonEl.style.display =\n",
       "          google.colab.kernel.accessAllowed ? 'block' : 'none';\n",
       "\n",
       "        async function convertToInteractive(key) {\n",
       "          const element = document.querySelector('#df-6e32fda6-5f6a-4b3d-9734-8f2f0c43f0ed');\n",
       "          const dataTable =\n",
       "            await google.colab.kernel.invokeFunction('convertToInteractive',\n",
       "                                                     [key], {});\n",
       "          if (!dataTable) return;\n",
       "\n",
       "          const docLinkHtml = 'Like what you see? Visit the ' +\n",
       "            '<a target=\"_blank\" href=https://colab.research.google.com/notebooks/data_table.ipynb>data table notebook</a>'\n",
       "            + ' to learn more about interactive tables.';\n",
       "          element.innerHTML = '';\n",
       "          dataTable['output_type'] = 'display_data';\n",
       "          await google.colab.output.renderOutput(dataTable, element);\n",
       "          const docLink = document.createElement('div');\n",
       "          docLink.innerHTML = docLinkHtml;\n",
       "          element.appendChild(docLink);\n",
       "        }\n",
       "      </script>\n",
       "    </div>\n",
       "  </div>\n",
       "  "
      ],
      "text/plain": [
       "    label                                              tweet  \\\n",
       "0   anger  soal jln jatibaru,polisi tdk bs gertak gubernu...   \n",
       "25  anger  kalo mau ganti presiden itu harus jelas siapa ...   \n",
       "48  anger  nah ini, yg nunggu anak anteng dengan kesabara...   \n",
       "41  anger  gemes bgt sama orang yg masih menganggap wajar...   \n",
       "30  anger  foto saya di instagram masih ada cuma lupa pas...   \n",
       "\n",
       "                                          remove_punc  \\\n",
       "0   soal jln jatibarupolisi tdk bs gertak gubernur...   \n",
       "25  kalo mau ganti presiden itu harus jelas siapa ...   \n",
       "48  nah ini yg nunggu anak anteng dengan kesabaran...   \n",
       "41  gemes bgt sama orang yg masih menganggap wajar...   \n",
       "30  foto saya di instagram masih ada cuma lupa pas...   \n",
       "\n",
       "                                                clean  label_id  \n",
       "0   soal jln jatibarupolisi tdk b gertak gubernur ...         0  \n",
       "25  kalo mau ganti presiden   jelas siapa calon te...         0  \n",
       "48  nah  yg nunggu anak anteng  sabar luas samudra...         0  \n",
       "41  gemes bgt sama orang yg  anggap wajar leceh se...         0  \n",
       "30  foto   instagram   cuma lupa password instanya...         0  "
      ]
     },
     "execution_count": 52,
     "metadata": {},
     "output_type": "execute_result"
    }
   ],
   "source": [
    "df_pre.head()"
   ]
  },
  {
   "cell_type": "code",
   "execution_count": 53,
   "metadata": {
    "colab": {
     "base_uri": "https://localhost:8080/"
    },
    "executionInfo": {
     "elapsed": 7226,
     "status": "ok",
     "timestamp": 1662033194370,
     "user": {
      "displayName": "Nilam mufidah",
      "userId": "02981889232249357983"
     },
     "user_tz": -420
    },
    "id": "O8xN9TnRSIQu",
    "outputId": "0f63bcd4-0953-49cf-c6b1-df52345a1394"
   },
   "outputs": [
    {
     "name": "stdout",
     "output_type": "stream",
     "text": [
      "Model: \"sequential_3\"\n",
      "_________________________________________________________________\n",
      " Layer (type)                Output Shape              Param #   \n",
      "=================================================================\n",
      " embedding_2 (Embedding)     (None, 100, 128)          80000     \n",
      "                                                                 \n",
      " conv1d_6 (Conv1D)           (None, 100, 128)          114816    \n",
      "                                                                 \n",
      " max_pooling1d_6 (MaxPooling  (None, 50, 128)          0         \n",
      " 1D)                                                             \n",
      "                                                                 \n",
      " conv1d_7 (Conv1D)           (None, 50, 256)           164096    \n",
      "                                                                 \n",
      " max_pooling1d_7 (MaxPooling  (None, 25, 256)          0         \n",
      " 1D)                                                             \n",
      "                                                                 \n",
      " conv1d_8 (Conv1D)           (None, 25, 512)           393728    \n",
      "                                                                 \n",
      " max_pooling1d_8 (MaxPooling  (None, 12, 512)          0         \n",
      " 1D)                                                             \n",
      "                                                                 \n",
      " flatten_2 (Flatten)         (None, 6144)              0         \n",
      "                                                                 \n",
      " dense_4 (Dense)             (None, 128)               786560    \n",
      "                                                                 \n",
      " dropout_2 (Dropout)         (None, 128)               0         \n",
      "                                                                 \n",
      " dense_5 (Dense)             (None, 5)                 645       \n",
      "                                                                 \n",
      "=================================================================\n",
      "Total params: 1,539,845\n",
      "Trainable params: 1,539,845\n",
      "Non-trainable params: 0\n",
      "_________________________________________________________________\n",
      "Epoch 1/10\n",
      "2/2 [==============================] - 1s 72ms/step - loss: 1.6135 - accuracy: 0.2250\n",
      "Epoch 2/10\n",
      "2/2 [==============================] - 0s 74ms/step - loss: 1.4602 - accuracy: 0.4250\n",
      "Epoch 3/10\n",
      "2/2 [==============================] - 0s 69ms/step - loss: 1.5755 - accuracy: 0.4250\n",
      "Epoch 4/10\n",
      "2/2 [==============================] - 0s 80ms/step - loss: 1.4542 - accuracy: 0.4250\n",
      "Epoch 5/10\n",
      "2/2 [==============================] - 0s 72ms/step - loss: 1.4514 - accuracy: 0.5000\n",
      "Epoch 6/10\n",
      "2/2 [==============================] - 0s 70ms/step - loss: 1.4565 - accuracy: 0.4750\n",
      "Epoch 7/10\n",
      "2/2 [==============================] - 0s 88ms/step - loss: 1.4453 - accuracy: 0.4000\n",
      "Epoch 8/10\n",
      "2/2 [==============================] - 0s 68ms/step - loss: 1.2891 - accuracy: 0.3750\n",
      "Epoch 9/10\n",
      "2/2 [==============================] - 0s 73ms/step - loss: 1.2129 - accuracy: 0.4250\n",
      "Epoch 10/10\n",
      "2/2 [==============================] - 0s 84ms/step - loss: 1.1063 - accuracy: 0.4500\n",
      "Accuracy: 50.00 %\n"
     ]
    }
   ],
   "source": [
    "kode_train.train(df_pre,'clean','label')"
   ]
  },
  {
   "cell_type": "markdown",
   "metadata": {
    "id": "TIkLwP92hVed"
   },
   "source": [
    "memanggil menggunakan **from** dan **import**"
   ]
  },
  {
   "cell_type": "code",
   "execution_count": 54,
   "metadata": {
    "executionInfo": {
     "elapsed": 330,
     "status": "ok",
     "timestamp": 1662033209273,
     "user": {
      "displayName": "Nilam mufidah",
      "userId": "02981889232249357983"
     },
     "user_tz": -420
    },
    "id": "yxw7HlwdSIQu"
   },
   "outputs": [],
   "source": [
    "from kode_train import train"
   ]
  },
  {
   "cell_type": "code",
   "execution_count": 55,
   "metadata": {
    "colab": {
     "base_uri": "https://localhost:8080/"
    },
    "executionInfo": {
     "elapsed": 5047,
     "status": "ok",
     "timestamp": 1662033217076,
     "user": {
      "displayName": "Nilam mufidah",
      "userId": "02981889232249357983"
     },
     "user_tz": -420
    },
    "id": "lpRuZqhThq7Q",
    "outputId": "bb05578b-f7cc-4e55-cefe-ee1552e656f6"
   },
   "outputs": [
    {
     "name": "stdout",
     "output_type": "stream",
     "text": [
      "Model: \"sequential_4\"\n",
      "_________________________________________________________________\n",
      " Layer (type)                Output Shape              Param #   \n",
      "=================================================================\n",
      " embedding_3 (Embedding)     (None, 100, 128)          80256     \n",
      "                                                                 \n",
      " conv1d_9 (Conv1D)           (None, 100, 128)          114816    \n",
      "                                                                 \n",
      " max_pooling1d_9 (MaxPooling  (None, 50, 128)          0         \n",
      " 1D)                                                             \n",
      "                                                                 \n",
      " conv1d_10 (Conv1D)          (None, 50, 256)           164096    \n",
      "                                                                 \n",
      " max_pooling1d_10 (MaxPoolin  (None, 25, 256)          0         \n",
      " g1D)                                                            \n",
      "                                                                 \n",
      " conv1d_11 (Conv1D)          (None, 25, 512)           393728    \n",
      "                                                                 \n",
      " max_pooling1d_11 (MaxPoolin  (None, 12, 512)          0         \n",
      " g1D)                                                            \n",
      "                                                                 \n",
      " flatten_3 (Flatten)         (None, 6144)              0         \n",
      "                                                                 \n",
      " dense_6 (Dense)             (None, 128)               786560    \n",
      "                                                                 \n",
      " dropout_3 (Dropout)         (None, 128)               0         \n",
      "                                                                 \n",
      " dense_7 (Dense)             (None, 5)                 645       \n",
      "                                                                 \n",
      "=================================================================\n",
      "Total params: 1,540,101\n",
      "Trainable params: 1,540,101\n",
      "Non-trainable params: 0\n",
      "_________________________________________________________________\n",
      "Epoch 1/10\n",
      "2/2 [==============================] - 1s 70ms/step - loss: 1.5891 - accuracy: 0.2500\n",
      "Epoch 2/10\n",
      "2/2 [==============================] - 0s 76ms/step - loss: 1.3503 - accuracy: 0.4750\n",
      "Epoch 3/10\n",
      "2/2 [==============================] - 0s 71ms/step - loss: 1.6494 - accuracy: 0.4750\n",
      "Epoch 4/10\n",
      "2/2 [==============================] - 0s 72ms/step - loss: 1.3811 - accuracy: 0.4000\n",
      "Epoch 5/10\n",
      "2/2 [==============================] - 0s 70ms/step - loss: 1.4865 - accuracy: 0.3750\n",
      "Epoch 6/10\n",
      "2/2 [==============================] - 0s 74ms/step - loss: 1.4712 - accuracy: 0.4250\n",
      "Epoch 7/10\n",
      "2/2 [==============================] - 0s 72ms/step - loss: 1.4044 - accuracy: 0.4750\n",
      "Epoch 8/10\n",
      "2/2 [==============================] - 0s 67ms/step - loss: 1.2881 - accuracy: 0.5000\n",
      "Epoch 9/10\n",
      "2/2 [==============================] - 0s 69ms/step - loss: 1.2230 - accuracy: 0.5000\n",
      "Epoch 10/10\n",
      "2/2 [==============================] - 0s 70ms/step - loss: 1.1138 - accuracy: 0.5250\n",
      "Accuracy: 30.00 %\n"
     ]
    }
   ],
   "source": [
    "train(df_pre,'clean','label')"
   ]
  }
 ],
 "metadata": {
  "colab": {
   "provenance": []
  },
  "kernelspec": {
   "display_name": "Python 3 (ipykernel)",
   "language": "python",
   "name": "python3"
  },
  "language_info": {
   "codemirror_mode": {
    "name": "ipython",
    "version": 3
   },
   "file_extension": ".py",
   "mimetype": "text/x-python",
   "name": "python",
   "nbconvert_exporter": "python",
   "pygments_lexer": "ipython3",
   "version": "3.9.12"
  }
 },
 "nbformat": 4,
 "nbformat_minor": 1
}
