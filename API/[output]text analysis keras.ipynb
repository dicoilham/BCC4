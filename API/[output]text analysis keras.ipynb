{
 "cells": [
  {
   "cell_type": "code",
   "execution_count": 6,
   "metadata": {
    "colab": {
     "base_uri": "https://localhost:8080/"
    },
    "executionInfo": {
     "elapsed": 4805,
     "status": "ok",
     "timestamp": 1662032872459,
     "user": {
      "displayName": "Nilam mufidah",
      "userId": "02981889232249357983"
     },
     "user_tz": -420
    },
    "id": "wwAFpEkEcB9L",
    "outputId": "91d6810c-3882-46ae-a083-500809b5d07a"
   },
   "outputs": [
    {
     "name": "stderr",
     "output_type": "stream",
     "text": [
      "[nltk_data] Downloading package punkt to C:\\Users\\Widya\n",
      "[nltk_data]     Wicara\\AppData\\Roaming\\nltk_data...\n",
      "[nltk_data]   Unzipping tokenizers\\punkt.zip.\n",
      "[nltk_data] Downloading package wordnet to C:\\Users\\Widya\n",
      "[nltk_data]     Wicara\\AppData\\Roaming\\nltk_data...\n"
     ]
    }
   ],
   "source": [
    "# Import Library yang akan dibutuhkan dalam teks analitik\n",
    "import pandas as pd\n",
    "import nltk\n",
    "import re\n",
    "\n",
    "from nltk.tokenize import word_tokenize\n",
    "from nltk.stem import WordNetLemmatizer\n",
    "from nltk.stem import PorterStemmer\n",
    "from nltk.corpus import stopwords\n",
    "\n",
    "from datetime import datetime\n",
    "# import matplotlib.pyplot as plt\n",
    "# %matplotlib inline\n",
    "# from PIL import Image\n",
    "# import seaborn as sns\n",
    "# from nltk.util import ngrams\n",
    "# from collections import defaultdict\n",
    "\n",
    "from Sastrawi.StopWordRemover.StopWordRemoverFactory import StopWordRemoverFactory\n",
    "from Sastrawi.Stemmer.StemmerFactory import StemmerFactory\n",
    "\n",
    "nltk.download('punkt')\n",
    "nltk.download('wordnet')\n",
    "nltk.download('omw-1.4')\n",
    "\n",
    "import numpy as np\n",
    "import os"
   ]
  },
  {
   "cell_type": "code",
   "execution_count": 7,
   "metadata": {
    "colab": {
     "base_uri": "https://localhost:8080/"
    },
    "executionInfo": {
     "elapsed": 16,
     "status": "ok",
     "timestamp": 1662032872460,
     "user": {
      "displayName": "Nilam mufidah",
      "userId": "02981889232249357983"
     },
     "user_tz": -420
    },
    "id": "bVinjg4LIpwl",
    "outputId": "46cefb76-e74b-4179-82e8-d8ed19082992"
   },
   "outputs": [
    {
     "name": "stderr",
     "output_type": "stream",
     "text": [
      "[nltk_data] Downloading package omw-1.4 to C:\\Users\\Widya\n",
      "[nltk_data]     Wicara\\AppData\\Roaming\\nltk_data...\n"
     ]
    },
    {
     "data": {
      "text/plain": [
       "True"
      ]
     },
     "execution_count": 7,
     "metadata": {},
     "output_type": "execute_result"
    }
   ],
   "source": []
  },
  {
   "cell_type": "code",
   "execution_count": 8,
   "metadata": {
    "colab": {
     "base_uri": "https://localhost:8080/"
    },
    "executionInfo": {
     "elapsed": 3212,
     "status": "ok",
     "timestamp": 1662032875662,
     "user": {
      "displayName": "Nilam mufidah",
      "userId": "02981889232249357983"
     },
     "user_tz": -420
    },
    "id": "JSxMVDpQYZAG",
    "outputId": "c92a7e52-0fcc-4b13-b23a-0c88c4ce4e14"
   },
   "outputs": [],
   "source": [
    "# from google.colab import drive\n",
    "# drive.mount('/content/gdrive')"
   ]
  },
  {
   "cell_type": "code",
   "execution_count": 10,
   "metadata": {
    "colab": {
     "base_uri": "https://localhost:8080/"
    },
    "executionInfo": {
     "elapsed": 31,
     "status": "ok",
     "timestamp": 1662032875663,
     "user": {
      "displayName": "Nilam mufidah",
      "userId": "02981889232249357983"
     },
     "user_tz": -420
    },
    "id": "zbHpIWplSIQS",
    "outputId": "5cf32b48-13f4-492c-a4b7-4429268d79e5"
   },
   "outputs": [
    {
     "name": "stdout",
     "output_type": "stream",
     "text": [
      " Volume in drive C is OS\n",
      " Volume Serial Number is AAF4-25F2\n",
      "\n",
      " Directory of C:\\Users\\Widya Wicara\\Documents\\binar\\FGD 16\n",
      "\n",
      "11/28/2022  06:47 AM    <DIR>          .\n",
      "11/28/2022  06:40 AM    <DIR>          ..\n",
      "11/28/2022  06:45 AM    <DIR>          .ipynb_checkpoints\n",
      "11/28/2022  06:40 AM            10,100 indo_data50.csv\n",
      "11/28/2022  06:40 AM           845,366 indo_dataset.csv\n",
      "11/28/2022  06:40 AM             5,849 kode_train.py\n",
      "11/28/2022  06:40 AM             6,954 text_analyst.py\n",
      "11/28/2022  06:47 AM           148,985 [output]text analysis keras.ipynb\n",
      "11/28/2022  06:40 AM    <DIR>          __pycache__\n",
      "               5 File(s)      1,017,254 bytes\n",
      "               4 Dir(s)  26,042,454,016 bytes free\n"
     ]
    }
   ],
   "source": [
    "!dir"
   ]
  },
  {
   "cell_type": "code",
   "execution_count": 21,
   "metadata": {
    "executionInfo": {
     "elapsed": 26,
     "status": "ok",
     "timestamp": 1662032875664,
     "user": {
      "displayName": "Nilam mufidah",
      "userId": "02981889232249357983"
     },
     "user_tz": -420
    },
    "id": "ERxw6LV2cLT7"
   },
   "outputs": [],
   "source": [
    "# name_path = \"/content/gdrive/MyDrive/narasio/materi fix/deploymen pertemuan 1/main room/\"\n",
    "name_file =\"indo_data50.csv\""
   ]
  },
  {
   "cell_type": "code",
   "execution_count": 22,
   "metadata": {
    "colab": {
     "base_uri": "https://localhost:8080/",
     "height": 206
    },
    "executionInfo": {
     "elapsed": 22,
     "status": "ok",
     "timestamp": 1662032875664,
     "user": {
      "displayName": "Nilam mufidah",
      "userId": "02981889232249357983"
     },
     "user_tz": -420
    },
    "id": "YS4tvyl2XbGM",
    "outputId": "6c83a9f8-26d7-4002-cf78-0abd30d6b87d"
   },
   "outputs": [
    {
     "data": {
      "text/html": [
       "<div>\n",
       "<style scoped>\n",
       "    .dataframe tbody tr th:only-of-type {\n",
       "        vertical-align: middle;\n",
       "    }\n",
       "\n",
       "    .dataframe tbody tr th {\n",
       "        vertical-align: top;\n",
       "    }\n",
       "\n",
       "    .dataframe thead th {\n",
       "        text-align: right;\n",
       "    }\n",
       "</style>\n",
       "<table border=\"1\" class=\"dataframe\">\n",
       "  <thead>\n",
       "    <tr style=\"text-align: right;\">\n",
       "      <th></th>\n",
       "      <th>label</th>\n",
       "      <th>tweet</th>\n",
       "    </tr>\n",
       "  </thead>\n",
       "  <tbody>\n",
       "    <tr>\n",
       "      <th>45</th>\n",
       "      <td>happy</td>\n",
       "      <td>Z suka twitter soalny perempuan ji semua teman...</td>\n",
       "    </tr>\n",
       "    <tr>\n",
       "      <th>46</th>\n",
       "      <td>anger</td>\n",
       "      <td>Nggak ngerti lagi sama ciwi-ciwi yang nyinyiri...</td>\n",
       "    </tr>\n",
       "    <tr>\n",
       "      <th>47</th>\n",
       "      <td>anger</td>\n",
       "      <td>hari ini libur, rencananya mau nonton Jurassic...</td>\n",
       "    </tr>\n",
       "    <tr>\n",
       "      <th>48</th>\n",
       "      <td>anger</td>\n",
       "      <td>Nah ini, yg nunggu anak anteng dengan kesabara...</td>\n",
       "    </tr>\n",
       "    <tr>\n",
       "      <th>49</th>\n",
       "      <td>love</td>\n",
       "      <td>Ku rindu bisik mu di telingaku Seraya kau berk...</td>\n",
       "    </tr>\n",
       "  </tbody>\n",
       "</table>\n",
       "</div>"
      ],
      "text/plain": [
       "    label                                              tweet\n",
       "45  happy  Z suka twitter soalny perempuan ji semua teman...\n",
       "46  anger  Nggak ngerti lagi sama ciwi-ciwi yang nyinyiri...\n",
       "47  anger  hari ini libur, rencananya mau nonton Jurassic...\n",
       "48  anger  Nah ini, yg nunggu anak anteng dengan kesabara...\n",
       "49   love  Ku rindu bisik mu di telingaku Seraya kau berk..."
      ]
     },
     "execution_count": 22,
     "metadata": {},
     "output_type": "execute_result"
    }
   ],
   "source": [
    "# data = pd.read_csv(name_path + name_file)\n",
    "data = pd.read_csv(name_file)\n",
    "data.tail()"
   ]
  },
  {
   "cell_type": "markdown",
   "metadata": {
    "id": "AByP3XzuzASe"
   },
   "source": [
    "**Preprocessing Data**"
   ]
  },
  {
   "cell_type": "code",
   "execution_count": 23,
   "metadata": {
    "executionInfo": {
     "elapsed": 20,
     "status": "ok",
     "timestamp": 1662032875665,
     "user": {
      "displayName": "Nilam mufidah",
      "userId": "02981889232249357983"
     },
     "user_tz": -420
    },
    "id": "hOWfW_QHYqEr"
   },
   "outputs": [],
   "source": [
    "def data_cleaning(text):\n",
    "    # menghilangkan html tag\n",
    "    # Format html\n",
    "    html_tag = re.compile(r'<.*?>')\n",
    "    text = re.sub(html_tag, r'', text)\n",
    "\n",
    "    # menghilangkan url\n",
    "    # Format URL\n",
    "    http_link = re.compile(r'https://\\S+')\n",
    "    www_link = re.compile(r'www\\.\\S+')\n",
    "    \n",
    "    text = re.sub(http_link, r'', text)\n",
    "    text = re.sub(www_link, r'', text)\n",
    "\n",
    "    # menghilangkan tanda baca\n",
    "    # Tanda baca yang tidak diperlukan\n",
    "    punctuation = re.compile(r'[^\\w\\s]')\n",
    "    text = re.sub(punctuation, r'', text)\n",
    "\n",
    "    return text"
   ]
  },
  {
   "cell_type": "code",
   "execution_count": 24,
   "metadata": {
    "executionInfo": {
     "elapsed": 21,
     "status": "ok",
     "timestamp": 1662032875666,
     "user": {
      "displayName": "Nilam mufidah",
      "userId": "02981889232249357983"
     },
     "user_tz": -420
    },
    "id": "qpaxXTmZc5Bo"
   },
   "outputs": [],
   "source": [
    "#mendefinisikan nama kolom yang akan dipakai\n",
    "name_column_dataset = \"tweet\""
   ]
  },
  {
   "cell_type": "code",
   "execution_count": 25,
   "metadata": {
    "executionInfo": {
     "elapsed": 21,
     "status": "ok",
     "timestamp": 1662032875667,
     "user": {
      "displayName": "Nilam mufidah",
      "userId": "02981889232249357983"
     },
     "user_tz": -420
    },
    "id": "cXDe1MmXUm6T"
   },
   "outputs": [],
   "source": [
    "#cleaning data\n",
    "data[name_column_dataset] = data[name_column_dataset].apply(lambda x: x.lower())\n",
    "data[\"remove_punc\"] = data[name_column_dataset].apply(lambda x: data_cleaning(x))\n",
    "data[\"clean\"] = data[\"remove_punc\"].apply(lambda x: word_tokenize(x))"
   ]
  },
  {
   "cell_type": "code",
   "execution_count": 26,
   "metadata": {
    "colab": {
     "base_uri": "https://localhost:8080/",
     "height": 206
    },
    "executionInfo": {
     "elapsed": 21,
     "status": "ok",
     "timestamp": 1662032875668,
     "user": {
      "displayName": "Nilam mufidah",
      "userId": "02981889232249357983"
     },
     "user_tz": -420
    },
    "id": "pndXJLHmUp07",
    "outputId": "87ee5cc5-e2c9-473c-e1e6-a5ffbcd92ee7"
   },
   "outputs": [
    {
     "data": {
      "text/html": [
       "<div>\n",
       "<style scoped>\n",
       "    .dataframe tbody tr th:only-of-type {\n",
       "        vertical-align: middle;\n",
       "    }\n",
       "\n",
       "    .dataframe tbody tr th {\n",
       "        vertical-align: top;\n",
       "    }\n",
       "\n",
       "    .dataframe thead th {\n",
       "        text-align: right;\n",
       "    }\n",
       "</style>\n",
       "<table border=\"1\" class=\"dataframe\">\n",
       "  <thead>\n",
       "    <tr style=\"text-align: right;\">\n",
       "      <th></th>\n",
       "      <th>label</th>\n",
       "      <th>tweet</th>\n",
       "      <th>remove_punc</th>\n",
       "      <th>clean</th>\n",
       "    </tr>\n",
       "  </thead>\n",
       "  <tbody>\n",
       "    <tr>\n",
       "      <th>0</th>\n",
       "      <td>anger</td>\n",
       "      <td>soal jln jatibaru,polisi tdk bs gertak gubernu...</td>\n",
       "      <td>soal jln jatibarupolisi tdk bs gertak gubernur...</td>\n",
       "      <td>[soal, jln, jatibarupolisi, tdk, bs, gertak, g...</td>\n",
       "    </tr>\n",
       "    <tr>\n",
       "      <th>1</th>\n",
       "      <td>anger</td>\n",
       "      <td>sesama cewe lho (kayaknya), harusnya bisa lebi...</td>\n",
       "      <td>sesama cewe lho kayaknya harusnya bisa lebih r...</td>\n",
       "      <td>[sesama, cewe, lho, kayaknya, harusnya, bisa, ...</td>\n",
       "    </tr>\n",
       "    <tr>\n",
       "      <th>2</th>\n",
       "      <td>happy</td>\n",
       "      <td>kepingin gudeg mbarek bu hj. amad foto dari go...</td>\n",
       "      <td>kepingin gudeg mbarek bu hj amad foto dari goo...</td>\n",
       "      <td>[kepingin, gudeg, mbarek, bu, hj, amad, foto, ...</td>\n",
       "    </tr>\n",
       "    <tr>\n",
       "      <th>3</th>\n",
       "      <td>anger</td>\n",
       "      <td>jln jatibaru,bagian dari wilayah tn abang.peng...</td>\n",
       "      <td>jln jatibarubagian dari wilayah tn abangpengat...</td>\n",
       "      <td>[jln, jatibarubagian, dari, wilayah, tn, abang...</td>\n",
       "    </tr>\n",
       "    <tr>\n",
       "      <th>4</th>\n",
       "      <td>happy</td>\n",
       "      <td>sharing pengalaman aja, kemarin jam 18.00 bata...</td>\n",
       "      <td>sharing pengalaman aja kemarin jam 1800 batali...</td>\n",
       "      <td>[sharing, pengalaman, aja, kemarin, jam, 1800,...</td>\n",
       "    </tr>\n",
       "  </tbody>\n",
       "</table>\n",
       "</div>"
      ],
      "text/plain": [
       "   label                                              tweet  \\\n",
       "0  anger  soal jln jatibaru,polisi tdk bs gertak gubernu...   \n",
       "1  anger  sesama cewe lho (kayaknya), harusnya bisa lebi...   \n",
       "2  happy  kepingin gudeg mbarek bu hj. amad foto dari go...   \n",
       "3  anger  jln jatibaru,bagian dari wilayah tn abang.peng...   \n",
       "4  happy  sharing pengalaman aja, kemarin jam 18.00 bata...   \n",
       "\n",
       "                                         remove_punc  \\\n",
       "0  soal jln jatibarupolisi tdk bs gertak gubernur...   \n",
       "1  sesama cewe lho kayaknya harusnya bisa lebih r...   \n",
       "2  kepingin gudeg mbarek bu hj amad foto dari goo...   \n",
       "3  jln jatibarubagian dari wilayah tn abangpengat...   \n",
       "4  sharing pengalaman aja kemarin jam 1800 batali...   \n",
       "\n",
       "                                               clean  \n",
       "0  [soal, jln, jatibarupolisi, tdk, bs, gertak, g...  \n",
       "1  [sesama, cewe, lho, kayaknya, harusnya, bisa, ...  \n",
       "2  [kepingin, gudeg, mbarek, bu, hj, amad, foto, ...  \n",
       "3  [jln, jatibarubagian, dari, wilayah, tn, abang...  \n",
       "4  [sharing, pengalaman, aja, kemarin, jam, 1800,...  "
      ]
     },
     "execution_count": 26,
     "metadata": {},
     "output_type": "execute_result"
    }
   ],
   "source": [
    "data.head()"
   ]
  },
  {
   "cell_type": "code",
   "execution_count": null,
   "metadata": {},
   "outputs": [],
   "source": [
    "#nama df = df_alay\n",
    "dict_alay = []\n",
    "for i in len(df_alay):\n",
    "    dict_1 = {'before':df_alay['source'][i], 'after': df_alay['result'][i]}\n",
    "    dict_alay.append(dict_1)\n",
    "    "
   ]
  },
  {
   "cell_type": "code",
   "execution_count": null,
   "metadata": {},
   "outputs": [],
   "source": [
    "word_ = ['saya', 'mau', ' amk']\n",
    "word_clean = []\n",
    "for i in word_:\n",
    "    if i in dict_alay['before']:\n",
    "        k = dict_alay['after']\n",
    "        word_clean.append(k)\n",
    "    else :\n",
    "        word_clean.append(i)\n",
    "        \n",
    "kal_clean = ' '.join(word_clean)"
   ]
  },
  {
   "cell_type": "code",
   "execution_count": 27,
   "metadata": {
    "colab": {
     "base_uri": "https://localhost:8080/"
    },
    "executionInfo": {
     "elapsed": 57763,
     "status": "ok",
     "timestamp": 1662032935554,
     "user": {
      "displayName": "Nilam mufidah",
      "userId": "02981889232249357983"
     },
     "user_tz": -420
    },
    "id": "Y7IOp1d6YwH9",
    "outputId": "f360bc54-3c69-4f14-d21b-4b31188f9122"
   },
   "outputs": [
    {
     "name": "stdout",
     "output_type": "stream",
     "text": [
      "stemmer done 0:00:00\n"
     ]
    }
   ],
   "source": [
    "#steamming data\n",
    "start = datetime.now()\n",
    "factory = StemmerFactory()\n",
    "stemmer = factory.create_stemmer()\n",
    "data[\"clean\"] = data[\"clean\"].apply(lambda x: \" \".join(stemmer.stem(word) for word in x))\n",
    "end_stem = datetime.now()\n",
    "print (\"stemmer done\",(start-end_stem))"
   ]
  },
  {
   "cell_type": "code",
   "execution_count": 28,
   "metadata": {
    "colab": {
     "base_uri": "https://localhost:8080/",
     "height": 206
    },
    "executionInfo": {
     "elapsed": 25,
     "status": "ok",
     "timestamp": 1662032935555,
     "user": {
      "displayName": "Nilam mufidah",
      "userId": "02981889232249357983"
     },
     "user_tz": -420
    },
    "id": "HXYfqCbvYU1c",
    "outputId": "714f940b-85bb-4fb4-85c4-fc2744d1bb93"
   },
   "outputs": [
    {
     "data": {
      "text/html": [
       "<div>\n",
       "<style scoped>\n",
       "    .dataframe tbody tr th:only-of-type {\n",
       "        vertical-align: middle;\n",
       "    }\n",
       "\n",
       "    .dataframe tbody tr th {\n",
       "        vertical-align: top;\n",
       "    }\n",
       "\n",
       "    .dataframe thead th {\n",
       "        text-align: right;\n",
       "    }\n",
       "</style>\n",
       "<table border=\"1\" class=\"dataframe\">\n",
       "  <thead>\n",
       "    <tr style=\"text-align: right;\">\n",
       "      <th></th>\n",
       "      <th>label</th>\n",
       "      <th>tweet</th>\n",
       "      <th>remove_punc</th>\n",
       "      <th>clean</th>\n",
       "    </tr>\n",
       "  </thead>\n",
       "  <tbody>\n",
       "    <tr>\n",
       "      <th>0</th>\n",
       "      <td>anger</td>\n",
       "      <td>soal jln jatibaru,polisi tdk bs gertak gubernu...</td>\n",
       "      <td>soal jln jatibarupolisi tdk bs gertak gubernur...</td>\n",
       "      <td>soal jln jatibarupolisi tdk bs gertak gubernur...</td>\n",
       "    </tr>\n",
       "    <tr>\n",
       "      <th>1</th>\n",
       "      <td>anger</td>\n",
       "      <td>sesama cewe lho (kayaknya), harusnya bisa lebi...</td>\n",
       "      <td>sesama cewe lho kayaknya harusnya bisa lebih r...</td>\n",
       "      <td>sama cewe lho kayak harus bisa lebih rasain la...</td>\n",
       "    </tr>\n",
       "    <tr>\n",
       "      <th>2</th>\n",
       "      <td>happy</td>\n",
       "      <td>kepingin gudeg mbarek bu hj. amad foto dari go...</td>\n",
       "      <td>kepingin gudeg mbarek bu hj amad foto dari goo...</td>\n",
       "      <td>kepingin gudeg mbarek bu hj amad foto dari goo...</td>\n",
       "    </tr>\n",
       "    <tr>\n",
       "      <th>3</th>\n",
       "      <td>anger</td>\n",
       "      <td>jln jatibaru,bagian dari wilayah tn abang.peng...</td>\n",
       "      <td>jln jatibarubagian dari wilayah tn abangpengat...</td>\n",
       "      <td>jln jatibarubagian dari wilayah tn abangpengat...</td>\n",
       "    </tr>\n",
       "    <tr>\n",
       "      <th>4</th>\n",
       "      <td>happy</td>\n",
       "      <td>sharing pengalaman aja, kemarin jam 18.00 bata...</td>\n",
       "      <td>sharing pengalaman aja kemarin jam 1800 batali...</td>\n",
       "      <td>sharing alam aja kemarin jam 1800 batalin tike...</td>\n",
       "    </tr>\n",
       "  </tbody>\n",
       "</table>\n",
       "</div>"
      ],
      "text/plain": [
       "   label                                              tweet  \\\n",
       "0  anger  soal jln jatibaru,polisi tdk bs gertak gubernu...   \n",
       "1  anger  sesama cewe lho (kayaknya), harusnya bisa lebi...   \n",
       "2  happy  kepingin gudeg mbarek bu hj. amad foto dari go...   \n",
       "3  anger  jln jatibaru,bagian dari wilayah tn abang.peng...   \n",
       "4  happy  sharing pengalaman aja, kemarin jam 18.00 bata...   \n",
       "\n",
       "                                         remove_punc  \\\n",
       "0  soal jln jatibarupolisi tdk bs gertak gubernur...   \n",
       "1  sesama cewe lho kayaknya harusnya bisa lebih r...   \n",
       "2  kepingin gudeg mbarek bu hj amad foto dari goo...   \n",
       "3  jln jatibarubagian dari wilayah tn abangpengat...   \n",
       "4  sharing pengalaman aja kemarin jam 1800 batali...   \n",
       "\n",
       "                                               clean  \n",
       "0  soal jln jatibarupolisi tdk bs gertak gubernur...  \n",
       "1  sama cewe lho kayak harus bisa lebih rasain la...  \n",
       "2  kepingin gudeg mbarek bu hj amad foto dari goo...  \n",
       "3  jln jatibarubagian dari wilayah tn abangpengat...  \n",
       "4  sharing alam aja kemarin jam 1800 batalin tike...  "
      ]
     },
     "execution_count": 28,
     "metadata": {},
     "output_type": "execute_result"
    }
   ],
   "source": [
    "data.head()"
   ]
  },
  {
   "cell_type": "code",
   "execution_count": 29,
   "metadata": {
    "colab": {
     "base_uri": "https://localhost:8080/"
    },
    "executionInfo": {
     "elapsed": 25,
     "status": "ok",
     "timestamp": 1662032935556,
     "user": {
      "displayName": "Nilam mufidah",
      "userId": "02981889232249357983"
     },
     "user_tz": -420
    },
    "id": "1b7amY2nFAd-",
    "outputId": "2786ac3d-9656-4dac-e2ed-8fac30609127"
   },
   "outputs": [
    {
     "name": "stdout",
     "output_type": "stream",
     "text": [
      "stopword done 0:00:32.613227\n"
     ]
    }
   ],
   "source": [
    "#stopword\n",
    "factory = StopWordRemoverFactory()\n",
    "stopword = factory.create_stop_word_remover()\n",
    "data[\"clean\"] = data[\"clean\"].apply(lambda x: \" \".join(stopword.remove(x) for x in x.split()))\n",
    "end_stop = datetime.now()\n",
    "print (\"stopword done\", (end_stop - end_stem))"
   ]
  },
  {
   "cell_type": "code",
   "execution_count": 30,
   "metadata": {
    "colab": {
     "base_uri": "https://localhost:8080/",
     "height": 206
    },
    "executionInfo": {
     "elapsed": 21,
     "status": "ok",
     "timestamp": 1662032935556,
     "user": {
      "displayName": "Nilam mufidah",
      "userId": "02981889232249357983"
     },
     "user_tz": -420
    },
    "id": "SrVbx7kPcznm",
    "outputId": "264fddfc-3d2d-4619-da1a-7e11852e19b2"
   },
   "outputs": [
    {
     "data": {
      "text/html": [
       "<div>\n",
       "<style scoped>\n",
       "    .dataframe tbody tr th:only-of-type {\n",
       "        vertical-align: middle;\n",
       "    }\n",
       "\n",
       "    .dataframe tbody tr th {\n",
       "        vertical-align: top;\n",
       "    }\n",
       "\n",
       "    .dataframe thead th {\n",
       "        text-align: right;\n",
       "    }\n",
       "</style>\n",
       "<table border=\"1\" class=\"dataframe\">\n",
       "  <thead>\n",
       "    <tr style=\"text-align: right;\">\n",
       "      <th></th>\n",
       "      <th>label</th>\n",
       "      <th>tweet</th>\n",
       "      <th>remove_punc</th>\n",
       "      <th>clean</th>\n",
       "    </tr>\n",
       "  </thead>\n",
       "  <tbody>\n",
       "    <tr>\n",
       "      <th>0</th>\n",
       "      <td>anger</td>\n",
       "      <td>soal jln jatibaru,polisi tdk bs gertak gubernu...</td>\n",
       "      <td>soal jln jatibarupolisi tdk bs gertak gubernur...</td>\n",
       "      <td>soal jln jatibarupolisi tdk bs gertak gubernur...</td>\n",
       "    </tr>\n",
       "    <tr>\n",
       "      <th>1</th>\n",
       "      <td>anger</td>\n",
       "      <td>sesama cewe lho (kayaknya), harusnya bisa lebi...</td>\n",
       "      <td>sesama cewe lho kayaknya harusnya bisa lebih r...</td>\n",
       "      <td>sama cewe lho kayak   lebih rasain lah   sibuk...</td>\n",
       "    </tr>\n",
       "    <tr>\n",
       "      <th>2</th>\n",
       "      <td>happy</td>\n",
       "      <td>kepingin gudeg mbarek bu hj. amad foto dari go...</td>\n",
       "      <td>kepingin gudeg mbarek bu hj amad foto dari goo...</td>\n",
       "      <td>kepingin gudeg mbarek bu hj amad foto  google ...</td>\n",
       "    </tr>\n",
       "    <tr>\n",
       "      <th>3</th>\n",
       "      <td>anger</td>\n",
       "      <td>jln jatibaru,bagian dari wilayah tn abang.peng...</td>\n",
       "      <td>jln jatibarubagian dari wilayah tn abangpengat...</td>\n",
       "      <td>jln jatibarubagian  wilayah tn abangpengaturan...</td>\n",
       "    </tr>\n",
       "    <tr>\n",
       "      <th>4</th>\n",
       "      <td>happy</td>\n",
       "      <td>sharing pengalaman aja, kemarin jam 18.00 bata...</td>\n",
       "      <td>sharing pengalaman aja kemarin jam 1800 batali...</td>\n",
       "      <td>sharing alam aja kemarin jam 1800 batalin tike...</td>\n",
       "    </tr>\n",
       "  </tbody>\n",
       "</table>\n",
       "</div>"
      ],
      "text/plain": [
       "   label                                              tweet  \\\n",
       "0  anger  soal jln jatibaru,polisi tdk bs gertak gubernu...   \n",
       "1  anger  sesama cewe lho (kayaknya), harusnya bisa lebi...   \n",
       "2  happy  kepingin gudeg mbarek bu hj. amad foto dari go...   \n",
       "3  anger  jln jatibaru,bagian dari wilayah tn abang.peng...   \n",
       "4  happy  sharing pengalaman aja, kemarin jam 18.00 bata...   \n",
       "\n",
       "                                         remove_punc  \\\n",
       "0  soal jln jatibarupolisi tdk bs gertak gubernur...   \n",
       "1  sesama cewe lho kayaknya harusnya bisa lebih r...   \n",
       "2  kepingin gudeg mbarek bu hj amad foto dari goo...   \n",
       "3  jln jatibarubagian dari wilayah tn abangpengat...   \n",
       "4  sharing pengalaman aja kemarin jam 1800 batali...   \n",
       "\n",
       "                                               clean  \n",
       "0  soal jln jatibarupolisi tdk bs gertak gubernur...  \n",
       "1  sama cewe lho kayak   lebih rasain lah   sibuk...  \n",
       "2  kepingin gudeg mbarek bu hj amad foto  google ...  \n",
       "3  jln jatibarubagian  wilayah tn abangpengaturan...  \n",
       "4  sharing alam aja kemarin jam 1800 batalin tike...  "
      ]
     },
     "execution_count": 30,
     "metadata": {},
     "output_type": "execute_result"
    }
   ],
   "source": [
    "data.head()"
   ]
  },
  {
   "cell_type": "markdown",
   "metadata": {
    "id": "cj8vETrvdaoR"
   },
   "source": [
    "menjadikan proses preprocessing data menjadi satu fungsi"
   ]
  },
  {
   "cell_type": "code",
   "execution_count": 34,
   "metadata": {
    "executionInfo": {
     "elapsed": 21,
     "status": "ok",
     "timestamp": 1662032935557,
     "user": {
      "displayName": "Nilam mufidah",
      "userId": "02981889232249357983"
     },
     "user_tz": -420
    },
    "id": "ud9gkZFyCHB6"
   },
   "outputs": [],
   "source": [
    "#fungsi preprocessing\n",
    "def prepros (data, name_column_dataset):\n",
    "    data[name_column_dataset] = data[name_column_dataset].apply(lambda x: x.lower())\n",
    "    data[\"remove_punc\"] = data[name_column_dataset].apply(lambda x: data_cleaning(x))\n",
    "    data[\"clean\"] = data[\"remove_punc\"].apply(lambda x: word_tokenize(x))\n",
    "\n",
    "    start = datetime.now()\n",
    "    factory = StemmerFactory()\n",
    "    stemmer = factory.create_stemmer()\n",
    "    data[\"clean\"] = data[\"clean\"].apply(lambda x: \" \".join(stemmer.stem(word) for word in x))\n",
    "    end_stem = datetime.now()\n",
    "    print (\"stemmer done\",(start-end_stem))\n",
    "\n",
    "    factory = StopWordRemoverFactory()\n",
    "    stopword = factory.create_stop_word_remover()\n",
    "    data[\"clean\"] = data[\"clean\"].apply(lambda x: \" \".join(stopword.remove(x) for x in x.split()))\n",
    "    end_stop = datetime.now()\n",
    "    print (\"stopword done\", (end_stop - end_stem))\n",
    "    \n",
    "    data[\"clean\"] = data[\"clean\"].apply(lambda x:re.sub(' +', ' ',x))\n",
    "\n",
    "    return(data)"
   ]
  },
  {
   "cell_type": "code",
   "execution_count": 57,
   "metadata": {},
   "outputs": [
    {
     "name": "stdout",
     "output_type": "stream",
     "text": [
      "<WordListCorpusReader in '.../corpora/stopwords' (not loaded yet)>\n"
     ]
    },
    {
     "ename": "AttributeError",
     "evalue": "'StopWordRemover' object has no attribute 'append'",
     "output_type": "error",
     "traceback": [
      "\u001b[1;31m---------------------------------------------------------------------------\u001b[0m",
      "\u001b[1;31mAttributeError\u001b[0m                            Traceback (most recent call last)",
      "Cell \u001b[1;32mIn [57], line 2\u001b[0m\n\u001b[0;32m      1\u001b[0m \u001b[38;5;28mprint\u001b[39m(stopwords)\n\u001b[1;32m----> 2\u001b[0m \u001b[43mstopword\u001b[49m\u001b[38;5;241;43m.\u001b[39;49m\u001b[43mappend\u001b[49m(\u001b[38;5;124m'\u001b[39m\u001b[38;5;124mqqqqq\u001b[39m\u001b[38;5;124m'\u001b[39m)\n",
      "\u001b[1;31mAttributeError\u001b[0m: 'StopWordRemover' object has no attribute 'append'"
     ]
    }
   ],
   "source": [
    "\n"
   ]
  },
  {
   "cell_type": "code",
   "execution_count": 35,
   "metadata": {
    "colab": {
     "base_uri": "https://localhost:8080/"
    },
    "executionInfo": {
     "elapsed": 42908,
     "status": "ok",
     "timestamp": 1662032978445,
     "user": {
      "displayName": "Nilam mufidah",
      "userId": "02981889232249357983"
     },
     "user_tz": -420
    },
    "id": "G9FCps-c148V",
    "outputId": "dea9eb63-7de1-4dcc-e2e8-c03ea0befbb8"
   },
   "outputs": [
    {
     "name": "stdout",
     "output_type": "stream",
     "text": [
      "stemmer done -1 day, 23:59:35.935074\n",
      "stopword done 0:00:00\n"
     ]
    }
   ],
   "source": [
    "# name_path = \"/content/gdrive/MyDrive/narasio/materi fix/deploymen pertemuan 1/main room/\"\n",
    "name_file =\"indo_data50.csv\"\n",
    "data = pd.read_csv(name_file)\n",
    "\n",
    "name_column_dataset = \"tweet\"\n",
    "\n",
    "df_pre = prepros (data, name_column_dataset)"
   ]
  },
  {
   "cell_type": "code",
   "execution_count": 19,
   "metadata": {
    "colab": {
     "base_uri": "https://localhost:8080/",
     "height": 206
    },
    "executionInfo": {
     "elapsed": 24,
     "status": "ok",
     "timestamp": 1662032978446,
     "user": {
      "displayName": "Nilam mufidah",
      "userId": "02981889232249357983"
     },
     "user_tz": -420
    },
    "id": "zSJavkr22skC",
    "outputId": "9489f1df-aad6-4809-895a-d2133d56d392"
   },
   "outputs": [
    {
     "data": {
      "text/html": [
       "\n",
       "  <div id=\"df-ac3b1d20-bb3b-4048-85b2-ae99834d1a54\">\n",
       "    <div class=\"colab-df-container\">\n",
       "      <div>\n",
       "<style scoped>\n",
       "    .dataframe tbody tr th:only-of-type {\n",
       "        vertical-align: middle;\n",
       "    }\n",
       "\n",
       "    .dataframe tbody tr th {\n",
       "        vertical-align: top;\n",
       "    }\n",
       "\n",
       "    .dataframe thead th {\n",
       "        text-align: right;\n",
       "    }\n",
       "</style>\n",
       "<table border=\"1\" class=\"dataframe\">\n",
       "  <thead>\n",
       "    <tr style=\"text-align: right;\">\n",
       "      <th></th>\n",
       "      <th>label</th>\n",
       "      <th>tweet</th>\n",
       "      <th>remove_punc</th>\n",
       "      <th>clean</th>\n",
       "    </tr>\n",
       "  </thead>\n",
       "  <tbody>\n",
       "    <tr>\n",
       "      <th>0</th>\n",
       "      <td>anger</td>\n",
       "      <td>soal jln jatibaru,polisi tdk bs gertak gubernu...</td>\n",
       "      <td>soal jln jatibarupolisi tdk bs gertak gubernur...</td>\n",
       "      <td>soal jln jatibarupolisi tdk b gertak gubernur ...</td>\n",
       "    </tr>\n",
       "    <tr>\n",
       "      <th>1</th>\n",
       "      <td>anger</td>\n",
       "      <td>sesama cewe lho (kayaknya), harusnya bisa lebi...</td>\n",
       "      <td>sesama cewe lho kayaknya harusnya bisa lebih r...</td>\n",
       "      <td>sama cewe lho kayak lebih rasain lah sibuk jag...</td>\n",
       "    </tr>\n",
       "    <tr>\n",
       "      <th>2</th>\n",
       "      <td>happy</td>\n",
       "      <td>kepingin gudeg mbarek bu hj. amad foto dari go...</td>\n",
       "      <td>kepingin gudeg mbarek bu hj amad foto dari goo...</td>\n",
       "      <td>kepingin gudeg mbarek bu hj amad foto google s...</td>\n",
       "    </tr>\n",
       "    <tr>\n",
       "      <th>3</th>\n",
       "      <td>anger</td>\n",
       "      <td>jln jatibaru,bagian dari wilayah tn abang.peng...</td>\n",
       "      <td>jln jatibarubagian dari wilayah tn abangpengat...</td>\n",
       "      <td>jln jatibarubagian wilayah tn abangpengaturan ...</td>\n",
       "    </tr>\n",
       "    <tr>\n",
       "      <th>4</th>\n",
       "      <td>happy</td>\n",
       "      <td>sharing pengalaman aja, kemarin jam 18.00 bata...</td>\n",
       "      <td>sharing pengalaman aja kemarin jam 1800 batali...</td>\n",
       "      <td>sharing alam aja kemarin jam 1800 batalin tike...</td>\n",
       "    </tr>\n",
       "  </tbody>\n",
       "</table>\n",
       "</div>\n",
       "      <button class=\"colab-df-convert\" onclick=\"convertToInteractive('df-ac3b1d20-bb3b-4048-85b2-ae99834d1a54')\"\n",
       "              title=\"Convert this dataframe to an interactive table.\"\n",
       "              style=\"display:none;\">\n",
       "        \n",
       "  <svg xmlns=\"http://www.w3.org/2000/svg\" height=\"24px\"viewBox=\"0 0 24 24\"\n",
       "       width=\"24px\">\n",
       "    <path d=\"M0 0h24v24H0V0z\" fill=\"none\"/>\n",
       "    <path d=\"M18.56 5.44l.94 2.06.94-2.06 2.06-.94-2.06-.94-.94-2.06-.94 2.06-2.06.94zm-11 1L8.5 8.5l.94-2.06 2.06-.94-2.06-.94L8.5 2.5l-.94 2.06-2.06.94zm10 10l.94 2.06.94-2.06 2.06-.94-2.06-.94-.94-2.06-.94 2.06-2.06.94z\"/><path d=\"M17.41 7.96l-1.37-1.37c-.4-.4-.92-.59-1.43-.59-.52 0-1.04.2-1.43.59L10.3 9.45l-7.72 7.72c-.78.78-.78 2.05 0 2.83L4 21.41c.39.39.9.59 1.41.59.51 0 1.02-.2 1.41-.59l7.78-7.78 2.81-2.81c.8-.78.8-2.07 0-2.86zM5.41 20L4 18.59l7.72-7.72 1.47 1.35L5.41 20z\"/>\n",
       "  </svg>\n",
       "      </button>\n",
       "      \n",
       "  <style>\n",
       "    .colab-df-container {\n",
       "      display:flex;\n",
       "      flex-wrap:wrap;\n",
       "      gap: 12px;\n",
       "    }\n",
       "\n",
       "    .colab-df-convert {\n",
       "      background-color: #E8F0FE;\n",
       "      border: none;\n",
       "      border-radius: 50%;\n",
       "      cursor: pointer;\n",
       "      display: none;\n",
       "      fill: #1967D2;\n",
       "      height: 32px;\n",
       "      padding: 0 0 0 0;\n",
       "      width: 32px;\n",
       "    }\n",
       "\n",
       "    .colab-df-convert:hover {\n",
       "      background-color: #E2EBFA;\n",
       "      box-shadow: 0px 1px 2px rgba(60, 64, 67, 0.3), 0px 1px 3px 1px rgba(60, 64, 67, 0.15);\n",
       "      fill: #174EA6;\n",
       "    }\n",
       "\n",
       "    [theme=dark] .colab-df-convert {\n",
       "      background-color: #3B4455;\n",
       "      fill: #D2E3FC;\n",
       "    }\n",
       "\n",
       "    [theme=dark] .colab-df-convert:hover {\n",
       "      background-color: #434B5C;\n",
       "      box-shadow: 0px 1px 3px 1px rgba(0, 0, 0, 0.15);\n",
       "      filter: drop-shadow(0px 1px 2px rgba(0, 0, 0, 0.3));\n",
       "      fill: #FFFFFF;\n",
       "    }\n",
       "  </style>\n",
       "\n",
       "      <script>\n",
       "        const buttonEl =\n",
       "          document.querySelector('#df-ac3b1d20-bb3b-4048-85b2-ae99834d1a54 button.colab-df-convert');\n",
       "        buttonEl.style.display =\n",
       "          google.colab.kernel.accessAllowed ? 'block' : 'none';\n",
       "\n",
       "        async function convertToInteractive(key) {\n",
       "          const element = document.querySelector('#df-ac3b1d20-bb3b-4048-85b2-ae99834d1a54');\n",
       "          const dataTable =\n",
       "            await google.colab.kernel.invokeFunction('convertToInteractive',\n",
       "                                                     [key], {});\n",
       "          if (!dataTable) return;\n",
       "\n",
       "          const docLinkHtml = 'Like what you see? Visit the ' +\n",
       "            '<a target=\"_blank\" href=https://colab.research.google.com/notebooks/data_table.ipynb>data table notebook</a>'\n",
       "            + ' to learn more about interactive tables.';\n",
       "          element.innerHTML = '';\n",
       "          dataTable['output_type'] = 'display_data';\n",
       "          await google.colab.output.renderOutput(dataTable, element);\n",
       "          const docLink = document.createElement('div');\n",
       "          docLink.innerHTML = docLinkHtml;\n",
       "          element.appendChild(docLink);\n",
       "        }\n",
       "      </script>\n",
       "    </div>\n",
       "  </div>\n",
       "  "
      ],
      "text/plain": [
       "   label                                              tweet  \\\n",
       "0  anger  soal jln jatibaru,polisi tdk bs gertak gubernu...   \n",
       "1  anger  sesama cewe lho (kayaknya), harusnya bisa lebi...   \n",
       "2  happy  kepingin gudeg mbarek bu hj. amad foto dari go...   \n",
       "3  anger  jln jatibaru,bagian dari wilayah tn abang.peng...   \n",
       "4  happy  sharing pengalaman aja, kemarin jam 18.00 bata...   \n",
       "\n",
       "                                         remove_punc  \\\n",
       "0  soal jln jatibarupolisi tdk bs gertak gubernur...   \n",
       "1  sesama cewe lho kayaknya harusnya bisa lebih r...   \n",
       "2  kepingin gudeg mbarek bu hj amad foto dari goo...   \n",
       "3  jln jatibarubagian dari wilayah tn abangpengat...   \n",
       "4  sharing pengalaman aja kemarin jam 1800 batali...   \n",
       "\n",
       "                                               clean  \n",
       "0  soal jln jatibarupolisi tdk b gertak gubernur ...  \n",
       "1  sama cewe lho kayak lebih rasain lah sibuk jag...  \n",
       "2  kepingin gudeg mbarek bu hj amad foto google s...  \n",
       "3  jln jatibarubagian wilayah tn abangpengaturan ...  \n",
       "4  sharing alam aja kemarin jam 1800 batalin tike...  "
      ]
     },
     "execution_count": 19,
     "metadata": {},
     "output_type": "execute_result"
    }
   ],
   "source": [
    "df_pre.head()"
   ]
  },
  {
   "cell_type": "markdown",
   "metadata": {
    "id": "UqVJdgygedx_"
   },
   "source": [
    "pindahkan seluruh skript yang sudah menjadi fungsi dan package ke dalam file py"
   ]
  },
  {
   "cell_type": "markdown",
   "metadata": {
    "id": "qLGUO09cWhk7"
   },
   "source": [
    "memanggil file py"
   ]
  },
  {
   "cell_type": "code",
   "execution_count": 48,
   "metadata": {
    "colab": {
     "base_uri": "https://localhost:8080/"
    },
    "executionInfo": {
     "elapsed": 513,
     "status": "ok",
     "timestamp": 1662033006089,
     "user": {
      "displayName": "Nilam mufidah",
      "userId": "02981889232249357983"
     },
     "user_tz": -420
    },
    "id": "j8j64hgAgLBe",
    "outputId": "ed0fda55-3cd5-44e7-f872-863a890a02bd"
   },
   "outputs": [
    {
     "name": "stdout",
     "output_type": "stream",
     "text": [
      " Volume in drive C is OS\n",
      " Volume Serial Number is AAF4-25F2\n",
      "\n",
      " Directory of C:\\Users\\Widya Wicara\\Documents\\binar\\FGD 16\n",
      "\n",
      "11/28/2022  08:01 PM    <DIR>          .\n",
      "11/28/2022  07:09 AM    <DIR>          ..\n",
      "11/28/2022  08:00 PM    <DIR>          .ipynb_checkpoints\n",
      "11/28/2022  08:02 PM             1,440 app.py\n",
      "11/28/2022  06:40 AM            10,100 indo_data50.csv\n",
      "11/28/2022  06:40 AM           845,366 indo_dataset.csv\n",
      "11/28/2022  08:02 PM             2,237 pre.py\n",
      "11/28/2022  07:25 AM    <DIR>          template\n",
      "11/28/2022  07:00 AM             2,126 textProcessing.py\n",
      "11/28/2022  08:01 PM            81,106 [output]text analysis keras.ipynb\n",
      "11/28/2022  03:16 PM    <DIR>          __pycache__\n",
      "               6 File(s)        942,375 bytes\n",
      "               5 Dir(s)  25,648,640,000 bytes free\n"
     ]
    }
   ],
   "source": [
    "!dir"
   ]
  },
  {
   "cell_type": "code",
   "execution_count": 49,
   "metadata": {
    "colab": {
     "base_uri": "https://localhost:8080/"
    },
    "executionInfo": {
     "elapsed": 6549,
     "status": "ok",
     "timestamp": 1662033012637,
     "user": {
      "displayName": "Nilam mufidah",
      "userId": "02981889232249357983"
     },
     "user_tz": -420
    },
    "id": "jh_GtSXSWjyP",
    "outputId": "f8be798c-edeb-4a11-95b7-325a9f77b4e1"
   },
   "outputs": [
    {
     "name": "stderr",
     "output_type": "stream",
     "text": [
      "[nltk_data] Downloading package punkt to C:\\Users\\Widya\n",
      "[nltk_data]     Wicara\\AppData\\Roaming\\nltk_data...\n",
      "[nltk_data]   Package punkt is already up-to-date!\n",
      "[nltk_data] Downloading package wordnet to C:\\Users\\Widya\n",
      "[nltk_data]     Wicara\\AppData\\Roaming\\nltk_data...\n",
      "[nltk_data]   Package wordnet is already up-to-date!\n",
      "[nltk_data] Downloading package omw-1.4 to C:\\Users\\Widya\n",
      "[nltk_data]     Wicara\\AppData\\Roaming\\nltk_data...\n",
      "[nltk_data]   Package omw-1.4 is already up-to-date!\n"
     ]
    }
   ],
   "source": [
    "!python pre.py"
   ]
  },
  {
   "cell_type": "markdown",
   "metadata": {
    "id": "Xv4VNeOWSIQt"
   },
   "source": [
    "memanggil menggunakan **import**"
   ]
  },
  {
   "cell_type": "code",
   "execution_count": 39,
   "metadata": {
    "colab": {
     "base_uri": "https://localhost:8080/",
     "height": 206
    },
    "executionInfo": {
     "elapsed": 15,
     "status": "ok",
     "timestamp": 1662033012638,
     "user": {
      "displayName": "Nilam mufidah",
      "userId": "02981889232249357983"
     },
     "user_tz": -420
    },
    "id": "jJX5-Bh2SIQt",
    "outputId": "a2c6034a-bb7b-4608-a14c-4dadb1d04fb9"
   },
   "outputs": [
    {
     "data": {
      "text/html": [
       "<div>\n",
       "<style scoped>\n",
       "    .dataframe tbody tr th:only-of-type {\n",
       "        vertical-align: middle;\n",
       "    }\n",
       "\n",
       "    .dataframe tbody tr th {\n",
       "        vertical-align: top;\n",
       "    }\n",
       "\n",
       "    .dataframe thead th {\n",
       "        text-align: right;\n",
       "    }\n",
       "</style>\n",
       "<table border=\"1\" class=\"dataframe\">\n",
       "  <thead>\n",
       "    <tr style=\"text-align: right;\">\n",
       "      <th></th>\n",
       "      <th>label</th>\n",
       "      <th>tweet</th>\n",
       "    </tr>\n",
       "  </thead>\n",
       "  <tbody>\n",
       "    <tr>\n",
       "      <th>0</th>\n",
       "      <td>anger</td>\n",
       "      <td>Soal jln Jatibaru,polisi tdk bs GERTAK gubernu...</td>\n",
       "    </tr>\n",
       "    <tr>\n",
       "      <th>1</th>\n",
       "      <td>anger</td>\n",
       "      <td>Sesama cewe lho (kayaknya), harusnya bisa lebi...</td>\n",
       "    </tr>\n",
       "    <tr>\n",
       "      <th>2</th>\n",
       "      <td>happy</td>\n",
       "      <td>Kepingin gudeg mbarek Bu hj. Amad Foto dari go...</td>\n",
       "    </tr>\n",
       "    <tr>\n",
       "      <th>3</th>\n",
       "      <td>anger</td>\n",
       "      <td>Jln Jatibaru,bagian dari wilayah Tn Abang.Peng...</td>\n",
       "    </tr>\n",
       "    <tr>\n",
       "      <th>4</th>\n",
       "      <td>happy</td>\n",
       "      <td>Sharing pengalaman aja, kemarin jam 18.00 bata...</td>\n",
       "    </tr>\n",
       "  </tbody>\n",
       "</table>\n",
       "</div>"
      ],
      "text/plain": [
       "   label                                              tweet\n",
       "0  anger  Soal jln Jatibaru,polisi tdk bs GERTAK gubernu...\n",
       "1  anger  Sesama cewe lho (kayaknya), harusnya bisa lebi...\n",
       "2  happy  Kepingin gudeg mbarek Bu hj. Amad Foto dari go...\n",
       "3  anger  Jln Jatibaru,bagian dari wilayah Tn Abang.Peng...\n",
       "4  happy  Sharing pengalaman aja, kemarin jam 18.00 bata..."
      ]
     },
     "execution_count": 39,
     "metadata": {},
     "output_type": "execute_result"
    }
   ],
   "source": [
    "name_file =\"indo_data50.csv\"\n",
    "data = pd.read_csv(name_file)\n",
    "data.head()"
   ]
  },
  {
   "cell_type": "code",
   "execution_count": 50,
   "metadata": {
    "colab": {
     "base_uri": "https://localhost:8080/"
    },
    "executionInfo": {
     "elapsed": 499,
     "status": "ok",
     "timestamp": 1662033115405,
     "user": {
      "displayName": "Nilam mufidah",
      "userId": "02981889232249357983"
     },
     "user_tz": -420
    },
    "id": "33314R_ehL1O",
    "outputId": "d44e94e9-edaf-4aef-abf3-5ec8776e2839"
   },
   "outputs": [
    {
     "name": "stderr",
     "output_type": "stream",
     "text": [
      "[nltk_data] Downloading package punkt to C:\\Users\\Widya\n",
      "[nltk_data]     Wicara\\AppData\\Roaming\\nltk_data...\n",
      "[nltk_data]   Package punkt is already up-to-date!\n",
      "[nltk_data] Downloading package wordnet to C:\\Users\\Widya\n",
      "[nltk_data]     Wicara\\AppData\\Roaming\\nltk_data...\n",
      "[nltk_data]   Package wordnet is already up-to-date!\n",
      "[nltk_data] Downloading package omw-1.4 to C:\\Users\\Widya\n",
      "[nltk_data]     Wicara\\AppData\\Roaming\\nltk_data...\n",
      "[nltk_data]   Package omw-1.4 is already up-to-date!\n"
     ]
    }
   ],
   "source": [
    "import pre"
   ]
  },
  {
   "cell_type": "code",
   "execution_count": 51,
   "metadata": {
    "colab": {
     "base_uri": "https://localhost:8080/"
    },
    "executionInfo": {
     "elapsed": 49081,
     "status": "ok",
     "timestamp": 1662033180416,
     "user": {
      "displayName": "Nilam mufidah",
      "userId": "02981889232249357983"
     },
     "user_tz": -420
    },
    "id": "3GxSDfqhKUpX",
    "outputId": "c8c7d8bc-2130-48f6-fbef-8d8beace2077"
   },
   "outputs": [
    {
     "name": "stdout",
     "output_type": "stream",
     "text": [
      "stemmer done -1 day, 23:59:33.029194\n",
      "stopword done 0:00:00.002992\n"
     ]
    }
   ],
   "source": [
    "name_column_dataset = 'tweet'\n",
    "df_pre = pre.prepros (data, name_column_dataset)"
   ]
  },
  {
   "cell_type": "code",
   "execution_count": 53,
   "metadata": {
    "colab": {
     "base_uri": "https://localhost:8080/",
     "height": 206
    },
    "executionInfo": {
     "elapsed": 338,
     "status": "ok",
     "timestamp": 1662033184435,
     "user": {
      "displayName": "Nilam mufidah",
      "userId": "02981889232249357983"
     },
     "user_tz": -420
    },
    "id": "3J3qdCCqKjza",
    "outputId": "7877e725-8132-4078-b3d9-61703025241f"
   },
   "outputs": [
    {
     "data": {
      "text/html": [
       "<div>\n",
       "<style scoped>\n",
       "    .dataframe tbody tr th:only-of-type {\n",
       "        vertical-align: middle;\n",
       "    }\n",
       "\n",
       "    .dataframe tbody tr th {\n",
       "        vertical-align: top;\n",
       "    }\n",
       "\n",
       "    .dataframe thead th {\n",
       "        text-align: right;\n",
       "    }\n",
       "</style>\n",
       "<table border=\"1\" class=\"dataframe\">\n",
       "  <thead>\n",
       "    <tr style=\"text-align: right;\">\n",
       "      <th></th>\n",
       "      <th>label</th>\n",
       "      <th>tweet</th>\n",
       "      <th>remove_punc</th>\n",
       "      <th>clean</th>\n",
       "    </tr>\n",
       "  </thead>\n",
       "  <tbody>\n",
       "    <tr>\n",
       "      <th>0</th>\n",
       "      <td>anger</td>\n",
       "      <td>soal jln jatibaru,polisi tdk bs gertak gubernu...</td>\n",
       "      <td>soal jln jatibarupolisi tdk bs gertak gubernur...</td>\n",
       "      <td>soal jln jatibarupolisi tdk bs gertak gubernur...</td>\n",
       "    </tr>\n",
       "    <tr>\n",
       "      <th>1</th>\n",
       "      <td>anger</td>\n",
       "      <td>sesama cewe lho (kayaknya), harusnya bisa lebi...</td>\n",
       "      <td>sesama cewe lho kayaknya harusnya bisa lebih r...</td>\n",
       "      <td>sama cewe lho kayak lebih rasain lah sibuk jag...</td>\n",
       "    </tr>\n",
       "    <tr>\n",
       "      <th>2</th>\n",
       "      <td>happy</td>\n",
       "      <td>kepingin gudeg mbarek bu hj. amad foto dari go...</td>\n",
       "      <td>kepingin gudeg mbarek bu hj amad foto dari goo...</td>\n",
       "      <td>kepingin gudeg mbarek bu hj amad foto google s...</td>\n",
       "    </tr>\n",
       "    <tr>\n",
       "      <th>3</th>\n",
       "      <td>anger</td>\n",
       "      <td>jln jatibaru,bagian dari wilayah tn abang.peng...</td>\n",
       "      <td>jln jatibarubagian dari wilayah tn abangpengat...</td>\n",
       "      <td>jln jatibarubagian wilayah tn abangpengaturan ...</td>\n",
       "    </tr>\n",
       "    <tr>\n",
       "      <th>4</th>\n",
       "      <td>happy</td>\n",
       "      <td>sharing pengalaman aja, kemarin jam 18.00 bata...</td>\n",
       "      <td>sharing pengalaman aja kemarin jam 1800 batali...</td>\n",
       "      <td>sharing alam aja kemarin jam 1800 batalin tike...</td>\n",
       "    </tr>\n",
       "  </tbody>\n",
       "</table>\n",
       "</div>"
      ],
      "text/plain": [
       "   label                                              tweet  \\\n",
       "0  anger  soal jln jatibaru,polisi tdk bs gertak gubernu...   \n",
       "1  anger  sesama cewe lho (kayaknya), harusnya bisa lebi...   \n",
       "2  happy  kepingin gudeg mbarek bu hj. amad foto dari go...   \n",
       "3  anger  jln jatibaru,bagian dari wilayah tn abang.peng...   \n",
       "4  happy  sharing pengalaman aja, kemarin jam 18.00 bata...   \n",
       "\n",
       "                                         remove_punc  \\\n",
       "0  soal jln jatibarupolisi tdk bs gertak gubernur...   \n",
       "1  sesama cewe lho kayaknya harusnya bisa lebih r...   \n",
       "2  kepingin gudeg mbarek bu hj amad foto dari goo...   \n",
       "3  jln jatibarubagian dari wilayah tn abangpengat...   \n",
       "4  sharing pengalaman aja kemarin jam 1800 batali...   \n",
       "\n",
       "                                               clean  \n",
       "0  soal jln jatibarupolisi tdk bs gertak gubernur...  \n",
       "1  sama cewe lho kayak lebih rasain lah sibuk jag...  \n",
       "2  kepingin gudeg mbarek bu hj amad foto google s...  \n",
       "3  jln jatibarubagian wilayah tn abangpengaturan ...  \n",
       "4  sharing alam aja kemarin jam 1800 batalin tike...  "
      ]
     },
     "execution_count": 53,
     "metadata": {},
     "output_type": "execute_result"
    }
   ],
   "source": [
    "df_pre.head()"
   ]
  },
  {
   "cell_type": "markdown",
   "metadata": {
    "id": "TIkLwP92hVed"
   },
   "source": [
    "memanggil menggunakan **from** dan **import**"
   ]
  },
  {
   "cell_type": "code",
   "execution_count": 45,
   "metadata": {
    "executionInfo": {
     "elapsed": 330,
     "status": "ok",
     "timestamp": 1662033209273,
     "user": {
      "displayName": "Nilam mufidah",
      "userId": "02981889232249357983"
     },
     "user_tz": -420
    },
    "id": "yxw7HlwdSIQu"
   },
   "outputs": [],
   "source": [
    "from pre import prepros"
   ]
  },
  {
   "cell_type": "code",
   "execution_count": 46,
   "metadata": {
    "colab": {
     "base_uri": "https://localhost:8080/"
    },
    "executionInfo": {
     "elapsed": 5047,
     "status": "ok",
     "timestamp": 1662033217076,
     "user": {
      "displayName": "Nilam mufidah",
      "userId": "02981889232249357983"
     },
     "user_tz": -420
    },
    "id": "lpRuZqhThq7Q",
    "outputId": "bb05578b-f7cc-4e55-cefe-ee1552e656f6"
   },
   "outputs": [
    {
     "name": "stdout",
     "output_type": "stream",
     "text": [
      "stemmer done -1 day, 23:59:35.833401\n",
      "stopword done 0:00:00.002991\n"
     ]
    },
    {
     "data": {
      "text/html": [
       "<div>\n",
       "<style scoped>\n",
       "    .dataframe tbody tr th:only-of-type {\n",
       "        vertical-align: middle;\n",
       "    }\n",
       "\n",
       "    .dataframe tbody tr th {\n",
       "        vertical-align: top;\n",
       "    }\n",
       "\n",
       "    .dataframe thead th {\n",
       "        text-align: right;\n",
       "    }\n",
       "</style>\n",
       "<table border=\"1\" class=\"dataframe\">\n",
       "  <thead>\n",
       "    <tr style=\"text-align: right;\">\n",
       "      <th></th>\n",
       "      <th>label</th>\n",
       "      <th>tweet</th>\n",
       "      <th>remove_punc</th>\n",
       "      <th>clean</th>\n",
       "    </tr>\n",
       "  </thead>\n",
       "  <tbody>\n",
       "    <tr>\n",
       "      <th>0</th>\n",
       "      <td>anger</td>\n",
       "      <td>soal jln jatibaru,polisi tdk bs gertak gubernu...</td>\n",
       "      <td>soal jln jatibarupolisi tdk bs gertak gubernur...</td>\n",
       "      <td>soal jln jatibarupolisi tdk bs gertak gubernur...</td>\n",
       "    </tr>\n",
       "    <tr>\n",
       "      <th>1</th>\n",
       "      <td>anger</td>\n",
       "      <td>sesama cewe lho (kayaknya), harusnya bisa lebi...</td>\n",
       "      <td>sesama cewe lho kayaknya harusnya bisa lebih r...</td>\n",
       "      <td>sama cewe lho kayak lebih rasain lah sibuk jag...</td>\n",
       "    </tr>\n",
       "    <tr>\n",
       "      <th>2</th>\n",
       "      <td>happy</td>\n",
       "      <td>kepingin gudeg mbarek bu hj. amad foto dari go...</td>\n",
       "      <td>kepingin gudeg mbarek bu hj amad foto dari goo...</td>\n",
       "      <td>kepingin gudeg mbarek bu hj amad foto google s...</td>\n",
       "    </tr>\n",
       "    <tr>\n",
       "      <th>3</th>\n",
       "      <td>anger</td>\n",
       "      <td>jln jatibaru,bagian dari wilayah tn abang.peng...</td>\n",
       "      <td>jln jatibarubagian dari wilayah tn abangpengat...</td>\n",
       "      <td>jln jatibarubagian wilayah tn abangpengaturan ...</td>\n",
       "    </tr>\n",
       "    <tr>\n",
       "      <th>4</th>\n",
       "      <td>happy</td>\n",
       "      <td>sharing pengalaman aja, kemarin jam 18.00 bata...</td>\n",
       "      <td>sharing pengalaman aja kemarin jam 1800 batali...</td>\n",
       "      <td>sharing alam aja kemarin jam 1800 batalin tike...</td>\n",
       "    </tr>\n",
       "    <tr>\n",
       "      <th>5</th>\n",
       "      <td>anger</td>\n",
       "      <td>dari sekian banyak thread yang aku baca, threa...</td>\n",
       "      <td>dari sekian banyak thread yang aku baca thread...</td>\n",
       "      <td>sekian banyak thread aku baca thread paling a...</td>\n",
       "    </tr>\n",
       "    <tr>\n",
       "      <th>6</th>\n",
       "      <td>happy</td>\n",
       "      <td>sharing sama temen tuh emg guna bgt. disaat lu...</td>\n",
       "      <td>sharing sama temen tuh emg guna bgt disaat lu ...</td>\n",
       "      <td>sharing sama temen tuh emg bgt lu ngerasa masa...</td>\n",
       "    </tr>\n",
       "    <tr>\n",
       "      <th>7</th>\n",
       "      <td>sadness</td>\n",
       "      <td>orang lain kalau pake ponco itu buat jas hujan...</td>\n",
       "      <td>orang lain kalau pake ponco itu buat jas hujan...</td>\n",
       "      <td>orang kalau pake ponco buat jas hujan nah pake...</td>\n",
       "    </tr>\n",
       "    <tr>\n",
       "      <th>8</th>\n",
       "      <td>anger</td>\n",
       "      <td>contoh mereka yg gemar menyudutkan, teriak pal...</td>\n",
       "      <td>contoh mereka yg gemar menyudutkan teriak pali...</td>\n",
       "      <td>contoh yg gemar sudut teriak paling toleran tp...</td>\n",
       "    </tr>\n",
       "    <tr>\n",
       "      <th>9</th>\n",
       "      <td>sadness</td>\n",
       "      <td>pulang udah h-4 lebaran dilema sekali. seperti...</td>\n",
       "      <td>pulang udah h4 lebaran dilema sekali seperti t...</td>\n",
       "      <td>pulang udah h4 lebaran dilema sekali laku apa2...</td>\n",
       "    </tr>\n",
       "    <tr>\n",
       "      <th>10</th>\n",
       "      <td>anger</td>\n",
       "      <td>betul min rakyat indonesia sekarang harapan ny...</td>\n",
       "      <td>betul min rakyat indonesia sekarang harapan ny...</td>\n",
       "      <td>betul min rakyat indonesia sekarang harap nya ...</td>\n",
       "    </tr>\n",
       "    <tr>\n",
       "      <th>11</th>\n",
       "      <td>anger</td>\n",
       "      <td>kalaupun fansite ngejual hasil jepretan mereka...</td>\n",
       "      <td>kalaupun fansite ngejual hasil jepretan mereka...</td>\n",
       "      <td>kalaupun fansite ngejual hasil jepret uang nya...</td>\n",
       "    </tr>\n",
       "    <tr>\n",
       "      <th>12</th>\n",
       "      <td>happy</td>\n",
       "      <td>sangat bersyukur bisa mendoakan kakeknya, bung...</td>\n",
       "      <td>sangat bersyukur bisa mendoakan kakeknya bung ...</td>\n",
       "      <td>sangat syukur doa kakek bung karno sama anakan...</td>\n",
       "    </tr>\n",
       "    <tr>\n",
       "      <th>13</th>\n",
       "      <td>sadness</td>\n",
       "      <td>sulit menerima kenyataan memang bahwa ada seba...</td>\n",
       "      <td>sulit menerima kenyataan memang bahwa ada seba...</td>\n",
       "      <td>sulit terima nyata memang anggap interaksi sat...</td>\n",
       "    </tr>\n",
       "    <tr>\n",
       "      <th>14</th>\n",
       "      <td>anger</td>\n",
       "      <td>samanye udeh maling semua gak si jancok gak si...</td>\n",
       "      <td>samanye udeh maling semua gak si jancok gak si...</td>\n",
       "      <td>samanye udeh maling semua gak si jancok gak si...</td>\n",
       "    </tr>\n",
       "    <tr>\n",
       "      <th>15</th>\n",
       "      <td>anger</td>\n",
       "      <td>ku juga pengen ngamuk bacain komen2 netizen yg...</td>\n",
       "      <td>ku juga pengen ngamuk bacain komen2 netizen yg...</td>\n",
       "      <td>ku ken ngamuk bacain komen2 netizen yg mahaben...</td>\n",
       "    </tr>\n",
       "    <tr>\n",
       "      <th>16</th>\n",
       "      <td>love</td>\n",
       "      <td>setiap kesempatan yg pernah hadir tuk dapat me...</td>\n",
       "      <td>setiap kesempatan yg pernah hadir tuk dapat me...</td>\n",
       "      <td>tiap sempat yg pernah hadir tuk buat selalu ra...</td>\n",
       "    </tr>\n",
       "    <tr>\n",
       "      <th>17</th>\n",
       "      <td>anger</td>\n",
       "      <td>sedap kali kau ya bobok dikasur ku. aku tidur ...</td>\n",
       "      <td>sedap kali kau ya bobok dikasur ku aku tidur k...</td>\n",
       "      <td>sedap kali kau bobok kasur ku aku tidur kau ik...</td>\n",
       "    </tr>\n",
       "    <tr>\n",
       "      <th>18</th>\n",
       "      <td>happy</td>\n",
       "      <td>h-9. mau ke bank rame bgt ampe antrian tempat ...</td>\n",
       "      <td>h9 mau ke bank rame bgt ampe antrian tempat du...</td>\n",
       "      <td>h9 mau bank rame bgt ampe antri tempat duduk l...</td>\n",
       "    </tr>\n",
       "    <tr>\n",
       "      <th>19</th>\n",
       "      <td>anger</td>\n",
       "      <td>benar2 hancur negara ini dikelola amatiran, tp...</td>\n",
       "      <td>benar2 hancur negara ini dikelola amatiran tp ...</td>\n",
       "      <td>benar2 hancur negara kelola amatir tp kenpak u...</td>\n",
       "    </tr>\n",
       "    <tr>\n",
       "      <th>20</th>\n",
       "      <td>anger</td>\n",
       "      <td>budayakan mencari dan membaca sebelum nanya ya...</td>\n",
       "      <td>budayakan mencari dan membaca sebelum nanya ya...</td>\n",
       "      <td>budaya cari baca nanya udah jelas berkali2 kok...</td>\n",
       "    </tr>\n",
       "    <tr>\n",
       "      <th>21</th>\n",
       "      <td>sadness</td>\n",
       "      <td>separuh hati ini iri jika melihat seorang anak...</td>\n",
       "      <td>separuh hati ini iri jika melihat seorang anak...</td>\n",
       "      <td>paruh hati iri lihat orang anak yg duduk jalan...</td>\n",
       "    </tr>\n",
       "    <tr>\n",
       "      <th>22</th>\n",
       "      <td>happy</td>\n",
       "      <td>ketika aku tersenyum bukan berarti hidupku sem...</td>\n",
       "      <td>ketika aku tersenyum bukan berarti hidupku sem...</td>\n",
       "      <td>aku senyum bukan arti hidup sempurna aku syuk...</td>\n",
       "    </tr>\n",
       "    <tr>\n",
       "      <th>23</th>\n",
       "      <td>sadness</td>\n",
       "      <td>dari mau tdr, tidur, sampe bgn tdr kok yaa kay...</td>\n",
       "      <td>dari mau tdr tidur sampe bgn tdr kok yaa kayak...</td>\n",
       "      <td>mau tdr tidur sampe bgn tdr kok yaa kayak nge...</td>\n",
       "    </tr>\n",
       "    <tr>\n",
       "      <th>24</th>\n",
       "      <td>love</td>\n",
       "      <td>kan kupeluk engkau erat2 hingga tak ada seoran...</td>\n",
       "      <td>kan kupeluk engkau erat2 hingga tak ada seoran...</td>\n",
       "      <td>kan peluk engkau erat2 hingga tak orang rebut ...</td>\n",
       "    </tr>\n",
       "    <tr>\n",
       "      <th>25</th>\n",
       "      <td>anger</td>\n",
       "      <td>kalo mau ganti presiden itu harus jelas siapa ...</td>\n",
       "      <td>kalo mau ganti presiden itu harus jelas siapa ...</td>\n",
       "      <td>kalo mau ganti presiden jelas siapa calon teru...</td>\n",
       "    </tr>\n",
       "    <tr>\n",
       "      <th>26</th>\n",
       "      <td>happy</td>\n",
       "      <td>sukses n keren banget dgn no.1 kualitas,bhn kr...</td>\n",
       "      <td>sukses n keren banget dgn no1 kualitasbhn krja...</td>\n",
       "      <td>sukses n keren banget dgn no1 kualitasbhn krja...</td>\n",
       "    </tr>\n",
       "    <tr>\n",
       "      <th>27</th>\n",
       "      <td>anger</td>\n",
       "      <td>udah mau sarjana 2 kali, mbokya mulut nya jang...</td>\n",
       "      <td>udah mau sarjana 2 kali mbokya mulut nya janga...</td>\n",
       "      <td>udah mau sarjana 2 kali mbokya mulut nya janga...</td>\n",
       "    </tr>\n",
       "    <tr>\n",
       "      <th>28</th>\n",
       "      <td>anger</td>\n",
       "      <td>gimana orang ga nilai dr jilbab/syari/nggak ny...</td>\n",
       "      <td>gimana orang ga nilai dr jilbabsyaringgak nya ...</td>\n",
       "      <td>gimana orang ga nilai dr jilbabsyaringgak nya ...</td>\n",
       "    </tr>\n",
       "    <tr>\n",
       "      <th>29</th>\n",
       "      <td>fear</td>\n",
       "      <td>hari ini jadwal presentasi proker di lppm karn...</td>\n",
       "      <td>hari ini jadwal presentasi proker di lppm karn...</td>\n",
       "      <td>hari jadwal presentasi proker lppm karna prakt...</td>\n",
       "    </tr>\n",
       "    <tr>\n",
       "      <th>30</th>\n",
       "      <td>anger</td>\n",
       "      <td>foto saya di instagram masih ada cuma lupa pas...</td>\n",
       "      <td>foto saya di instagram masih ada cuma lupa pas...</td>\n",
       "      <td>foto instagram cuma lupa password instanya jad...</td>\n",
       "    </tr>\n",
       "    <tr>\n",
       "      <th>31</th>\n",
       "      <td>fear</td>\n",
       "      <td>drama kmarin sore : seharian puasa trus pas lg...</td>\n",
       "      <td>drama kmarin sore  seharian puasa trus pas lg ...</td>\n",
       "      <td>drama kmarin sore hari puasa trus pas lg mandi...</td>\n",
       "    </tr>\n",
       "    <tr>\n",
       "      <th>32</th>\n",
       "      <td>sadness</td>\n",
       "      <td>sungguh mencintaimu berat sekali. berpisah den...</td>\n",
       "      <td>sungguh mencintaimu berat sekali berpisah deng...</td>\n",
       "      <td>sungguh cinta berat sekali pisah hadiahperasaa...</td>\n",
       "    </tr>\n",
       "    <tr>\n",
       "      <th>33</th>\n",
       "      <td>anger</td>\n",
       "      <td>4. pas uda dikirim kembali, si kurir telp ngel...</td>\n",
       "      <td>4 pas uda dikirim kembali si kurir telp ngeluh...</td>\n",
       "      <td>4 pas uda kirim si kurir telp ngeluh mager bua...</td>\n",
       "    </tr>\n",
       "    <tr>\n",
       "      <th>34</th>\n",
       "      <td>happy</td>\n",
       "      <td>pada akhirnya kita akan melewati semua ini, se...</td>\n",
       "      <td>pada akhirnya kita akan melewati semua ini sem...</td>\n",
       "      <td>akhir lewat semua semua dulu bayang betapa su...</td>\n",
       "    </tr>\n",
       "    <tr>\n",
       "      <th>35</th>\n",
       "      <td>love</td>\n",
       "      <td>kenapa pasangan seringkali diibaratkan sebagai...</td>\n",
       "      <td>kenapa pasangan seringkali diibaratkan sebagai...</td>\n",
       "      <td>pasang seringkali ibarat bagai rumah rasa nya...</td>\n",
       "    </tr>\n",
       "    <tr>\n",
       "      <th>36</th>\n",
       "      <td>fear</td>\n",
       "      <td>ya tau kalo rasa sakit hati memamg sulit, tapi...</td>\n",
       "      <td>ya tau kalo rasa sakit hati memamg sulit tapi ...</td>\n",
       "      <td>tau kalo rasa sakit hati memamg sulit kala ny...</td>\n",
       "    </tr>\n",
       "    <tr>\n",
       "      <th>37</th>\n",
       "      <td>happy</td>\n",
       "      <td>ponakan kls 4 sd: lg demen nonton video tutori...</td>\n",
       "      <td>ponakan kls 4 sd lg demen nonton video tutoria...</td>\n",
       "      <td>ponakan kls 4 sd lg demen nonton video tutoria...</td>\n",
       "    </tr>\n",
       "    <tr>\n",
       "      <th>38</th>\n",
       "      <td>happy</td>\n",
       "      <td>bberapa tahun kemudian kesejahteraan keluarga ...</td>\n",
       "      <td>bberapa tahun kemudian kesejahteraan keluarga ...</td>\n",
       "      <td>bberapa tahun kemudian sejahtera keluarga makm...</td>\n",
       "    </tr>\n",
       "    <tr>\n",
       "      <th>39</th>\n",
       "      <td>sadness</td>\n",
       "      <td>bukan tidak mendukung atau mendoakan, cuma men...</td>\n",
       "      <td>bukan tidak mendukung atau mendoakan cuma meny...</td>\n",
       "      <td>bukan dukung doa cuma sikap apa sudah2 pilih u...</td>\n",
       "    </tr>\n",
       "    <tr>\n",
       "      <th>40</th>\n",
       "      <td>happy</td>\n",
       "      <td>jne/jnt selama saya pake entah kirim paket/bel...</td>\n",
       "      <td>jnejnt selama saya pake entah kirim paketbeli ...</td>\n",
       "      <td>jnejnt lama pake entah kirim paketbeli olshop ...</td>\n",
       "    </tr>\n",
       "    <tr>\n",
       "      <th>41</th>\n",
       "      <td>anger</td>\n",
       "      <td>gemes bgt sama orang yg masih menganggap wajar...</td>\n",
       "      <td>gemes bgt sama orang yg masih menganggap wajar...</td>\n",
       "      <td>gemes bgt sama orang yg anggap wajar leceh sex...</td>\n",
       "    </tr>\n",
       "    <tr>\n",
       "      <th>42</th>\n",
       "      <td>fear</td>\n",
       "      <td>apa hukumnya bermain musik stad? jelas haroooo...</td>\n",
       "      <td>apa hukumnya bermain musik stad jelas haroooom...</td>\n",
       "      <td>apa hukum main musik stad jelas haroooom hukum...</td>\n",
       "    </tr>\n",
       "    <tr>\n",
       "      <th>43</th>\n",
       "      <td>anger</td>\n",
       "      <td>apa hebatnya mardani? menurut sy oeang ini cum...</td>\n",
       "      <td>apa hebatnya mardani menurut sy oeang ini cuma...</td>\n",
       "      <td>apa hebat mardani turut sy oeang cuma besar mu...</td>\n",
       "    </tr>\n",
       "    <tr>\n",
       "      <th>44</th>\n",
       "      <td>sadness</td>\n",
       "      <td>oh iya, ibu nya ngelahirin anak ke 3 yaitu cew...</td>\n",
       "      <td>oh iya ibu nya ngelahirin anak ke 3 yaitu cewe...</td>\n",
       "      <td>iya ibu nya ngelahirin anak 3 cewek tpi gak t...</td>\n",
       "    </tr>\n",
       "    <tr>\n",
       "      <th>45</th>\n",
       "      <td>happy</td>\n",
       "      <td>z suka twitter soalny perempuan ji semua teman...</td>\n",
       "      <td>z suka twitter soalny perempuan ji semua teman...</td>\n",
       "      <td>z suka twitter soalny perempuan ji semua teman...</td>\n",
       "    </tr>\n",
       "    <tr>\n",
       "      <th>46</th>\n",
       "      <td>anger</td>\n",
       "      <td>nggak ngerti lagi sama ciwi-ciwi yang nyinyiri...</td>\n",
       "      <td>nggak ngerti lagi sama ciwiciwi yang nyinyirin...</td>\n",
       "      <td>ngerti sama ciwiciwi nyinyirin via vallen kor...</td>\n",
       "    </tr>\n",
       "    <tr>\n",
       "      <th>47</th>\n",
       "      <td>anger</td>\n",
       "      <td>hari ini libur, rencananya mau nonton jurassic...</td>\n",
       "      <td>hari ini libur rencananya mau nonton jurassic ...</td>\n",
       "      <td>hari libur rencana mau nonton jurassic world k...</td>\n",
       "    </tr>\n",
       "    <tr>\n",
       "      <th>48</th>\n",
       "      <td>anger</td>\n",
       "      <td>nah ini, yg nunggu anak anteng dengan kesabara...</td>\n",
       "      <td>nah ini yg nunggu anak anteng dengan kesabaran...</td>\n",
       "      <td>nah yg nunggu anak anteng sabar luas samudra t...</td>\n",
       "    </tr>\n",
       "    <tr>\n",
       "      <th>49</th>\n",
       "      <td>love</td>\n",
       "      <td>ku rindu bisik mu di telingaku seraya kau berk...</td>\n",
       "      <td>ku rindu bisik mu di telingaku seraya kau berk...</td>\n",
       "      <td>ku rindu bisik mu telinga kau kata moga kelak ...</td>\n",
       "    </tr>\n",
       "  </tbody>\n",
       "</table>\n",
       "</div>"
      ],
      "text/plain": [
       "      label                                              tweet  \\\n",
       "0     anger  soal jln jatibaru,polisi tdk bs gertak gubernu...   \n",
       "1     anger  sesama cewe lho (kayaknya), harusnya bisa lebi...   \n",
       "2     happy  kepingin gudeg mbarek bu hj. amad foto dari go...   \n",
       "3     anger  jln jatibaru,bagian dari wilayah tn abang.peng...   \n",
       "4     happy  sharing pengalaman aja, kemarin jam 18.00 bata...   \n",
       "5     anger  dari sekian banyak thread yang aku baca, threa...   \n",
       "6     happy  sharing sama temen tuh emg guna bgt. disaat lu...   \n",
       "7   sadness  orang lain kalau pake ponco itu buat jas hujan...   \n",
       "8     anger  contoh mereka yg gemar menyudutkan, teriak pal...   \n",
       "9   sadness  pulang udah h-4 lebaran dilema sekali. seperti...   \n",
       "10    anger  betul min rakyat indonesia sekarang harapan ny...   \n",
       "11    anger  kalaupun fansite ngejual hasil jepretan mereka...   \n",
       "12    happy  sangat bersyukur bisa mendoakan kakeknya, bung...   \n",
       "13  sadness  sulit menerima kenyataan memang bahwa ada seba...   \n",
       "14    anger  samanye udeh maling semua gak si jancok gak si...   \n",
       "15    anger  ku juga pengen ngamuk bacain komen2 netizen yg...   \n",
       "16     love  setiap kesempatan yg pernah hadir tuk dapat me...   \n",
       "17    anger  sedap kali kau ya bobok dikasur ku. aku tidur ...   \n",
       "18    happy  h-9. mau ke bank rame bgt ampe antrian tempat ...   \n",
       "19    anger  benar2 hancur negara ini dikelola amatiran, tp...   \n",
       "20    anger  budayakan mencari dan membaca sebelum nanya ya...   \n",
       "21  sadness  separuh hati ini iri jika melihat seorang anak...   \n",
       "22    happy  ketika aku tersenyum bukan berarti hidupku sem...   \n",
       "23  sadness  dari mau tdr, tidur, sampe bgn tdr kok yaa kay...   \n",
       "24     love  kan kupeluk engkau erat2 hingga tak ada seoran...   \n",
       "25    anger  kalo mau ganti presiden itu harus jelas siapa ...   \n",
       "26    happy  sukses n keren banget dgn no.1 kualitas,bhn kr...   \n",
       "27    anger  udah mau sarjana 2 kali, mbokya mulut nya jang...   \n",
       "28    anger  gimana orang ga nilai dr jilbab/syari/nggak ny...   \n",
       "29     fear  hari ini jadwal presentasi proker di lppm karn...   \n",
       "30    anger  foto saya di instagram masih ada cuma lupa pas...   \n",
       "31     fear  drama kmarin sore : seharian puasa trus pas lg...   \n",
       "32  sadness  sungguh mencintaimu berat sekali. berpisah den...   \n",
       "33    anger  4. pas uda dikirim kembali, si kurir telp ngel...   \n",
       "34    happy  pada akhirnya kita akan melewati semua ini, se...   \n",
       "35     love  kenapa pasangan seringkali diibaratkan sebagai...   \n",
       "36     fear  ya tau kalo rasa sakit hati memamg sulit, tapi...   \n",
       "37    happy  ponakan kls 4 sd: lg demen nonton video tutori...   \n",
       "38    happy  bberapa tahun kemudian kesejahteraan keluarga ...   \n",
       "39  sadness  bukan tidak mendukung atau mendoakan, cuma men...   \n",
       "40    happy  jne/jnt selama saya pake entah kirim paket/bel...   \n",
       "41    anger  gemes bgt sama orang yg masih menganggap wajar...   \n",
       "42     fear  apa hukumnya bermain musik stad? jelas haroooo...   \n",
       "43    anger  apa hebatnya mardani? menurut sy oeang ini cum...   \n",
       "44  sadness  oh iya, ibu nya ngelahirin anak ke 3 yaitu cew...   \n",
       "45    happy  z suka twitter soalny perempuan ji semua teman...   \n",
       "46    anger  nggak ngerti lagi sama ciwi-ciwi yang nyinyiri...   \n",
       "47    anger  hari ini libur, rencananya mau nonton jurassic...   \n",
       "48    anger  nah ini, yg nunggu anak anteng dengan kesabara...   \n",
       "49     love  ku rindu bisik mu di telingaku seraya kau berk...   \n",
       "\n",
       "                                          remove_punc  \\\n",
       "0   soal jln jatibarupolisi tdk bs gertak gubernur...   \n",
       "1   sesama cewe lho kayaknya harusnya bisa lebih r...   \n",
       "2   kepingin gudeg mbarek bu hj amad foto dari goo...   \n",
       "3   jln jatibarubagian dari wilayah tn abangpengat...   \n",
       "4   sharing pengalaman aja kemarin jam 1800 batali...   \n",
       "5   dari sekian banyak thread yang aku baca thread...   \n",
       "6   sharing sama temen tuh emg guna bgt disaat lu ...   \n",
       "7   orang lain kalau pake ponco itu buat jas hujan...   \n",
       "8   contoh mereka yg gemar menyudutkan teriak pali...   \n",
       "9   pulang udah h4 lebaran dilema sekali seperti t...   \n",
       "10  betul min rakyat indonesia sekarang harapan ny...   \n",
       "11  kalaupun fansite ngejual hasil jepretan mereka...   \n",
       "12  sangat bersyukur bisa mendoakan kakeknya bung ...   \n",
       "13  sulit menerima kenyataan memang bahwa ada seba...   \n",
       "14  samanye udeh maling semua gak si jancok gak si...   \n",
       "15  ku juga pengen ngamuk bacain komen2 netizen yg...   \n",
       "16  setiap kesempatan yg pernah hadir tuk dapat me...   \n",
       "17  sedap kali kau ya bobok dikasur ku aku tidur k...   \n",
       "18  h9 mau ke bank rame bgt ampe antrian tempat du...   \n",
       "19  benar2 hancur negara ini dikelola amatiran tp ...   \n",
       "20  budayakan mencari dan membaca sebelum nanya ya...   \n",
       "21  separuh hati ini iri jika melihat seorang anak...   \n",
       "22  ketika aku tersenyum bukan berarti hidupku sem...   \n",
       "23  dari mau tdr tidur sampe bgn tdr kok yaa kayak...   \n",
       "24  kan kupeluk engkau erat2 hingga tak ada seoran...   \n",
       "25  kalo mau ganti presiden itu harus jelas siapa ...   \n",
       "26  sukses n keren banget dgn no1 kualitasbhn krja...   \n",
       "27  udah mau sarjana 2 kali mbokya mulut nya janga...   \n",
       "28  gimana orang ga nilai dr jilbabsyaringgak nya ...   \n",
       "29  hari ini jadwal presentasi proker di lppm karn...   \n",
       "30  foto saya di instagram masih ada cuma lupa pas...   \n",
       "31  drama kmarin sore  seharian puasa trus pas lg ...   \n",
       "32  sungguh mencintaimu berat sekali berpisah deng...   \n",
       "33  4 pas uda dikirim kembali si kurir telp ngeluh...   \n",
       "34  pada akhirnya kita akan melewati semua ini sem...   \n",
       "35  kenapa pasangan seringkali diibaratkan sebagai...   \n",
       "36  ya tau kalo rasa sakit hati memamg sulit tapi ...   \n",
       "37  ponakan kls 4 sd lg demen nonton video tutoria...   \n",
       "38  bberapa tahun kemudian kesejahteraan keluarga ...   \n",
       "39  bukan tidak mendukung atau mendoakan cuma meny...   \n",
       "40  jnejnt selama saya pake entah kirim paketbeli ...   \n",
       "41  gemes bgt sama orang yg masih menganggap wajar...   \n",
       "42  apa hukumnya bermain musik stad jelas haroooom...   \n",
       "43  apa hebatnya mardani menurut sy oeang ini cuma...   \n",
       "44  oh iya ibu nya ngelahirin anak ke 3 yaitu cewe...   \n",
       "45  z suka twitter soalny perempuan ji semua teman...   \n",
       "46  nggak ngerti lagi sama ciwiciwi yang nyinyirin...   \n",
       "47  hari ini libur rencananya mau nonton jurassic ...   \n",
       "48  nah ini yg nunggu anak anteng dengan kesabaran...   \n",
       "49  ku rindu bisik mu di telingaku seraya kau berk...   \n",
       "\n",
       "                                                clean  \n",
       "0   soal jln jatibarupolisi tdk bs gertak gubernur...  \n",
       "1   sama cewe lho kayak lebih rasain lah sibuk jag...  \n",
       "2   kepingin gudeg mbarek bu hj amad foto google s...  \n",
       "3   jln jatibarubagian wilayah tn abangpengaturan ...  \n",
       "4   sharing alam aja kemarin jam 1800 batalin tike...  \n",
       "5    sekian banyak thread aku baca thread paling a...  \n",
       "6   sharing sama temen tuh emg bgt lu ngerasa masa...  \n",
       "7   orang kalau pake ponco buat jas hujan nah pake...  \n",
       "8   contoh yg gemar sudut teriak paling toleran tp...  \n",
       "9   pulang udah h4 lebaran dilema sekali laku apa2...  \n",
       "10  betul min rakyat indonesia sekarang harap nya ...  \n",
       "11  kalaupun fansite ngejual hasil jepret uang nya...  \n",
       "12  sangat syukur doa kakek bung karno sama anakan...  \n",
       "13  sulit terima nyata memang anggap interaksi sat...  \n",
       "14  samanye udeh maling semua gak si jancok gak si...  \n",
       "15  ku ken ngamuk bacain komen2 netizen yg mahaben...  \n",
       "16  tiap sempat yg pernah hadir tuk buat selalu ra...  \n",
       "17  sedap kali kau bobok kasur ku aku tidur kau ik...  \n",
       "18  h9 mau bank rame bgt ampe antri tempat duduk l...  \n",
       "19  benar2 hancur negara kelola amatir tp kenpak u...  \n",
       "20  budaya cari baca nanya udah jelas berkali2 kok...  \n",
       "21  paruh hati iri lihat orang anak yg duduk jalan...  \n",
       "22   aku senyum bukan arti hidup sempurna aku syuk...  \n",
       "23   mau tdr tidur sampe bgn tdr kok yaa kayak nge...  \n",
       "24  kan peluk engkau erat2 hingga tak orang rebut ...  \n",
       "25  kalo mau ganti presiden jelas siapa calon teru...  \n",
       "26  sukses n keren banget dgn no1 kualitasbhn krja...  \n",
       "27  udah mau sarjana 2 kali mbokya mulut nya janga...  \n",
       "28  gimana orang ga nilai dr jilbabsyaringgak nya ...  \n",
       "29  hari jadwal presentasi proker lppm karna prakt...  \n",
       "30  foto instagram cuma lupa password instanya jad...  \n",
       "31  drama kmarin sore hari puasa trus pas lg mandi...  \n",
       "32  sungguh cinta berat sekali pisah hadiahperasaa...  \n",
       "33  4 pas uda kirim si kurir telp ngeluh mager bua...  \n",
       "34   akhir lewat semua semua dulu bayang betapa su...  \n",
       "35   pasang seringkali ibarat bagai rumah rasa nya...  \n",
       "36   tau kalo rasa sakit hati memamg sulit kala ny...  \n",
       "37  ponakan kls 4 sd lg demen nonton video tutoria...  \n",
       "38  bberapa tahun kemudian sejahtera keluarga makm...  \n",
       "39  bukan dukung doa cuma sikap apa sudah2 pilih u...  \n",
       "40  jnejnt lama pake entah kirim paketbeli olshop ...  \n",
       "41  gemes bgt sama orang yg anggap wajar leceh sex...  \n",
       "42  apa hukum main musik stad jelas haroooom hukum...  \n",
       "43  apa hebat mardani turut sy oeang cuma besar mu...  \n",
       "44   iya ibu nya ngelahirin anak 3 cewek tpi gak t...  \n",
       "45  z suka twitter soalny perempuan ji semua teman...  \n",
       "46   ngerti sama ciwiciwi nyinyirin via vallen kor...  \n",
       "47  hari libur rencana mau nonton jurassic world k...  \n",
       "48  nah yg nunggu anak anteng sabar luas samudra t...  \n",
       "49  ku rindu bisik mu telinga kau kata moga kelak ...  "
      ]
     },
     "execution_count": 46,
     "metadata": {},
     "output_type": "execute_result"
    }
   ],
   "source": [
    "prepros (data, name_column_dataset)"
   ]
  },
  {
   "cell_type": "code",
   "execution_count": 47,
   "metadata": {},
   "outputs": [
    {
     "data": {
      "text/plain": [
       "'soal jln jatibarupolisi tdk bs gertak gubernur emangny polisi tdk ikut pmbhasan jgn politik atur wilayahhak gubernur soal tn abang soal turun temurunpelikperlu sabar username username url'"
      ]
     },
     "execution_count": 47,
     "metadata": {},
     "output_type": "execute_result"
    }
   ],
   "source": [
    "df_pre['clean'][0]"
   ]
  },
  {
   "cell_type": "code",
   "execution_count": null,
   "metadata": {},
   "outputs": [],
   "source": []
  }
 ],
 "metadata": {
  "colab": {
   "provenance": []
  },
  "kernelspec": {
   "display_name": "Python 3 (ipykernel)",
   "language": "python",
   "name": "python3"
  },
  "language_info": {
   "codemirror_mode": {
    "name": "ipython",
    "version": 3
   },
   "file_extension": ".py",
   "mimetype": "text/x-python",
   "name": "python",
   "nbconvert_exporter": "python",
   "pygments_lexer": "ipython3",
   "version": "3.9.12"
  }
 },
 "nbformat": 4,
 "nbformat_minor": 1
}
